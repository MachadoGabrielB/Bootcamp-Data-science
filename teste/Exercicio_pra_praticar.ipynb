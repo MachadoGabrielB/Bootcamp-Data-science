{
 "cells": [
  {
   "cell_type": "code",
   "execution_count": null,
   "metadata": {},
   "outputs": [],
   "source": [
    "#-------------------> DIFICULDADE 1 <---------------------------\n",
    "# Um algoritmo capaz de fazer uma contagem de 1 ao 9.\n",
    "\n",
    "# Recebe como entrada o raio do círculo em centímetros e vai mostrar no terminal pro usuário o resultado da fórmula para calcular a área.\n",
    "\n",
    "# Desenvolva um programa que leia um número inteiro qualquer e que apresente o número informado, seguido do seu antecessor e do seu sucessor\n",
    "\n",
    "# Desenvolva um programa que leia um número inteiro qualquer e que informe se este número é par ou impar\n",
    "\n",
    "# Um algoritmo que recebe uma temperatura em graus Celsius e retorna a temperatura em graus Fahrenheit.\n",
    "\n",
    "# Código capaz de criar uma lista que adiciona 5 número reais e imprimir a lista na ordem inversa."
   ]
  },
  {
   "cell_type": "code",
   "execution_count": null,
   "metadata": {},
   "outputs": [],
   "source": [
    "#-------------------> DIFICULDADE 2 <---------------------------\n",
    "# Desenvolva um programa que tenha uma função que verifique se um número inteiro qualquer é par ou impar\n",
    "\n",
    "# Desenvolva um programa que leia quatro notas e que apresente a média final\n",
    "\n",
    "# Considere o seguinte dicionário: {'m1': {'m2': 'Olá Mundo'}}. Carregue e apresente a mensagem \"Olá Mundo\" contida no dicionário\n",
    "\n",
    "# Algoritmo que recebe 5 valores de entrada, no final irá printar duas listas, a primeira com os valores informados e a segunda com todos os valores ao quadrado.\n",
    "\n",
    "# Programa que recebe como entrada 6 valores inteiros, no final ele exibe uma lista com os 6 valores informados e qual o seu maior elemento.\n",
    "\n",
    "# Algoritmo que solicita três lados de um triângulo, com esses dados o nosso programa deve informar a nomenclatura dos triângulos.\n",
    "# Triângulo Equilátero: três lados iguais;\n",
    "# Triângulo Isósceles: quaisquer dois lados iguais;\n",
    "# Triângulo Escaleno: três lados diferentes;\n",
    "\n",
    "# Programa capaz de solicitar 4 valores para representar a nota do aluno, em seguida armazenas os valores em uma lista, no fim mostrar as notas e a média..\n"
   ]
  },
  {
   "cell_type": "code",
   "execution_count": null,
   "metadata": {},
   "outputs": [],
   "source": [
    "#-------------------> DIFICULDADE 3 <---------------------------\n",
    "\n",
    "# Desenvolva um programa que leia um número inteiro qualquer e que apresente o número informado com duas casas decimais\n",
    "\n",
    "# Programa consiste em uma estrutura de repetição que vai fazer a leitura de vários números inteiros e impares, quando a lista chegar a 5 elementos deve parar com a leitura.\n",
    "\n",
    "# Programa capaz de lidar com uma lista de 5 número inteiros e imprimir cada número juntamente com a sua posição na lista"
   ]
  },
  {
   "cell_type": "code",
   "execution_count": null,
   "metadata": {},
   "outputs": [],
   "source": [
    "#-------------------> DIFICULDADE 4 <---------------------------\n",
    "# Programa que simula uma agenda de contatos e armazena-os em um dicionário, na questão temos 3 contatos e cada contato pode ter vários números.\n",
    "\n",
    "# Um programa que le um dicionario com as disciplinas (chaves) e a nota (elemento), o código e capaz de dizer qual foi a menor nota.\n",
    "\n",
    "# Em uma competição de salto em distância cada atleta tem direito a cinco saltos. No final da série de saltos de cada atleta, o melhor e o pior resultados são eliminados. O seu resultado fica sendo a média dos três valores restantes. Você deve fazer um programa que receba o nome e as cinco distâncias alcançadas pelo atleta em seus saltos e depois informe a média dos saltos conforme a descrição acima informada (retirar o melhor e o pior salto e depois calcular a média). Faça uso de uma lista para armazenar os saltos. Os saltos são informados na ordem da execução, portanto não são ordenados. O programa deve ser encerrado quando não for informado o nome do atleta. A saída do programa deve ser conforme o exemplo abaixo:\n",
    "# Atleta: Rodrigo Curvêllo\n",
    "\n",
    "# Primeiro Salto: 6.5 m\n",
    "# Segundo Salto: 6.1 m\n",
    "# Terceiro Salto: 6.2 m\n",
    "# Quarto Salto: 5.4 m\n",
    "# Quinto Salto: 5.3 m\n",
    "\n",
    "# Melhor salto:  6.5 m\n",
    "# Pior salto: 5.3 m\n",
    "# Média dos demais saltos: 5.9 m\n",
    "\n",
    "# Resultado final:\n",
    "# Rodrigo Curvêllo: 5.9 m\n"
   ]
  },
  {
   "cell_type": "code",
   "execution_count": null,
   "metadata": {},
   "outputs": [],
   "source": [
    "#-------------------> DIFICULDADE 5 <---------------------------\n",
    "# Desenvolva um jogo de acerte o número, onde o computador escolhe um número inteiro aleatório de 0 a 10, e o usuário tem 5 tentativas para adivinhar o número\n",
    "#a) Implemente um sistema de pontuação com o seguinte comportamento: se o usuário adivinhar o número na primeira tentativa, receberá a pontuação máxima (ex. 100 pontos); se o usuário adivinhar o número na última tentativa, receberá a pontuação mínima (ex. 10 pontos); se o usuário não acertar o número, não receberá nenhum ponto.\n",
    "#b): Implemente um controle de erros. Caso o jogador digite um número fora da faixa permitida ou caracteres não numéricos, o sistema deve notificar o jogador e solicitar o input correto.\n",
    "#c): Implemente a opção de o usuário iniciar uma nova partida. Ao finalizar uma rodada, após o resultado final, o jogo deve perguntar se o jogador quer iniciar uma nova partida e, em caso negativo, encerrar a aplicação.\n"
   ]
  }
 ],
 "metadata": {
  "language_info": {
   "name": "python"
  },
  "orig_nbformat": 4
 },
 "nbformat": 4,
 "nbformat_minor": 2
}
