{
 "cells": [
  {
   "cell_type": "code",
   "execution_count": null,
   "metadata": {},
   "outputs": [],
   "source": [
    "#-------------------> DIFICULDADE 1 <---------------------------\n",
    "# Um algoritmo capaz de fazer uma contagem de 1 ao 9.\n",
    "a = 0\n",
    "for a in range(0,9) :\n",
    "    a +=1\n",
    "    print(a)"
   ]
  },
  {
   "cell_type": "code",
   "execution_count": 8,
   "metadata": {},
   "outputs": [
    {
     "name": "stdout",
     "output_type": "stream",
     "text": [
      "A área do círculo de raio 1.0 cm tem área de 3.14 cm².\n"
     ]
    }
   ],
   "source": [
    "s# Recebe como entrada o raio do círculo em centímetros e vai mostrar no terminal pro usuário o resultado da fórmula para calcular a área.\n",
    "raio = float(input('Qual o raio do círuclo?'))\n",
    "area = round( 3.14159265358979323846 * raio * raio , 2)\n",
    "\n",
    "print(f'A área do círculo de raio {raio} cm tem área de {area} cm².')"
   ]
  },
  {
   "cell_type": "code",
   "execution_count": 13,
   "metadata": {},
   "outputs": [
    {
     "data": {
      "text/plain": [
       "'O número informado é -1. Seu número antecessor é -2. Seu número sucessor é 0.'"
      ]
     },
     "execution_count": 13,
     "metadata": {},
     "output_type": "execute_result"
    }
   ],
   "source": [
    "# Desenvolva um programa que leia um número inteiro qualquer e que apresente o número informado, seguido do seu antecessor e do seu sucessor\n",
    "\n",
    "z = input('Insira um valor inteiro: ')\n",
    "valid = True\n",
    "\n",
    "while valid == True :\n",
    "    if z.isnumeric() == True or (z[0]=='-' and z[1:].isnumeric()==True):\n",
    "        valid = False\n",
    "    else:\n",
    "        z = input('Valor incorreto. Insira novamente um valor inteiro: ')\n",
    "        valid = True\n",
    "\n",
    "z1 = int(z) - 1\n",
    "z2 = int(z) + 1\n",
    "\n",
    "f'O número informado é {z}. Seu número antecessor é {z1}. Seu número sucessor é {z2}.'\n"
   ]
  },
  {
   "cell_type": "code",
   "execution_count": 26,
   "metadata": {},
   "outputs": [
    {
     "name": "stdout",
     "output_type": "stream",
     "text": [
      "O número -5 é ímpar\n"
     ]
    }
   ],
   "source": [
    "# Desenvolva um programa que leia um número inteiro qualquer e que informe se este número é par ou impar\n",
    "\n",
    "a = input('Insira um valor inteiro: ')\n",
    "valid = True\n",
    "\n",
    "while valid == True :\n",
    "    if a.isnumeric() == True or (a[0]=='-' and a[1:].isnumeric()==True):\n",
    "        valid = False\n",
    "    else:\n",
    "        a = input('Valor incorreto. Insira novamente um valor inteiro: ')\n",
    "        valid = True\n",
    "\n",
    "if (int(a) % 2 == 0) :\n",
    "    print(f'O número {a} é par.')\n",
    "else:\n",
    "    print(f'O número {a} é ímpar')\n",
    "\n"
   ]
  },
  {
   "cell_type": "code",
   "execution_count": 42,
   "metadata": {},
   "outputs": [
    {
     "name": "stdout",
     "output_type": "stream",
     "text": [
      "A equivalência da tempetura  -3 em Celsius em Fahrenheit é -19.44.\n"
     ]
    }
   ],
   "source": [
    "# Um algoritmo que recebe uma temperatura em graus Celsius e retorna a temperatura em graus Fahrenheit.\n",
    "\n",
    "try:\n",
    "  Ct = input('Digite uma temperatura em Celsius: ')\n",
    "  Ft = (float(Ct)-32)*(5/9)\n",
    "  print(f'A equivalência da tempetura {Ct} em Celsius em Fahrenheit é {round(Ft,2)}.')\n",
    "\n",
    "except: \n",
    "  print('Valor inserido inválido.')\n",
    "\n"
   ]
  },
  {
   "cell_type": "code",
   "execution_count": 8,
   "metadata": {},
   "outputs": [
    {
     "name": "stdout",
     "output_type": "stream",
     "text": [
      "A lista formada pelo conjunto de número é [5.0, 4.0, 3.0, 2.0, 1.0].\n",
      "A lista reversa da lista inicial é [1.0, 2.0, 3.0, 4.0, 5.0].\n"
     ]
    }
   ],
   "source": [
    "# Código capaz de criar uma lista que adiciona 5 número reais e imprimir a lista na ordem inversa.\n",
    "\n",
    "try:\n",
    "    conj = []\n",
    "    count = 5\n",
    "    while count != 0:\n",
    "        count -= 1\n",
    "        var = float(input(f'({count + 1}) Adicione um valor: '))\n",
    "        conj.append(var)\n",
    "    \n",
    "    print(f'A lista formada pelo conjunto de número é: {conj}.')\n",
    "\n",
    "    conj1 = list(reversed(conj))\n",
    "\n",
    "    print(f'A lista reversa da lista inicial é: {conj1}.')\n",
    "            \n",
    "\n",
    "except: \n",
    "    print('Valor inserido inválido. Comece novamente.')\n"
   ]
  },
  {
   "cell_type": "code",
   "execution_count": 10,
   "metadata": {},
   "outputs": [
    {
     "name": "stdout",
     "output_type": "stream",
     "text": [
      "O número 3 é ímpar\n"
     ]
    }
   ],
   "source": [
    "#-------------------> DIFICULDADE 2 <---------------------------\n",
    "# Desenvolva um programa que tenha uma função que verifique se um número inteiro qualquer é par ou impar\n",
    "\n",
    "def temp () :\n",
    "\n",
    "    a = input('Insira um valor inteiro: ')\n",
    "    valid = True\n",
    "\n",
    "    while valid == True :\n",
    "        if a.isnumeric() == True or (a[0]=='-' and a[1:].isnumeric()==True):\n",
    "            valid = False\n",
    "        else:\n",
    "            a = input('Valor incorreto. Insira novamente um valor inteiro: ')\n",
    "            valid = True\n",
    "\n",
    "    if (int(a) % 2 == 0) :\n",
    "        print(f'O número {a} é par.')\n",
    "    else:\n",
    "        print(f'O número {a} é ímpar')\n",
    "\n",
    "temp()"
   ]
  },
  {
   "cell_type": "code",
   "execution_count": 26,
   "metadata": {},
   "outputs": [
    {
     "name": "stdout",
     "output_type": "stream",
     "text": [
      "As notas do aluno são: [2.3, 2.0, 3.1, 2.0].\n",
      "A média do aluno é média é 2.35\n"
     ]
    }
   ],
   "source": [
    "# Desenvolva um programa que leia quatro notas e que apresente a média final\n",
    "\n",
    "try:\n",
    "    notas = []\n",
    "    count = 4\n",
    "    while count != 0:\n",
    "        count -= 1\n",
    "        var = float(input(f'({count + 1}) Adicione uma nota: '))\n",
    "        notas.append(var)\n",
    "\n",
    "    media = sum(notas) / 4\n",
    "\n",
    "    print(f'As notas do aluno são: {notas}.\\nA média final do aluno é {media}')\n",
    "\n",
    "except: \n",
    "    print('Valor inserido inválido. Comece novamente.')"
   ]
  },
  {
   "cell_type": "code",
   "execution_count": 55,
   "metadata": {},
   "outputs": [
    {
     "data": {
      "text/plain": [
       "'Olá Mundo'"
      ]
     },
     "execution_count": 55,
     "metadata": {},
     "output_type": "execute_result"
    }
   ],
   "source": [
    "# Considere o seguinte dicionário: {'m1': {'m2': 'Olá Mundo'}}. Carregue e apresente a mensagem \"Olá Mundo\" contida no dicionário\n",
    "dict_exp = {'m1': {'m2': 'Olá Mundo'}}\n",
    "\n",
    "dict1 = dict_exp.get('m1')\n",
    "dict1.get('m2')\n"
   ]
  },
  {
   "cell_type": "code",
   "execution_count": 58,
   "metadata": {},
   "outputs": [
    {
     "name": "stdout",
     "output_type": "stream",
     "text": [
      "Os valores adicionados foram: [5.0, 4.0, 3.0, 2.0, 1.0].\n",
      "E seus respectivos quadrados são: [25.0, 16.0, 9.0, 4.0, 1.0]\n"
     ]
    }
   ],
   "source": [
    "# Algoritmo que recebe 5 valores de entrada, no final irá printar duas listas, a primeira com os valores informados e a segunda com todos os valores ao quadrado.\n",
    "\n",
    "try:\n",
    "    valores1 = []\n",
    "    quadrado1 = []\n",
    "    contador = 5\n",
    "    while contador != 0:\n",
    "        contador -= 1\n",
    "        valores = float(input(f'({contador + 1}) Adicione um valor: '))\n",
    "        valores1.append(valores)\n",
    "\n",
    "    for a in valores1 :\n",
    "        quadrado = a ** 2\n",
    "        quadrado1.append(quadrado)\n",
    "\n",
    "    print(f'Os valores adicionados foram: {valores1}.\\nE seus respectivos quadrados são: {quadrado1}')\n",
    "\n",
    "except: \n",
    "    print('Valor inserido inválido. Comece novamente.')\n"
   ]
  },
  {
   "cell_type": "code",
   "execution_count": 67,
   "metadata": {},
   "outputs": [
    {
     "name": "stdout",
     "output_type": "stream",
     "text": [
      "['3', '2', '3', '2', '-6', '7']\n"
     ]
    },
    {
     "data": {
      "text/plain": [
       "\"A lista de números adicionada é ['3', '2', '3', '2', '-6', '7'] e o maior elemento adicionado é 7.\""
      ]
     },
     "execution_count": 67,
     "metadata": {},
     "output_type": "execute_result"
    }
   ],
   "source": [
    "# Programa que recebe como entrada 6 valores inteiros, no final ele exibe uma lista com os 6 valores informados e qual o seu maior elemento.\n",
    "\n",
    "\n",
    "valores2 = []\n",
    "contadores = 6\n",
    "while contadores != 0:\n",
    "    contadores -= 1\n",
    "    tulipa = input(f'({contadores + 1}) Adicione um valor: ')\n",
    "    valid = True\n",
    "    while valid == True :\n",
    "        if tulipa.isnumeric() == True or (tulipa[0]=='-' and tulipa[1:].isnumeric()==True):\n",
    "            valores2.append(tulipa)\n",
    "            valid = False\n",
    "        else:\n",
    "            tulipa = input('Valor incorreto. Insira novamente um valor inteiro: ')\n",
    "            valid = True\n",
    "print(valores2)\n",
    "\n",
    "lista_sorted = sorted(valores2, reverse = True)\n",
    "\n",
    "\n",
    "f'A lista de números adicionada é {valores2} e o maior elemento adicionado é {lista_sorted[0]}.'\n",
    "\n",
    "\n",
    "\n"
   ]
  },
  {
   "cell_type": "code",
   "execution_count": null,
   "metadata": {},
   "outputs": [],
   "source": [
    "# Algoritmo que solicita três lados de um triângulo, com esses dados o nosso programa deve informar a nomenclatura dos triângulos.\n",
    "# Triângulo Equilátero: três lados iguais;\n",
    "# Triângulo Isósceles: quaisquer dois lados iguais;\n",
    "# Triângulo Escaleno: três lados diferentes;\n",
    "\n",
    "list_1 =[]\n",
    "\n",
    "valid = True\n",
    "while valid == True :\n",
    "  for i in range(3):\n",
    "\n",
    "    valid2 = True\n",
    "    while valid2 == True:\n",
    "      lado = (input(f'Adicione o valor do lado {i+1} : '))\n",
    "      if lado.isnumeric() == False :\n",
    "        print('Valor inserido inválido, favor inserir novamente.')\n",
    "      elif float(lado) <= 0 :\n",
    "        print('Valor inválido, favor inserir novamente.')\n",
    "      else:\n",
    "        list_1.append(float(lado))\n",
    "        valid2 = False\n",
    "\n",
    "  list_1 = sorted(list_1, reverse= True)\n",
    "\n",
    "  if list_1[0] < list_1[1] + list_1[2] :\n",
    "    valid = False\n",
    "  else :\n",
    "    list_1 = []\n",
    "    print('Lados não atendem a proporcionalidade necessária para fazer um triângulo.')\n",
    "\n",
    "\n",
    "if list_1[0] == list_1[1] and list_1[0] == list_1[2] :\n",
    "  print('O triângulo é equilátero.')\n",
    "elif list_1[0] == list_1[1] or list_1[0] == list_1[2] or list_1[1] == list_1[2] :\n",
    "  print('O triângulo é isósceles.')\n",
    "else :\n",
    "  print('O triângulo é escaleno')\n",
    "\n"
   ]
  },
  {
   "cell_type": "code",
   "execution_count": null,
   "metadata": {},
   "outputs": [],
   "source": [
    "# Programa capaz de solicitar 4 valores para representar a nota do aluno, em seguida armazenas os valores em uma lista, no fim mostrar as notas e a média..\n",
    "\n",
    "try:\n",
    "    notas = []\n",
    "    count = 4\n",
    "    while count != 0:\n",
    "        count -= 1\n",
    "        var = float(input(f'({count + 1}) Adicione uma nota: '))\n",
    "        notas.append(var)\n",
    "\n",
    "    media = sum(notas) / 4\n",
    "\n",
    "    print(f'As notas do aluno são: {notas}.\\nA média final do aluno é {media}')\n",
    "\n",
    "except: \n",
    "    print('Valor inserido inválido. Comece novamente.')\n"
   ]
  },
  {
   "cell_type": "code",
   "execution_count": null,
   "metadata": {},
   "outputs": [],
   "source": [
    "#-------------------> DIFICULDADE 3 <---------------------------\n",
    "\n",
    "# Desenvolva um programa que leia um número inteiro qualquer e que apresente o número informado com duas casas decimais\n"
   ]
  },
  {
   "cell_type": "code",
   "execution_count": null,
   "metadata": {},
   "outputs": [],
   "source": [
    "# Programa consiste em uma estrutura de repetição que vai fazer a leitura de vários números inteiros e impares, quando a lista chegar a 5 elementos deve parar com a leitura.\n"
   ]
  },
  {
   "cell_type": "code",
   "execution_count": null,
   "metadata": {},
   "outputs": [],
   "source": [
    "# Programa capaz de lidar com uma lista de 5 número inteiros e imprimir cada número juntamente com a sua posição na lista\n"
   ]
  },
  {
   "cell_type": "code",
   "execution_count": null,
   "metadata": {},
   "outputs": [],
   "source": [
    "#-------------------> DIFICULDADE 4 <---------------------------\n",
    "# Programa que simula uma agenda de contatos e armazena-os em um dicionário, na questão temos 3 contatos e cada contato pode ter vários números.\n"
   ]
  },
  {
   "cell_type": "code",
   "execution_count": null,
   "metadata": {},
   "outputs": [],
   "source": [
    "# Um programa que le um dicionario com as disciplinas (chaves) e a nota (elemento), o código e capaz de dizer qual foi a menor nota.\n"
   ]
  },
  {
   "cell_type": "code",
   "execution_count": null,
   "metadata": {},
   "outputs": [],
   "source": [
    "# Em uma competição de salto em distância cada atleta tem direito a cinco saltos. No final da série de saltos de cada atleta, o melhor e o pior resultados são eliminados. O seu resultado fica sendo a média dos três valores restantes. Você deve fazer um programa que receba o nome e as cinco distâncias alcançadas pelo atleta em seus saltos e depois informe a média dos saltos conforme a descrição acima informada (retirar o melhor e o pior salto e depois calcular a média). Faça uso de uma lista para armazenar os saltos. Os saltos são informados na ordem da execução, portanto não são ordenados. O programa deve ser encerrado quando não for informado o nome do atleta. A saída do programa deve ser conforme o exemplo abaixo:\n",
    "# Atleta: Rodrigo Curvêllo\n",
    "\n",
    "# Primeiro Salto: 6.5 m\n",
    "# Segundo Salto: 6.1 m\n",
    "# Terceiro Salto: 6.2 m\n",
    "# Quarto Salto: 5.4 m\n",
    "# Quinto Salto: 5.3 m\n",
    "\n",
    "# Melhor salto:  6.5 m\n",
    "# Pior salto: 5.3 m\n",
    "# Média dos demais saltos: 5.9 m\n",
    "\n",
    "# Resultado final:\n",
    "# Rodrigo Curvêllo: 5.9 m\n"
   ]
  },
  {
   "cell_type": "code",
   "execution_count": null,
   "metadata": {},
   "outputs": [],
   "source": [
    "#-------------------> DIFICULDADE 5 <---------------------------\n",
    "# Desenvolva um jogo de acerte o número, onde o computador escolhe um número inteiro aleatório de 0 a 10, e o usuário tem 5 tentativas para adivinhar o número\n",
    "#a) Implemente um sistema de pontuação com o seguinte comportamento: se o usuário adivinhar o número na primeira tentativa, receberá a pontuação máxima (ex. 100 pontos); se o usuário adivinhar o número na última tentativa, receberá a pontuação mínima (ex. 10 pontos); se o usuário não acertar o número, não receberá nenhum ponto.\n",
    "#b): Implemente um controle de erros. Caso o jogador digite um número fora da faixa permitida ou caracteres não numéricos, o sistema deve notificar o jogador e solicitar o input correto.\n",
    "#c): Implemente a opção de o usuário iniciar uma nova partida. Ao finalizar uma rodada, após o resultado final, o jogo deve perguntar se o jogador quer iniciar uma nova partida e, em caso negativo, encerrar a aplicação.\n"
   ]
  }
 ],
 "metadata": {
  "kernelspec": {
   "display_name": "Python 3",
   "language": "python",
   "name": "python3"
  },
  "language_info": {
   "codemirror_mode": {
    "name": "ipython",
    "version": 3
   },
   "file_extension": ".py",
   "mimetype": "text/x-python",
   "name": "python",
   "nbconvert_exporter": "python",
   "pygments_lexer": "ipython3",
   "version": "3.11.3"
  },
  "orig_nbformat": 4
 },
 "nbformat": 4,
 "nbformat_minor": 2
}
