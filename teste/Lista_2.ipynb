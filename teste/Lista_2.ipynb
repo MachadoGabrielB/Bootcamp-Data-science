{
  "cells": [
    {
      "attachments": {},
      "cell_type": "markdown",
      "metadata": {
        "colab_type": "text",
        "id": "view-in-github"
      },
      "source": [
        "<a href=\"https://colab.research.google.com/github/CharlesPrado23/Bootcamp_TurmaNoite/blob/main/Conteudo_02/Lista_2.ipynb\" target=\"_parent\"><img src=\"https://colab.research.google.com/assets/colab-badge.svg\" alt=\"Open In Colab\"/></a>"
      ]
    },
    {
      "attachments": {},
      "cell_type": "markdown",
      "metadata": {
        "id": "wqFIo-c2mOYV"
      },
      "source": [
        "1) Dado a lista, abaixo, de temperaturas da cidade de Boulder em Fahrenheit (F):\n",
        "\n",
        " 1.1) Crie uma lista convertendo para Celsius (C). Para converter use a fórmula C = (F-32)*(5/9); Print os valores na tela. \n",
        " \n",
        " 1.2) Crie uma função que receba a lista de temperaturas em Fahrenheit e retorna uma lista em graus Celsius. Print a lista na tela. \n",
        "\n",
        " 1.3) **(Desafio)** Generalize a função criada em 1.2 usando *args para que a função receba  uma quantidade variável de argumentos.\n",
        " \n",
        "\n",
        " F = [47,49,57,64,72,83,89,87,79,67,55,47]; (Temperaturas em F da cidade de Boulder)"
      ]
    },
    {
      "cell_type": "code",
      "execution_count": 2,
      "metadata": {},
      "outputs": [],
      "source": [
        "# 1.1\n",
        "\n",
        "F = [47,49,57,64,72,83,89,87,79,67,55,47]; # (Temperaturas em F da cidade de Boulder)\n",
        "C = []\n",
        "\n",
        "for x in F :\n",
        "    y = round((x-32)*(5/9), 2)\n",
        "    C.append(y)\n"
      ]
    },
    {
      "cell_type": "code",
      "execution_count": 4,
      "metadata": {},
      "outputs": [
        {
          "name": "stdout",
          "output_type": "stream",
          "text": [
            "[47, 49, 57, 64, 72, 83, 89, 87, 79, 67, 55, 47]\n"
          ]
        }
      ],
      "source": [
        "print(F)"
      ]
    },
    {
      "cell_type": "code",
      "execution_count": 5,
      "metadata": {},
      "outputs": [
        {
          "data": {
            "text/plain": [
              "[8.33,\n",
              " 9.44,\n",
              " 13.89,\n",
              " 17.78,\n",
              " 22.22,\n",
              " 28.33,\n",
              " 31.67,\n",
              " 30.56,\n",
              " 26.11,\n",
              " 19.44,\n",
              " 12.78,\n",
              " 8.33]"
            ]
          },
          "execution_count": 5,
          "metadata": {},
          "output_type": "execute_result"
        }
      ],
      "source": [
        "C"
      ]
    },
    {
      "cell_type": "code",
      "execution_count": 6,
      "metadata": {},
      "outputs": [],
      "source": [
        "#1.2\n",
        "\n",
        "def celToFir(t) :\n",
        "    C = []\n",
        "\n",
        "    for x in t :\n",
        "        y = (x-32)*(5/9)\n",
        "        C.append(y)\n",
        "    return C"
      ]
    },
    {
      "cell_type": "code",
      "execution_count": 7,
      "metadata": {},
      "outputs": [
        {
          "data": {
            "text/plain": [
              "[8.333333333333334,\n",
              " 9.444444444444445,\n",
              " 13.88888888888889,\n",
              " 17.77777777777778,\n",
              " 22.22222222222222,\n",
              " 28.333333333333336,\n",
              " 31.666666666666668,\n",
              " 30.555555555555557,\n",
              " 26.11111111111111,\n",
              " 19.444444444444446,\n",
              " 12.777777777777779,\n",
              " 8.333333333333334]"
            ]
          },
          "execution_count": 7,
          "metadata": {},
          "output_type": "execute_result"
        }
      ],
      "source": [
        "A = celToFir(F)\n",
        "A"
      ]
    },
    {
      "cell_type": "code",
      "execution_count": 8,
      "metadata": {},
      "outputs": [],
      "source": [
        "# 1.3\n",
        "\n",
        "def celToFir1(*t) : # tipo de função normalmente utilizada quando se cria para uso geral da comunidade\n",
        "    C = []\n",
        "\n",
        "    for x in t :\n",
        "        y = (x-32)*(5/9)\n",
        "        C.append(y)\n",
        "    return C"
      ]
    },
    {
      "cell_type": "code",
      "execution_count": 9,
      "metadata": {},
      "outputs": [
        {
          "data": {
            "text/plain": [
              "[8.333333333333334,\n",
              " 9.444444444444445,\n",
              " -1.1111111111111112,\n",
              " 10.0,\n",
              " 15.555555555555557]"
            ]
          },
          "execution_count": 9,
          "metadata": {},
          "output_type": "execute_result"
        }
      ],
      "source": [
        "# from datetime import date , biblioteca usada no python para datas  \n",
        "\n",
        "B = celToFir1(F[0],F[1],30,50,60) # você adiciona os argumentos dentro do () , valores da lista F e valores inseridos manualmente\n",
        "B"
      ]
    },
    {
      "attachments": {},
      "cell_type": "markdown",
      "metadata": {
        "id": "G7x5Wph8xXrU"
      },
      "source": [
        "2) Retirado do Livro Python Crash Course\n",
        " \n",
        "(a) Make a class called User. \n",
        "\n",
        "(b) Create two attributes called first_name and last_name, and then create several other attributes that are typically stored in a user profile. \n",
        "\n",
        "(c) Make a method called describe_user() that prints a summary of the user’s information. \n",
        "\n",
        "(d) Make another method called greet_user() that prints a personalized greeting to the user."
      ]
    },
    {
      "attachments": {},
      "cell_type": "markdown",
      "metadata": {
        "id": "mWlXunh5G32H"
      },
      "source": [
        "(e) Add an attribute called login_attempts to your User class from Exercise. \n",
        "\n",
        "(f) Write a method called increment_login_attempts() that increments the value of login_attempts by 1. \n",
        "\n",
        "(g) Write another method called reset_login_attempts() that resets the value of login_attempts to 0.\n",
        "\n",
        "(h) Make an instance of the User class and call increment_login_attempts() several times. \n",
        "\n",
        "(i) Print the value of login_attempts to make sure it was incremented properly, and then call reset_login_attempts(). \n",
        "\n",
        "(j) Print login_attempts again to make sure it was reset to 0."
      ]
    },
    {
      "cell_type": "code",
      "execution_count": 55,
      "metadata": {},
      "outputs": [],
      "source": [
        "def CPF1(teste) :\n",
        "    if len(teste) < 11:\n",
        "        teste = teste.zfill(11)\n",
        "    cpf = '{}.{}.{}-{}'.format(teste[:3], teste[3:6], teste[6:9], teste[9:])\n",
        "    print(cpf) # 123.456.789-00"
      ]
    },
    {
      "cell_type": "code",
      "execution_count": 57,
      "metadata": {},
      "outputs": [
        {
          "name": "stdout",
          "output_type": "stream",
          "text": [
            "123.123.123-12\n"
          ]
        }
      ],
      "source": [
        "CPF1(str(12312312312))"
      ]
    },
    {
      "cell_type": "code",
      "execution_count": 67,
      "metadata": {
        "id": "AruFBhDGisIm"
      },
      "outputs": [],
      "source": [
        "class user :\n",
        "        \n",
        "    def __init__(self, fName, lName, CPF) :\n",
        "        self.fName = fName\n",
        "        self.lName = lName\n",
        "        self.CPF = str(CPF)\n",
        "    \n",
        "    def others_atrib(self, email, age, phone, adr) :\n",
        "        self.email = email\n",
        "        self.age = age\n",
        "        self.phone = phone\n",
        "        self.adr = adr\n",
        "\n",
        "    def CPF1(self) :\n",
        "        if len(self.CPF) < 11:\n",
        "            self.CPF =(self.CPF).zfill(11)\n",
        "        self.CPF = '{}.{}.{}-{}'.format(self.CPF[:3],self.CPF[3:6],self.CPF[6:9],self.CPF[9:])\n",
        "    \n",
        "    def describe_user(self) :\n",
        "        self.CPF1()\n",
        "        print(f'\\nFirst name : {self.fName}\\nLast name: {self.lName}\\nCPF: {self.CPF}')\n",
        "\n",
        "    def greet_user(self) :\n",
        "        print(f'Welcome {self.lName}!')\n",
        "\n",
        "    \n"
      ]
    },
    {
      "cell_type": "code",
      "execution_count": 68,
      "metadata": {},
      "outputs": [],
      "source": [
        "A = user('Gabriel','Machado',12312312300)"
      ]
    },
    {
      "cell_type": "code",
      "execution_count": 69,
      "metadata": {},
      "outputs": [
        {
          "name": "stdout",
          "output_type": "stream",
          "text": [
            "\n",
            "First name : Gabriel\n",
            "Last name: Machado\n",
            "CPF: 123.123.123-00\n"
          ]
        }
      ],
      "source": [
        "user.describe_user(A)"
      ]
    },
    {
      "cell_type": "code",
      "execution_count": 70,
      "metadata": {},
      "outputs": [
        {
          "name": "stdout",
          "output_type": "stream",
          "text": [
            "Welcome Machado!\n"
          ]
        }
      ],
      "source": [
        "user.greet_user(A)"
      ]
    },
    {
      "cell_type": "code",
      "execution_count": 105,
      "metadata": {},
      "outputs": [],
      "source": [
        "# 2 (e) , (f), (g)\n",
        "\n",
        "class login_attempts(user):\n",
        "\n",
        "    def __init__(self, fName, lName, CPF):\n",
        "      ##\"\"\"Initialize attributes of the parent class.\"\"\"\n",
        "      super().__init__(fName, lName, CPF)\n",
        "      self.log_reading = 0\n",
        "\n",
        "    def login_attempts(self) :\n",
        "       self.log_reading += 1\n",
        "    \n",
        "    def reset_login_attempts(self) :\n",
        "       self.log_reading = 0\n",
        "\n",
        "   "
      ]
    },
    {
      "cell_type": "code",
      "execution_count": 106,
      "metadata": {},
      "outputs": [],
      "source": [
        "B = login_attempts('Tomas', \"Aquino\", 12312312312)\n"
      ]
    },
    {
      "cell_type": "code",
      "execution_count": 139,
      "metadata": {},
      "outputs": [
        {
          "data": {
            "text/plain": [
              "6"
            ]
          },
          "execution_count": 139,
          "metadata": {},
          "output_type": "execute_result"
        }
      ],
      "source": [
        "#2 (h) , (i)\n",
        "\n",
        "login_attempts.login_attempts(B)\n",
        "B.log_reading"
      ]
    },
    {
      "cell_type": "code",
      "execution_count": 140,
      "metadata": {},
      "outputs": [
        {
          "data": {
            "text/plain": [
              "0"
            ]
          },
          "execution_count": 140,
          "metadata": {},
          "output_type": "execute_result"
        }
      ],
      "source": [
        "# 2 (i) , (j)\n",
        "\n",
        "login_attempts.reset_login_attempts(B)\n",
        "B.log_reading"
      ]
    },
    {
      "attachments": {},
      "cell_type": "markdown",
      "metadata": {},
      "source": [
        "3) Usando o e-book 'Alice’s Adventures in Wonderland' contido em Alice.txt: \n",
        "\n",
        "(a) Faça um programa que retorne o número total de palavras contidas no e-book; \n",
        "\n",
        "(b) Um programa que retorne um dicionário contendo a frequência de cada palavra. Por exemplo: se a palavra 'guerra' aparece 10 vezes em um texto que contém 50 palavras, então a frequência da palavra 'guerra' é de 20%. \n",
        "\n",
        "(c) Retorne as 20 palavras mais frequentes do e-book; \n"
      ]
    },
    {
      "cell_type": "code",
      "execution_count": null,
      "metadata": {},
      "outputs": [],
      "source": [
        "# 3 (a) contar as palavras com o split"
      ]
    },
    {
      "cell_type": "code",
      "execution_count": null,
      "metadata": {},
      "outputs": [],
      "source": [
        "# 3 (b) , usar o .get do dict"
      ]
    },
    {
      "cell_type": "code",
      "execution_count": null,
      "metadata": {},
      "outputs": [],
      "source": [
        "# 3 (c) orientação/ordem do dicionário através de valor/recorrência."
      ]
    },
    {
      "attachments": {},
      "cell_type": "markdown",
      "metadata": {
        "id": "xos0ytAnitKk"
      },
      "source": [
        "4) Refaça o exercício usando o conceito de Classe e Objeto. A sua Classe deve ser aplicada a qualquer contexto, não somente ao problema acima. De forma que ela seja genérica. Cada método deve representar uma única ação do Objeto e não, especificamente, uma função que executa diversas ações. Pensem em ações atômicas. Boa sorte !"
      ]
    },
    {
      "attachments": {},
      "cell_type": "markdown",
      "metadata": {
        "id": "h5BWhASylUhr"
      },
      "source": [
        "5) Repare que palavras como 'it' e 'it,' serão contabilizados como palavras diferentes por causa da pontuação. Pense em uma forma de se remover possíveis pontuações. Outro caso é 'The' e 'the', que também será processado como palavras diferentes, como resolver isso ? Observe outras situações similares que precisariam de algum pré-processamento.\n",
        "\n",
        " Outro ponto a se observar é que a quantidade de palavras que são artigos, preposições, por exemplos, são muito comuns em textos. Se queremos fazer um análise de relevância de palavras presentes em textos,devemos ou não considerar estes tipos de palavras ?  "
      ]
    }
  ],
  "metadata": {
    "colab": {
      "authorship_tag": "ABX9TyPm5FEjF6NI024DGWEjxcWz",
      "include_colab_link": true,
      "provenance": []
    },
    "kernelspec": {
      "display_name": "Python 3",
      "name": "python3"
    },
    "language_info": {
      "codemirror_mode": {
        "name": "ipython",
        "version": 3
      },
      "file_extension": ".py",
      "mimetype": "text/x-python",
      "name": "python",
      "nbconvert_exporter": "python",
      "pygments_lexer": "ipython3",
      "version": "3.11.3"
    }
  },
  "nbformat": 4,
  "nbformat_minor": 0
}
