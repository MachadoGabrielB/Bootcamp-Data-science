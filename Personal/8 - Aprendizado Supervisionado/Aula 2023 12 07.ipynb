{
 "cells": [
  {
   "cell_type": "markdown",
   "id": "c48f8070",
   "metadata": {},
   "source": [
    "Importando bibliotecas"
   ]
  },
  {
   "cell_type": "code",
   "execution_count": 38,
   "id": "30e1d63e",
   "metadata": {},
   "outputs": [],
   "source": [
    "import pandas as pd\n",
    "import matplotlib.pyplot as plt\n",
    "import matplotlib.cm as cm\n",
    "from ydata_profiling import ProfileReport\n",
    "import numpy as np \n",
    "\n",
    "from sklearn.preprocessing import StandardScaler\n",
    "\n",
    "from sklearn.cluster import KMeans\n",
    "\n",
    "from sklearn.metrics.pairwise import pairwise_distances\n",
    "from scipy.cluster.hierarchy import dendrogram\n",
    "from sklearn.cluster import AgglomerativeClustering\n",
    "\n",
    "from sklearn.metrics import silhouette_samples, silhouette_score"
   ]
  },
  {
   "cell_type": "code",
   "execution_count": 10,
   "id": "2c875078",
   "metadata": {},
   "outputs": [],
   "source": [
    "url = (r'C:\\Users\\Gabriel-PC\\Bootcamp-Data-science\\Personal\\8 - Aprendizado Supervisionado\\Country-data.csv')"
   ]
  },
  {
   "cell_type": "code",
   "execution_count": 11,
   "id": "9d1060e1",
   "metadata": {},
   "outputs": [
    {
     "data": {
      "text/html": [
       "<div>\n",
       "<style scoped>\n",
       "    .dataframe tbody tr th:only-of-type {\n",
       "        vertical-align: middle;\n",
       "    }\n",
       "\n",
       "    .dataframe tbody tr th {\n",
       "        vertical-align: top;\n",
       "    }\n",
       "\n",
       "    .dataframe thead th {\n",
       "        text-align: right;\n",
       "    }\n",
       "</style>\n",
       "<table border=\"1\" class=\"dataframe\">\n",
       "  <thead>\n",
       "    <tr style=\"text-align: right;\">\n",
       "      <th></th>\n",
       "      <th>country</th>\n",
       "      <th>child_mort</th>\n",
       "      <th>exports</th>\n",
       "      <th>health</th>\n",
       "      <th>imports</th>\n",
       "      <th>income</th>\n",
       "      <th>inflation</th>\n",
       "      <th>life_expec</th>\n",
       "      <th>total_fer</th>\n",
       "      <th>gdpp</th>\n",
       "    </tr>\n",
       "  </thead>\n",
       "  <tbody>\n",
       "    <tr>\n",
       "      <th>0</th>\n",
       "      <td>Afghanistan</td>\n",
       "      <td>90.2</td>\n",
       "      <td>10.0</td>\n",
       "      <td>7.58</td>\n",
       "      <td>44.9</td>\n",
       "      <td>1610</td>\n",
       "      <td>9.44</td>\n",
       "      <td>56.2</td>\n",
       "      <td>5.82</td>\n",
       "      <td>553</td>\n",
       "    </tr>\n",
       "    <tr>\n",
       "      <th>1</th>\n",
       "      <td>Albania</td>\n",
       "      <td>16.6</td>\n",
       "      <td>28.0</td>\n",
       "      <td>6.55</td>\n",
       "      <td>48.6</td>\n",
       "      <td>9930</td>\n",
       "      <td>4.49</td>\n",
       "      <td>76.3</td>\n",
       "      <td>1.65</td>\n",
       "      <td>4090</td>\n",
       "    </tr>\n",
       "    <tr>\n",
       "      <th>2</th>\n",
       "      <td>Algeria</td>\n",
       "      <td>27.3</td>\n",
       "      <td>38.4</td>\n",
       "      <td>4.17</td>\n",
       "      <td>31.4</td>\n",
       "      <td>12900</td>\n",
       "      <td>16.10</td>\n",
       "      <td>76.5</td>\n",
       "      <td>2.89</td>\n",
       "      <td>4460</td>\n",
       "    </tr>\n",
       "    <tr>\n",
       "      <th>3</th>\n",
       "      <td>Angola</td>\n",
       "      <td>119.0</td>\n",
       "      <td>62.3</td>\n",
       "      <td>2.85</td>\n",
       "      <td>42.9</td>\n",
       "      <td>5900</td>\n",
       "      <td>22.40</td>\n",
       "      <td>60.1</td>\n",
       "      <td>6.16</td>\n",
       "      <td>3530</td>\n",
       "    </tr>\n",
       "    <tr>\n",
       "      <th>4</th>\n",
       "      <td>Antigua and Barbuda</td>\n",
       "      <td>10.3</td>\n",
       "      <td>45.5</td>\n",
       "      <td>6.03</td>\n",
       "      <td>58.9</td>\n",
       "      <td>19100</td>\n",
       "      <td>1.44</td>\n",
       "      <td>76.8</td>\n",
       "      <td>2.13</td>\n",
       "      <td>12200</td>\n",
       "    </tr>\n",
       "  </tbody>\n",
       "</table>\n",
       "</div>"
      ],
      "text/plain": [
       "               country  child_mort  exports  health  imports  income  \\\n",
       "0          Afghanistan        90.2     10.0    7.58     44.9    1610   \n",
       "1              Albania        16.6     28.0    6.55     48.6    9930   \n",
       "2              Algeria        27.3     38.4    4.17     31.4   12900   \n",
       "3               Angola       119.0     62.3    2.85     42.9    5900   \n",
       "4  Antigua and Barbuda        10.3     45.5    6.03     58.9   19100   \n",
       "\n",
       "   inflation  life_expec  total_fer   gdpp  \n",
       "0       9.44        56.2       5.82    553  \n",
       "1       4.49        76.3       1.65   4090  \n",
       "2      16.10        76.5       2.89   4460  \n",
       "3      22.40        60.1       6.16   3530  \n",
       "4       1.44        76.8       2.13  12200  "
      ]
     },
     "execution_count": 11,
     "metadata": {},
     "output_type": "execute_result"
    }
   ],
   "source": [
    "df = pd.read_csv(url)\n",
    "df.head()"
   ]
  },
  {
   "cell_type": "code",
   "execution_count": 12,
   "id": "f4a75a78",
   "metadata": {},
   "outputs": [
    {
     "data": {
      "text/plain": [
       "167"
      ]
     },
     "execution_count": 12,
     "metadata": {},
     "output_type": "execute_result"
    }
   ],
   "source": [
    "df[\"country\"].unique().size"
   ]
  },
  {
   "cell_type": "code",
   "execution_count": 13,
   "id": "5c1b73d7",
   "metadata": {},
   "outputs": [],
   "source": [
    "# report_df = ProfileReport(df)\n",
    "# report_df"
   ]
  },
  {
   "cell_type": "code",
   "execution_count": 14,
   "id": "8b3e80d2",
   "metadata": {},
   "outputs": [
    {
     "data": {
      "text/plain": [
       "Index(['country', 'child_mort', 'exports', 'health', 'imports', 'income',\n",
       "       'inflation', 'life_expec', 'total_fer', 'gdpp'],\n",
       "      dtype='object')"
      ]
     },
     "execution_count": 14,
     "metadata": {},
     "output_type": "execute_result"
    }
   ],
   "source": [
    "df.columns"
   ]
  },
  {
   "cell_type": "code",
   "execution_count": 15,
   "id": "178e508a",
   "metadata": {},
   "outputs": [
    {
     "data": {
      "text/plain": [
       "<Axes: >"
      ]
     },
     "execution_count": 15,
     "metadata": {},
     "output_type": "execute_result"
    },
    {
     "data": {
      "image/png": "[encoded data removed]",
      "text/plain": [
       "<Figure size 640x480 with 1 Axes>"
      ]
     },
     "metadata": {},
     "output_type": "display_data"
    }
   ],
   "source": [
    "df[df.columns[1]].hist()"
   ]
  },
  {
   "cell_type": "code",
   "execution_count": 16,
   "id": "7c525d68",
   "metadata": {},
   "outputs": [
    {
     "ename": "IndexError",
     "evalue": "too many indices for array: array is 1-dimensional, but 2 were indexed",
     "output_type": "error",
     "traceback": [
      "\u001b[1;31m---------------------------------------------------------------------------\u001b[0m",
      "\u001b[1;31mIndexError\u001b[0m                                Traceback (most recent call last)",
      "Cell \u001b[1;32mIn[16], line 4\u001b[0m\n\u001b[0;32m      2\u001b[0m count \u001b[38;5;241m=\u001b[39m \u001b[38;5;241m0\u001b[39m\n\u001b[0;32m      3\u001b[0m \u001b[38;5;28;01mfor\u001b[39;00m i \u001b[38;5;129;01min\u001b[39;00m df\u001b[38;5;241m.\u001b[39mcolumns[\u001b[38;5;241m1\u001b[39m:]:\n\u001b[1;32m----> 4\u001b[0m     df[i]\u001b[38;5;241m.\u001b[39mhist(ax\u001b[38;5;241m=\u001b[39m\u001b[43max\u001b[49m\u001b[43m[\u001b[49m\u001b[43mcount\u001b[49m\u001b[43m,\u001b[49m\u001b[38;5;241;43m1\u001b[39;49m\u001b[43m]\u001b[49m)\n\u001b[0;32m      5\u001b[0m     count \u001b[38;5;241m=\u001b[39m count \u001b[38;5;241m+\u001b[39m \u001b[38;5;241m1\u001b[39m \n",
      "\u001b[1;31mIndexError\u001b[0m: too many indices for array: array is 1-dimensional, but 2 were indexed"
     ]
    },
    {
     "data": {
      "image/png": "[encoded data removed]",
      "text/plain": [
       "<Figure size 640x480 with 9 Axes>"
      ]
     },
     "metadata": {},
     "output_type": "display_data"
    }
   ],
   "source": [
    "fig, ax = plt.subplots(9, 1, sharex='col', sharey='row')\n",
    "count = 0\n",
    "for i in df.columns[1:]:\n",
    "    df[i].hist(ax=ax[count,1])\n",
    "    count = count + 1 "
   ]
  },
  {
   "cell_type": "code",
   "execution_count": 17,
   "id": "0d8e5e51",
   "metadata": {},
   "outputs": [
    {
     "data": {
      "image/png": "[encoded data removed]",
      "text/plain": [
       "<Figure size 640x480 with 9 Axes>"
      ]
     },
     "metadata": {},
     "output_type": "display_data"
    }
   ],
   "source": [
    "fig, ax = plt.subplots(3, 3, sharex='col', sharey='row')\n",
    "m=1\n",
    "for i in range(3):\n",
    "    for j in range(3):\n",
    "\n",
    "        df.hist(column = df.columns[m], ax=ax[i,j], figsize=(40, 36))\n",
    "        m+=1"
   ]
  },
  {
   "cell_type": "markdown",
   "id": "1bab3351",
   "metadata": {},
   "source": [
    "### Criando Modelos"
   ]
  },
  {
   "cell_type": "markdown",
   "id": "bc75c0b0",
   "metadata": {},
   "source": [
    "#### Tratando dados"
   ]
  },
  {
   "cell_type": "code",
   "execution_count": 18,
   "id": "d09a1068",
   "metadata": {},
   "outputs": [
    {
     "data": {
      "text/html": [
       "<div>\n",
       "<style scoped>\n",
       "    .dataframe tbody tr th:only-of-type {\n",
       "        vertical-align: middle;\n",
       "    }\n",
       "\n",
       "    .dataframe tbody tr th {\n",
       "        vertical-align: top;\n",
       "    }\n",
       "\n",
       "    .dataframe thead th {\n",
       "        text-align: right;\n",
       "    }\n",
       "</style>\n",
       "<table border=\"1\" class=\"dataframe\">\n",
       "  <thead>\n",
       "    <tr style=\"text-align: right;\">\n",
       "      <th></th>\n",
       "      <th>child_mort</th>\n",
       "      <th>exports</th>\n",
       "      <th>health</th>\n",
       "      <th>imports</th>\n",
       "      <th>income</th>\n",
       "      <th>inflation</th>\n",
       "      <th>life_expec</th>\n",
       "      <th>total_fer</th>\n",
       "      <th>gdpp</th>\n",
       "    </tr>\n",
       "  </thead>\n",
       "  <tbody>\n",
       "    <tr>\n",
       "      <th>0</th>\n",
       "      <td>90.2</td>\n",
       "      <td>10.0</td>\n",
       "      <td>7.58</td>\n",
       "      <td>44.9</td>\n",
       "      <td>1610</td>\n",
       "      <td>9.44</td>\n",
       "      <td>56.2</td>\n",
       "      <td>5.82</td>\n",
       "      <td>553</td>\n",
       "    </tr>\n",
       "    <tr>\n",
       "      <th>1</th>\n",
       "      <td>16.6</td>\n",
       "      <td>28.0</td>\n",
       "      <td>6.55</td>\n",
       "      <td>48.6</td>\n",
       "      <td>9930</td>\n",
       "      <td>4.49</td>\n",
       "      <td>76.3</td>\n",
       "      <td>1.65</td>\n",
       "      <td>4090</td>\n",
       "    </tr>\n",
       "    <tr>\n",
       "      <th>2</th>\n",
       "      <td>27.3</td>\n",
       "      <td>38.4</td>\n",
       "      <td>4.17</td>\n",
       "      <td>31.4</td>\n",
       "      <td>12900</td>\n",
       "      <td>16.10</td>\n",
       "      <td>76.5</td>\n",
       "      <td>2.89</td>\n",
       "      <td>4460</td>\n",
       "    </tr>\n",
       "    <tr>\n",
       "      <th>3</th>\n",
       "      <td>119.0</td>\n",
       "      <td>62.3</td>\n",
       "      <td>2.85</td>\n",
       "      <td>42.9</td>\n",
       "      <td>5900</td>\n",
       "      <td>22.40</td>\n",
       "      <td>60.1</td>\n",
       "      <td>6.16</td>\n",
       "      <td>3530</td>\n",
       "    </tr>\n",
       "    <tr>\n",
       "      <th>4</th>\n",
       "      <td>10.3</td>\n",
       "      <td>45.5</td>\n",
       "      <td>6.03</td>\n",
       "      <td>58.9</td>\n",
       "      <td>19100</td>\n",
       "      <td>1.44</td>\n",
       "      <td>76.8</td>\n",
       "      <td>2.13</td>\n",
       "      <td>12200</td>\n",
       "    </tr>\n",
       "    <tr>\n",
       "      <th>...</th>\n",
       "      <td>...</td>\n",
       "      <td>...</td>\n",
       "      <td>...</td>\n",
       "      <td>...</td>\n",
       "      <td>...</td>\n",
       "      <td>...</td>\n",
       "      <td>...</td>\n",
       "      <td>...</td>\n",
       "      <td>...</td>\n",
       "    </tr>\n",
       "    <tr>\n",
       "      <th>162</th>\n",
       "      <td>29.2</td>\n",
       "      <td>46.6</td>\n",
       "      <td>5.25</td>\n",
       "      <td>52.7</td>\n",
       "      <td>2950</td>\n",
       "      <td>2.62</td>\n",
       "      <td>63.0</td>\n",
       "      <td>3.50</td>\n",
       "      <td>2970</td>\n",
       "    </tr>\n",
       "    <tr>\n",
       "      <th>163</th>\n",
       "      <td>17.1</td>\n",
       "      <td>28.5</td>\n",
       "      <td>4.91</td>\n",
       "      <td>17.6</td>\n",
       "      <td>16500</td>\n",
       "      <td>45.90</td>\n",
       "      <td>75.4</td>\n",
       "      <td>2.47</td>\n",
       "      <td>13500</td>\n",
       "    </tr>\n",
       "    <tr>\n",
       "      <th>164</th>\n",
       "      <td>23.3</td>\n",
       "      <td>72.0</td>\n",
       "      <td>6.84</td>\n",
       "      <td>80.2</td>\n",
       "      <td>4490</td>\n",
       "      <td>12.10</td>\n",
       "      <td>73.1</td>\n",
       "      <td>1.95</td>\n",
       "      <td>1310</td>\n",
       "    </tr>\n",
       "    <tr>\n",
       "      <th>165</th>\n",
       "      <td>56.3</td>\n",
       "      <td>30.0</td>\n",
       "      <td>5.18</td>\n",
       "      <td>34.4</td>\n",
       "      <td>4480</td>\n",
       "      <td>23.60</td>\n",
       "      <td>67.5</td>\n",
       "      <td>4.67</td>\n",
       "      <td>1310</td>\n",
       "    </tr>\n",
       "    <tr>\n",
       "      <th>166</th>\n",
       "      <td>83.1</td>\n",
       "      <td>37.0</td>\n",
       "      <td>5.89</td>\n",
       "      <td>30.9</td>\n",
       "      <td>3280</td>\n",
       "      <td>14.00</td>\n",
       "      <td>52.0</td>\n",
       "      <td>5.40</td>\n",
       "      <td>1460</td>\n",
       "    </tr>\n",
       "  </tbody>\n",
       "</table>\n",
       "<p>167 rows × 9 columns</p>\n",
       "</div>"
      ],
      "text/plain": [
       "     child_mort  exports  health  imports  income  inflation  life_expec  \\\n",
       "0          90.2     10.0    7.58     44.9    1610       9.44        56.2   \n",
       "1          16.6     28.0    6.55     48.6    9930       4.49        76.3   \n",
       "2          27.3     38.4    4.17     31.4   12900      16.10        76.5   \n",
       "3         119.0     62.3    2.85     42.9    5900      22.40        60.1   \n",
       "4          10.3     45.5    6.03     58.9   19100       1.44        76.8   \n",
       "..          ...      ...     ...      ...     ...        ...         ...   \n",
       "162        29.2     46.6    5.25     52.7    2950       2.62        63.0   \n",
       "163        17.1     28.5    4.91     17.6   16500      45.90        75.4   \n",
       "164        23.3     72.0    6.84     80.2    4490      12.10        73.1   \n",
       "165        56.3     30.0    5.18     34.4    4480      23.60        67.5   \n",
       "166        83.1     37.0    5.89     30.9    3280      14.00        52.0   \n",
       "\n",
       "     total_fer   gdpp  \n",
       "0         5.82    553  \n",
       "1         1.65   4090  \n",
       "2         2.89   4460  \n",
       "3         6.16   3530  \n",
       "4         2.13  12200  \n",
       "..         ...    ...  \n",
       "162       3.50   2970  \n",
       "163       2.47  13500  \n",
       "164       1.95   1310  \n",
       "165       4.67   1310  \n",
       "166       5.40   1460  \n",
       "\n",
       "[167 rows x 9 columns]"
      ]
     },
     "execution_count": 18,
     "metadata": {},
     "output_type": "execute_result"
    }
   ],
   "source": [
    "df_1 = df[df.columns[1:]]\n",
    "\n",
    "df_1"
   ]
  },
  {
   "cell_type": "code",
   "execution_count": 19,
   "id": "21fe0b2e",
   "metadata": {},
   "outputs": [],
   "source": [
    "# Padronização dos dados e criando modelo\n",
    "\n",
    "Scaler = StandardScaler().fit(df_1)"
   ]
  },
  {
   "cell_type": "code",
   "execution_count": 20,
   "id": "c7f6ccd9",
   "metadata": {},
   "outputs": [],
   "source": [
    "X = Scaler.transform(df_1)"
   ]
  },
  {
   "cell_type": "markdown",
   "id": "5bf6271c",
   "metadata": {},
   "source": [
    "### K-Means"
   ]
  },
  {
   "cell_type": "code",
   "execution_count": 21,
   "id": "a9a68794",
   "metadata": {},
   "outputs": [
    {
     "name": "stderr",
     "output_type": "stream",
     "text": [
      "c:\\Users\\Gabriel-PC\\Bootcamp-Data-science\\.venv\\lib\\site-packages\\sklearn\\cluster\\_kmeans.py:1412: FutureWarning: The default value of `n_init` will change from 10 to 'auto' in 1.4. Set the value of `n_init` explicitly to suppress the warning\n",
      "  super()._check_params_vs_input(X, default_n_init=10)\n"
     ]
    }
   ],
   "source": [
    "kmeans = KMeans(n_clusters= 3).fit(X)"
   ]
  },
  {
   "cell_type": "code",
   "execution_count": 22,
   "id": "4c8b3274",
   "metadata": {},
   "outputs": [
    {
     "data": {
      "text/plain": [
       "array([1, 2, 2, 1, 2, 2, 2, 0, 0, 2, 2, 0, 2, 2, 2, 0, 2, 1, 2, 2, 2, 1,\n",
       "       2, 0, 2, 1, 1, 2, 1, 0, 2, 1, 1, 2, 2, 2, 1, 1, 1, 2, 1, 2, 0, 0,\n",
       "       0, 2, 2, 2, 2, 1, 1, 2, 2, 0, 0, 1, 1, 2, 0, 1, 0, 2, 2, 1, 1, 2,\n",
       "       1, 2, 0, 2, 2, 2, 1, 0, 0, 0, 2, 0, 2, 2, 1, 1, 0, 2, 1, 2, 2, 1,\n",
       "       1, 2, 2, 0, 2, 1, 1, 2, 2, 1, 0, 1, 2, 2, 2, 2, 2, 2, 1, 2, 1, 2,\n",
       "       0, 0, 1, 1, 0, 2, 1, 2, 2, 2, 2, 2, 0, 0, 2, 2, 1, 2, 2, 1, 2, 2,\n",
       "       1, 0, 0, 0, 2, 1, 0, 0, 2, 2, 1, 2, 0, 0, 2, 1, 2, 1, 1, 2, 2, 2,\n",
       "       2, 1, 2, 0, 0, 0, 2, 2, 2, 2, 2, 1, 1])"
      ]
     },
     "execution_count": 22,
     "metadata": {},
     "output_type": "execute_result"
    }
   ],
   "source": [
    "y_kmeans = kmeans.predict(X)\n",
    "y_kmeans"
   ]
  },
  {
   "cell_type": "code",
   "execution_count": 46,
   "id": "ff95628d",
   "metadata": {},
   "outputs": [
    {
     "data": {
      "text/plain": [
       "0.28329575683463126"
      ]
     },
     "execution_count": 46,
     "metadata": {},
     "output_type": "execute_result"
    }
   ],
   "source": [
    "silhouete_kmeans = silhouette_score(X, y_kmeans)\n",
    "\n",
    "silhouete_kmeans"
   ]
  },
  {
   "cell_type": "code",
   "execution_count": 23,
   "id": "0f41fe78",
   "metadata": {},
   "outputs": [
    {
     "name": "stderr",
     "output_type": "stream",
     "text": [
      "c:\\Users\\Gabriel-PC\\Bootcamp-Data-science\\.venv\\lib\\site-packages\\sklearn\\cluster\\_kmeans.py:1412: FutureWarning: The default value of `n_init` will change from 10 to 'auto' in 1.4. Set the value of `n_init` explicitly to suppress the warning\n",
      "  super()._check_params_vs_input(X, default_n_init=10)\n"
     ]
    },
    {
     "data": {
      "text/plain": [
       "array([[  1.17959063,  33.4263992 ,  13.74546212],\n",
       "       [ 12.9766085 ,  10.13805124,   0.70062052],\n",
       "       [  9.81085648,  14.02034427,   2.0011834 ],\n",
       "       [  5.14190122,  38.8766624 ,  18.69362974],\n",
       "       [ 14.60131718,   6.25170839,   1.12898346],\n",
       "       [ 13.60394296,  12.88004434,   4.68689944],\n",
       "       [ 11.65707723,  14.24889347,   1.24345315],\n",
       "       [ 29.56234093,   4.03043255,  12.78278558],\n",
       "       [ 31.12141804,   0.88705572,  12.39082446],\n",
       "       [  9.37581309,  12.6012245 ,   2.31876275],\n",
       "       [ 15.689021  ,   3.650707  ,   2.84795197],\n",
       "       [ 19.11499045,   4.10078928,   4.4662437 ],\n",
       "       [  8.19768363,  20.7118433 ,   3.78148766],\n",
       "       [ 15.03427453,   5.45357583,   1.5441977 ],\n",
       "       [ 13.89447811,  10.68409766,   1.79323073],\n",
       "       [ 32.03413802,   1.89804711,  13.49771119],\n",
       "       [ 10.45618685,  11.53362859,   1.28306857],\n",
       "       [  2.25665927,  32.3256368 ,  12.47467979],\n",
       "       [  8.86872905,  13.73036832,   1.51476294],\n",
       "       [  5.44942046,  15.57272189,   1.49306559],\n",
       "       [ 18.75655921,   9.87024531,   4.52746418],\n",
       "       [  4.34333491,  16.14053043,   4.50922983],\n",
       "       [ 14.34378368,  12.24237764,   4.63080172],\n",
       "       [ 36.12386366,  11.16421253,  19.41194382],\n",
       "       [ 14.4308884 ,   7.45696539,   0.9791368 ],\n",
       "       [  1.3693003 ,  35.54804556,  15.48509333],\n",
       "       [  4.93906633,  36.43657566,  18.93552582],\n",
       "       [  6.18370142,  15.71630294,   2.10849945],\n",
       "       [  1.79442104,  32.85168668,  13.02391967],\n",
       "       [ 29.99126623,   2.888699  ,  12.7778954 ],\n",
       "       [  9.96792105,  14.39048963,   1.69158719],\n",
       "       [  6.23796134,  49.47208541,  25.0769824 ],\n",
       "       [  4.04345495,  44.05760411,  22.39562155],\n",
       "       [ 15.45856402,   6.26454896,   1.83730632],\n",
       "       [ 13.09088732,  13.18495912,   1.81924426],\n",
       "       [ 13.38129949,  12.14300305,   2.90281169],\n",
       "       [  2.07148034,  26.18169888,   7.6549727 ],\n",
       "       [  2.71712072,  38.50352031,  18.77150418],\n",
       "       [  7.7388017 ,  29.99976146,  12.48875298],\n",
       "       [ 17.58216634,   8.50215239,   4.18026358],\n",
       "       [  1.51440289,  31.61632193,  12.88834313],\n",
       "       [ 16.32037251,   5.57557981,   1.78323422],\n",
       "       [ 22.88883915,   2.07243593,   4.81857078],\n",
       "       [ 21.63204099,   3.03478414,   4.40091389],\n",
       "       [ 32.87539586,   1.83553917,  15.45855617],\n",
       "       [  8.45360283,  11.8522296 ,   0.98047544],\n",
       "       [ 10.00173226,  10.79942579,   1.34142807],\n",
       "       [  6.63617644,  16.41386056,   2.10441988],\n",
       "       [ 10.38411198,  11.24206062,   0.65810066],\n",
       "       [ 10.09077474,  27.23944395,  18.07960005],\n",
       "       [  4.32623981,  31.06665786,   9.51374321],\n",
       "       [ 19.60520479,   5.87931444,   3.67123383],\n",
       "       [  8.60431051,  14.25102208,   2.08728385],\n",
       "       [ 26.45483456,   1.07280858,   9.39000102],\n",
       "       [ 27.95133864,   3.87729059,  11.89139387],\n",
       "       [  4.91233864,  21.50257213,   7.26124087],\n",
       "       [  1.48217631,  26.69938719,   8.81613712],\n",
       "       [ 12.36321011,  10.85395645,   2.3261848 ],\n",
       "       [ 29.58450558,   1.92468168,  11.60878592],\n",
       "       [  0.95717166,  24.53083807,   6.17427125],\n",
       "       [ 23.11944171,   4.41449256,   6.80514615],\n",
       "       [ 10.61525005,  10.90902355,   0.9091977 ],\n",
       "       [  5.63439426,  13.96061863,   1.37547589],\n",
       "       [  0.68738659,  33.99693681,  12.98412517],\n",
       "       [  2.15234417,  33.39357565,  14.75930528],\n",
       "       [  8.33323775,  15.7203139 ,   3.03755828],\n",
       "       [ 20.31706518,  69.82093352,  44.82949571],\n",
       "       [ 21.82602102,   6.65837642,   5.26368475],\n",
       "       [ 25.59147939,   0.53547884,   8.63226497],\n",
       "       [  5.16218642,  20.39757764,   3.44604544],\n",
       "       [  9.23926563,  20.05595518,   3.9483542 ],\n",
       "       [ 12.67466934,  12.86049661,   2.59937173],\n",
       "       [  4.06683579,  16.26834643,   4.46683785],\n",
       "       [ 39.4999611 ,   5.21389624,  19.44315302],\n",
       "       [ 18.4178183 ,   3.39976235,   4.88320651],\n",
       "       [ 26.08413807,   3.08499053,   8.60078205],\n",
       "       [ 10.60405092,  12.28509489,   0.53931321],\n",
       "       [ 30.70999622,   5.70243487,  12.75416103],\n",
       "       [  9.78666083,  11.10395222,   2.30160284],\n",
       "       [  9.30277298,  13.70322448,   2.78268032],\n",
       "       [  2.41052183,  23.74953436,   5.89471009],\n",
       "       [  8.17730605,  24.02446523,  10.87997491],\n",
       "       [ 33.98342478,   9.15983152,  17.48105722],\n",
       "       [  8.57019138,  16.09355365,   3.12341236],\n",
       "       [  2.6085327 ,  21.08307611,   4.08583573],\n",
       "       [ 16.19253485,   6.41228553,   1.6953206 ],\n",
       "       [ 17.16988962,   7.06018301,   1.86218349],\n",
       "       [ 12.93232221,  36.59802306,  21.55922228],\n",
       "       [  8.8423597 ,  30.90168062,  16.66658107],\n",
       "       [ 14.96126293,   8.59380043,   3.08416352],\n",
       "       [ 17.37295582,   5.95710181,   2.59122493],\n",
       "       [115.34585189,  49.77089361,  87.58985503],\n",
       "       [ 14.21491821,   8.97643017,   0.99944229],\n",
       "       [  1.74796167,  26.31421571,   6.72550873],\n",
       "       [  0.69854378,  33.71287281,  13.14383779],\n",
       "       [ 18.60598367,   9.96504296,   4.70077897],\n",
       "       [ 16.7832205 ,   8.93231639,   3.01149836],\n",
       "       [  3.19549978,  40.88516596,  19.70440187],\n",
       "       [ 62.04018841,  32.20540212,  40.00827579],\n",
       "       [  3.22985138,  26.82303436,   9.27862816],\n",
       "       [ 14.43246322,   7.96036769,   1.22998016],\n",
       "       [ 14.63628611,  21.39689344,  12.70748698],\n",
       "       [ 17.24127183,  14.81763689,   6.66715825],\n",
       "       [ 13.4308965 ,  25.51014492,   9.98597163],\n",
       "       [ 16.06533394,   7.60632655,   2.30441853],\n",
       "       [  8.69984703,  13.0675029 ,   0.90430239],\n",
       "       [  0.87574365,  34.13096682,  13.47522694],\n",
       "       [ 11.22836246,  30.10238332,  10.27456366],\n",
       "       [  3.51704121,  17.77885859,   4.6350202 ],\n",
       "       [  5.73440059,  20.32133898,   3.17656749],\n",
       "       [ 35.36615757,   1.97941001,  16.36542416],\n",
       "       [ 22.19909299,   3.06334248,   7.23809305],\n",
       "       [  4.45012744,  43.18627049,  21.89232738],\n",
       "       [ 78.66773399, 128.97055594, 100.50898672],\n",
       "       [ 48.52848274,   8.4736521 ,  29.76797238],\n",
       "       [ 18.86020125,   9.03559261,   6.87544104],\n",
       "       [  4.64753458,  30.14325976,   9.61447069],\n",
       "       [ 16.33348018,   8.02116903,   3.90855965],\n",
       "       [  9.47297234,  10.98606691,   0.56036151],\n",
       "       [ 11.69888665,  12.67157689,   1.74470911],\n",
       "       [  6.71400387,  16.88969234,   1.98477174],\n",
       "       [ 16.57045715,   5.32539495,   1.59972462],\n",
       "       [ 22.83285025,   4.31290619,   6.3838568 ],\n",
       "       [ 72.15398134,  27.43858758,  51.45731008],\n",
       "       [ 13.3248446 ,   8.76913503,   0.80201492],\n",
       "       [ 12.98992276,  11.75869541,   2.77830835],\n",
       "       [  4.74418068,  23.21072573,   8.77254617],\n",
       "       [  6.68527291,  14.86979156,   2.53645375],\n",
       "       [ 15.84936895,   7.96399252,   5.52703809],\n",
       "       [  1.76326071,  23.82424029,   6.66755536],\n",
       "       [ 16.08420696,   8.84161197,   2.9877563 ],\n",
       "       [ 27.4539582 ,  16.89629851,  12.71108837],\n",
       "       [  9.60289113,  45.97166377,  28.14582738],\n",
       "       [108.08529839,  57.86485574,  79.39914675],\n",
       "       [ 22.54753549,   5.10709351,   5.99280056],\n",
       "       [ 23.58291297,   2.32692598,   5.82886149],\n",
       "       [  6.96048061,  19.46191407,   6.41864052],\n",
       "       [  5.62589542,  19.37932422,   6.90939024],\n",
       "       [ 21.14803235,   2.63455109,   3.36122451],\n",
       "       [ 24.99922568,   3.64534802,   7.50851672],\n",
       "       [ 13.76811925,  20.30938451,   4.98858446],\n",
       "       [ 10.52110581,  12.46828159,   0.94696161],\n",
       "       [  2.53674379,  27.25092806,   9.02804735],\n",
       "       [  8.64509211,   8.85728409,   0.55385978],\n",
       "       [ 29.90196773,   0.87215453,  12.0801099 ],\n",
       "       [ 46.48069674,   4.48577949,  25.5602082 ],\n",
       "       [  4.14632514,  19.10913192,   3.01595661],\n",
       "       [  0.90098535,  29.03458566,   9.76079776],\n",
       "       [ 17.01277374,  10.71583743,   2.5321909 ],\n",
       "       [  7.26824657,  31.98547101,  15.08960261],\n",
       "       [  1.86063568,  25.95903685,   9.566074  ],\n",
       "       [  7.31998719,  17.37280995,   3.04842733],\n",
       "       [ 12.76995999,   9.09402426,   0.63833793],\n",
       "       [ 13.15500799,   9.20668996,   1.92359261],\n",
       "       [  9.60673427,  18.01694569,   5.28204483],\n",
       "       [  2.20646543,  33.30450089,  14.78142706],\n",
       "       [ 12.13364337,  11.2068283 ,   1.25664957],\n",
       "       [ 28.53527938,   5.87084285,  11.75662266],\n",
       "       [ 24.15373145,   2.38103154,   8.21938467],\n",
       "       [ 45.90581889,  16.28802734,  30.99683127],\n",
       "       [ 13.96564641,   7.90651252,   2.19323737],\n",
       "       [  6.84941334,  16.90471913,   2.03642976],\n",
       "       [  5.26473907,  16.94038418,   2.60106608],\n",
       "       [ 22.23530188,  27.46806847,  15.45083808],\n",
       "       [ 14.51893135,  13.48957741,   3.72912138],\n",
       "       [  3.27328949,  24.37008315,   6.66360175],\n",
       "       [  1.16139706,  33.23446836,  13.18701346]])"
      ]
     },
     "execution_count": 23,
     "metadata": {},
     "output_type": "execute_result"
    }
   ],
   "source": [
    "dist_cent = kmeans.fit_transform(X)**2\n",
    "\n",
    "dist_cent"
   ]
  },
  {
   "cell_type": "code",
   "execution_count": 29,
   "id": "51aec4e3",
   "metadata": {},
   "outputs": [
    {
     "data": {
      "text/plain": [
       "array([ 48.35145195,  23.81528025,  25.83238414,  62.71219336,\n",
       "        21.98200903,  31.17088674,  27.14942386,  46.37555906,\n",
       "        44.39929822,  24.29580033,  22.18767998,  27.68202343,\n",
       "        32.69101459,  22.03204806,  26.3718065 ,  47.42989633,\n",
       "        23.27288401,  47.05697585,  24.1138603 ,  22.51520793,\n",
       "        33.15426869,  24.99309517,  31.21696304,  66.70002001,\n",
       "        22.86699059,  52.40243919,  60.31116781,  24.00850381,\n",
       "        47.67002739,  45.65786063,  26.04999786,  80.78702915,\n",
       "        70.49668061,  23.5604193 ,  28.09509071,  28.42711423,\n",
       "        35.90815192,  59.99214521,  50.22731614,  30.2645823 ,\n",
       "        46.01906795,  23.67918655,  29.77984587,  29.06773902,\n",
       "        50.1694912 ,  21.28630787,  22.14258611,  25.15445688,\n",
       "        22.28427327,  55.40981873,  44.90664088,  29.15575307,\n",
       "        24.94261644,  36.91764416,  43.72002309,  33.67615164,\n",
       "        36.99770061,  25.54335136,  43.11797317,  31.66228098,\n",
       "        34.33908041,  22.4334713 ,  20.97048878,  47.66844857,\n",
       "        50.30522509,  27.09110993, 134.96749442,  33.74808219,\n",
       "        34.75922321,  29.00580949,  33.24357502,  28.13453768,\n",
       "        24.80202008,  64.15701036,  26.70078716,  37.76991065,\n",
       "        23.42845901,  49.16659212,  23.19221589,  25.78867777,\n",
       "        32.05476628,  43.08174618,  60.62431351,  27.78715739,\n",
       "        27.77744455,  24.30014098,  26.09225613,  71.08956754,\n",
       "        56.41062138,  26.63922688,  25.92128256, 252.70660054,\n",
       "        24.19079067,  34.78768611,  47.55525438,  33.2718056 ,\n",
       "        28.72703525,  63.78506761, 134.25386632,  39.33151391,\n",
       "        23.62281107,  48.74066652,  38.72606697,  48.92701305,\n",
       "        25.97607902,  22.67165232,  48.48193741,  51.60530944,\n",
       "        25.93092   ,  29.23230706,  53.71099175,  32.50052852,\n",
       "        69.52872531, 308.14727665,  86.77010722,  34.7712349 ,\n",
       "        44.40526503,  28.26320885,  21.01940076,  26.11517265,\n",
       "        25.58846795,  23.49557672,  33.52961324, 151.049879  ,\n",
       "        22.89599454,  27.52692652,  36.72745258,  24.09151821,\n",
       "        29.34039956,  32.25505636,  27.91357523,  57.06134507,\n",
       "        83.72038228, 245.34930088,  33.64742956,  31.73870045,\n",
       "        32.84103519,  31.91460989,  27.14380794,  36.15309042,\n",
       "        39.06608821,  23.93634901,  38.8157192 ,  18.05623598,\n",
       "        42.85423217,  76.52668443,  26.27141367,  39.69636877,\n",
       "        30.26080206,  54.34332018,  37.38574653,  27.74122448,\n",
       "        22.50232218,  24.28529057,  32.90572479,  50.29239338,\n",
       "        24.59712125,  46.1627449 ,  34.75414766,  93.1906775 ,\n",
       "        24.0653963 ,  25.79056223,  24.80618933,  65.15420843,\n",
       "        31.73763014,  34.30697439,  47.58287888])"
      ]
     },
     "execution_count": 29,
     "metadata": {},
     "output_type": "execute_result"
    }
   ],
   "source": [
    "dist_cent_1 = dist_cent.sum(axis= 1)\n",
    "\n",
    "dist_cent_1"
   ]
  },
  {
   "cell_type": "code",
   "execution_count": 30,
   "id": "5bc825d0",
   "metadata": {},
   "outputs": [],
   "source": [
    "df_1['dist'] = dist_cent_1"
   ]
  },
  {
   "cell_type": "code",
   "execution_count": 31,
   "id": "1bd3147e",
   "metadata": {},
   "outputs": [
    {
     "data": {
      "text/html": [
       "<div>\n",
       "<style scoped>\n",
       "    .dataframe tbody tr th:only-of-type {\n",
       "        vertical-align: middle;\n",
       "    }\n",
       "\n",
       "    .dataframe tbody tr th {\n",
       "        vertical-align: top;\n",
       "    }\n",
       "\n",
       "    .dataframe thead th {\n",
       "        text-align: right;\n",
       "    }\n",
       "</style>\n",
       "<table border=\"1\" class=\"dataframe\">\n",
       "  <thead>\n",
       "    <tr style=\"text-align: right;\">\n",
       "      <th></th>\n",
       "      <th>child_mort</th>\n",
       "      <th>exports</th>\n",
       "      <th>health</th>\n",
       "      <th>imports</th>\n",
       "      <th>income</th>\n",
       "      <th>inflation</th>\n",
       "      <th>life_expec</th>\n",
       "      <th>total_fer</th>\n",
       "      <th>gdpp</th>\n",
       "      <th>cluster</th>\n",
       "      <th>dist</th>\n",
       "    </tr>\n",
       "  </thead>\n",
       "  <tbody>\n",
       "    <tr>\n",
       "      <th>0</th>\n",
       "      <td>90.2</td>\n",
       "      <td>10.0</td>\n",
       "      <td>7.58</td>\n",
       "      <td>44.9</td>\n",
       "      <td>1610</td>\n",
       "      <td>9.44</td>\n",
       "      <td>56.2</td>\n",
       "      <td>5.82</td>\n",
       "      <td>553</td>\n",
       "      <td>1</td>\n",
       "      <td>48.351452</td>\n",
       "    </tr>\n",
       "    <tr>\n",
       "      <th>1</th>\n",
       "      <td>16.6</td>\n",
       "      <td>28.0</td>\n",
       "      <td>6.55</td>\n",
       "      <td>48.6</td>\n",
       "      <td>9930</td>\n",
       "      <td>4.49</td>\n",
       "      <td>76.3</td>\n",
       "      <td>1.65</td>\n",
       "      <td>4090</td>\n",
       "      <td>2</td>\n",
       "      <td>23.815280</td>\n",
       "    </tr>\n",
       "    <tr>\n",
       "      <th>2</th>\n",
       "      <td>27.3</td>\n",
       "      <td>38.4</td>\n",
       "      <td>4.17</td>\n",
       "      <td>31.4</td>\n",
       "      <td>12900</td>\n",
       "      <td>16.10</td>\n",
       "      <td>76.5</td>\n",
       "      <td>2.89</td>\n",
       "      <td>4460</td>\n",
       "      <td>2</td>\n",
       "      <td>25.832384</td>\n",
       "    </tr>\n",
       "    <tr>\n",
       "      <th>3</th>\n",
       "      <td>119.0</td>\n",
       "      <td>62.3</td>\n",
       "      <td>2.85</td>\n",
       "      <td>42.9</td>\n",
       "      <td>5900</td>\n",
       "      <td>22.40</td>\n",
       "      <td>60.1</td>\n",
       "      <td>6.16</td>\n",
       "      <td>3530</td>\n",
       "      <td>1</td>\n",
       "      <td>62.712193</td>\n",
       "    </tr>\n",
       "    <tr>\n",
       "      <th>4</th>\n",
       "      <td>10.3</td>\n",
       "      <td>45.5</td>\n",
       "      <td>6.03</td>\n",
       "      <td>58.9</td>\n",
       "      <td>19100</td>\n",
       "      <td>1.44</td>\n",
       "      <td>76.8</td>\n",
       "      <td>2.13</td>\n",
       "      <td>12200</td>\n",
       "      <td>2</td>\n",
       "      <td>21.982009</td>\n",
       "    </tr>\n",
       "  </tbody>\n",
       "</table>\n",
       "</div>"
      ],
      "text/plain": [
       "   child_mort  exports  health  imports  income  inflation  life_expec  \\\n",
       "0        90.2     10.0    7.58     44.9    1610       9.44        56.2   \n",
       "1        16.6     28.0    6.55     48.6    9930       4.49        76.3   \n",
       "2        27.3     38.4    4.17     31.4   12900      16.10        76.5   \n",
       "3       119.0     62.3    2.85     42.9    5900      22.40        60.1   \n",
       "4        10.3     45.5    6.03     58.9   19100       1.44        76.8   \n",
       "\n",
       "   total_fer   gdpp  cluster       dist  \n",
       "0       5.82    553        1  48.351452  \n",
       "1       1.65   4090        2  23.815280  \n",
       "2       2.89   4460        2  25.832384  \n",
       "3       6.16   3530        1  62.712193  \n",
       "4       2.13  12200        2  21.982009  "
      ]
     },
     "execution_count": 31,
     "metadata": {},
     "output_type": "execute_result"
    }
   ],
   "source": [
    "df_1.head()"
   ]
  },
  {
   "cell_type": "code",
   "execution_count": 37,
   "id": "c8da36df",
   "metadata": {},
   "outputs": [
    {
     "data": {
      "text/plain": [
       "26.700787157224752"
      ]
     },
     "execution_count": 37,
     "metadata": {},
     "output_type": "execute_result"
    }
   ],
   "source": [
    "df_1[df_1['cluster'] == 0]['dist'].min()"
   ]
  },
  {
   "cell_type": "code",
   "execution_count": 35,
   "id": "6280e1b8",
   "metadata": {},
   "outputs": [
    {
     "data": {
      "text/plain": [
       "24.802020077251523"
      ]
     },
     "execution_count": 35,
     "metadata": {},
     "output_type": "execute_result"
    }
   ],
   "source": [
    "df_1[df_1['cluster'] == 1]['dist'].min()"
   ]
  },
  {
   "cell_type": "code",
   "execution_count": 36,
   "id": "aee92410",
   "metadata": {},
   "outputs": [
    {
     "data": {
      "text/plain": [
       "18.056235976427292"
      ]
     },
     "execution_count": 36,
     "metadata": {},
     "output_type": "execute_result"
    }
   ],
   "source": [
    "df_1[df_1['cluster'] == 2]['dist'].min()"
   ]
  },
  {
   "cell_type": "code",
   "execution_count": 24,
   "id": "4796eeb1",
   "metadata": {},
   "outputs": [],
   "source": [
    "uniq, counts = np.unique(y_kmeans, return_counts= True)"
   ]
  },
  {
   "cell_type": "code",
   "execution_count": 25,
   "id": "b57ef7db",
   "metadata": {},
   "outputs": [
    {
     "data": {
      "text/plain": [
       "array([0, 1, 2])"
      ]
     },
     "execution_count": 25,
     "metadata": {},
     "output_type": "execute_result"
    }
   ],
   "source": [
    "uniq"
   ]
  },
  {
   "cell_type": "code",
   "execution_count": 26,
   "id": "3eb49339",
   "metadata": {},
   "outputs": [
    {
     "data": {
      "text/plain": [
       "array([36, 47, 84], dtype=int64)"
      ]
     },
     "execution_count": 26,
     "metadata": {},
     "output_type": "execute_result"
    }
   ],
   "source": [
    "counts"
   ]
  },
  {
   "cell_type": "code",
   "execution_count": 27,
   "id": "f4251a94",
   "metadata": {},
   "outputs": [
    {
     "data": {
      "text/html": [
       "<div>\n",
       "<style scoped>\n",
       "    .dataframe tbody tr th:only-of-type {\n",
       "        vertical-align: middle;\n",
       "    }\n",
       "\n",
       "    .dataframe tbody tr th {\n",
       "        vertical-align: top;\n",
       "    }\n",
       "\n",
       "    .dataframe thead th {\n",
       "        text-align: right;\n",
       "    }\n",
       "</style>\n",
       "<table border=\"1\" class=\"dataframe\">\n",
       "  <thead>\n",
       "    <tr style=\"text-align: right;\">\n",
       "      <th></th>\n",
       "      <th>child_mort</th>\n",
       "      <th>exports</th>\n",
       "      <th>health</th>\n",
       "      <th>imports</th>\n",
       "      <th>income</th>\n",
       "      <th>inflation</th>\n",
       "      <th>life_expec</th>\n",
       "      <th>total_fer</th>\n",
       "      <th>gdpp</th>\n",
       "      <th>cluster</th>\n",
       "    </tr>\n",
       "  </thead>\n",
       "  <tbody>\n",
       "    <tr>\n",
       "      <th>0</th>\n",
       "      <td>90.2</td>\n",
       "      <td>10.0</td>\n",
       "      <td>7.58</td>\n",
       "      <td>44.9</td>\n",
       "      <td>1610</td>\n",
       "      <td>9.44</td>\n",
       "      <td>56.2</td>\n",
       "      <td>5.82</td>\n",
       "      <td>553</td>\n",
       "      <td>1</td>\n",
       "    </tr>\n",
       "    <tr>\n",
       "      <th>1</th>\n",
       "      <td>16.6</td>\n",
       "      <td>28.0</td>\n",
       "      <td>6.55</td>\n",
       "      <td>48.6</td>\n",
       "      <td>9930</td>\n",
       "      <td>4.49</td>\n",
       "      <td>76.3</td>\n",
       "      <td>1.65</td>\n",
       "      <td>4090</td>\n",
       "      <td>2</td>\n",
       "    </tr>\n",
       "    <tr>\n",
       "      <th>2</th>\n",
       "      <td>27.3</td>\n",
       "      <td>38.4</td>\n",
       "      <td>4.17</td>\n",
       "      <td>31.4</td>\n",
       "      <td>12900</td>\n",
       "      <td>16.10</td>\n",
       "      <td>76.5</td>\n",
       "      <td>2.89</td>\n",
       "      <td>4460</td>\n",
       "      <td>2</td>\n",
       "    </tr>\n",
       "    <tr>\n",
       "      <th>3</th>\n",
       "      <td>119.0</td>\n",
       "      <td>62.3</td>\n",
       "      <td>2.85</td>\n",
       "      <td>42.9</td>\n",
       "      <td>5900</td>\n",
       "      <td>22.40</td>\n",
       "      <td>60.1</td>\n",
       "      <td>6.16</td>\n",
       "      <td>3530</td>\n",
       "      <td>1</td>\n",
       "    </tr>\n",
       "    <tr>\n",
       "      <th>4</th>\n",
       "      <td>10.3</td>\n",
       "      <td>45.5</td>\n",
       "      <td>6.03</td>\n",
       "      <td>58.9</td>\n",
       "      <td>19100</td>\n",
       "      <td>1.44</td>\n",
       "      <td>76.8</td>\n",
       "      <td>2.13</td>\n",
       "      <td>12200</td>\n",
       "      <td>2</td>\n",
       "    </tr>\n",
       "  </tbody>\n",
       "</table>\n",
       "</div>"
      ],
      "text/plain": [
       "   child_mort  exports  health  imports  income  inflation  life_expec  \\\n",
       "0        90.2     10.0    7.58     44.9    1610       9.44        56.2   \n",
       "1        16.6     28.0    6.55     48.6    9930       4.49        76.3   \n",
       "2        27.3     38.4    4.17     31.4   12900      16.10        76.5   \n",
       "3       119.0     62.3    2.85     42.9    5900      22.40        60.1   \n",
       "4        10.3     45.5    6.03     58.9   19100       1.44        76.8   \n",
       "\n",
       "   total_fer   gdpp  cluster  \n",
       "0       5.82    553        1  \n",
       "1       1.65   4090        2  \n",
       "2       2.89   4460        2  \n",
       "3       6.16   3530        1  \n",
       "4       2.13  12200        2  "
      ]
     },
     "execution_count": 27,
     "metadata": {},
     "output_type": "execute_result"
    }
   ],
   "source": [
    "df_1['cluster'] = y_kmeans\n",
    "\n",
    "df_1.head()"
   ]
  },
  {
   "cell_type": "code",
   "execution_count": 28,
   "id": "ef11d761",
   "metadata": {},
   "outputs": [
    {
     "data": {
      "text/plain": [
       "cluster\n",
       "0    36\n",
       "1    47\n",
       "2    84\n",
       "dtype: int64"
      ]
     },
     "execution_count": 28,
     "metadata": {},
     "output_type": "execute_result"
    }
   ],
   "source": [
    "df_1.groupby('cluster').size()"
   ]
  },
  {
   "cell_type": "markdown",
   "id": "6ce26363",
   "metadata": {},
   "source": [
    "#### Clusterização Hierárquica"
   ]
  },
  {
   "cell_type": "code",
   "execution_count": 41,
   "id": "97801181",
   "metadata": {},
   "outputs": [],
   "source": [
    "hier_cust = AgglomerativeClustering(n_clusters= 3).fit(X)"
   ]
  },
  {
   "cell_type": "code",
   "execution_count": 42,
   "id": "3bcb5d14",
   "metadata": {},
   "outputs": [
    {
     "data": {
      "text/plain": [
       "array([2, 1, 1, 1, 1, 1, 1, 0, 0, 1, 1, 0, 1, 1, 1, 0, 1, 2, 1, 1, 1, 1,\n",
       "       1, 0, 1, 2, 2, 1, 2, 0, 1, 2, 2, 1, 1, 1, 2, 2, 1, 1, 2, 1, 1, 1,\n",
       "       0, 1, 1, 1, 1, 1, 1, 1, 1, 0, 0, 1, 2, 1, 0, 1, 0, 1, 1, 2, 2, 1,\n",
       "       2, 1, 0, 1, 1, 1, 1, 0, 0, 0, 1, 0, 1, 1, 2, 1, 0, 1, 1, 1, 1, 1,\n",
       "       1, 0, 1, 0, 1, 2, 2, 1, 1, 2, 0, 1, 1, 1, 1, 1, 1, 1, 2, 1, 1, 1,\n",
       "       0, 0, 2, 1, 0, 0, 1, 1, 1, 1, 1, 1, 0, 0, 1, 1, 2, 1, 0, 2, 1, 1,\n",
       "       2, 0, 1, 1, 1, 1, 1, 0, 1, 1, 1, 1, 0, 0, 1, 2, 1, 1, 2, 1, 1, 1,\n",
       "       1, 2, 1, 0, 0, 0, 1, 1, 1, 1, 1, 1, 2], dtype=int64)"
      ]
     },
     "execution_count": 42,
     "metadata": {},
     "output_type": "execute_result"
    }
   ],
   "source": [
    "y_hc = hier_cust.fit_predict(X)\n",
    "\n",
    "y_hc"
   ]
  },
  {
   "cell_type": "code",
   "execution_count": 44,
   "id": "c6273b6c",
   "metadata": {},
   "outputs": [
    {
     "data": {
      "text/plain": [
       "array([1, 2, 2, 1, 2, 2, 2, 0, 0, 2, 2, 0, 2, 2, 2, 0, 2, 1, 2, 2, 2, 1,\n",
       "       2, 0, 2, 1, 1, 2, 1, 0, 2, 1, 1, 2, 2, 2, 1, 1, 1, 2, 1, 2, 0, 0,\n",
       "       0, 2, 2, 2, 2, 1, 1, 2, 2, 0, 0, 1, 1, 2, 0, 1, 0, 2, 2, 1, 1, 2,\n",
       "       1, 2, 0, 2, 2, 2, 1, 0, 0, 0, 2, 0, 2, 2, 1, 1, 0, 2, 1, 2, 2, 1,\n",
       "       1, 2, 2, 0, 2, 1, 1, 2, 2, 1, 0, 1, 2, 2, 2, 2, 2, 2, 1, 2, 1, 2,\n",
       "       0, 0, 1, 1, 0, 2, 1, 2, 2, 2, 2, 2, 0, 0, 2, 2, 1, 2, 2, 1, 2, 2,\n",
       "       1, 0, 0, 0, 2, 1, 0, 0, 2, 2, 1, 2, 0, 0, 2, 1, 2, 1, 1, 2, 2, 2,\n",
       "       2, 1, 2, 0, 0, 0, 2, 2, 2, 2, 2, 1, 1])"
      ]
     },
     "execution_count": 44,
     "metadata": {},
     "output_type": "execute_result"
    }
   ],
   "source": [
    "y_kmeans"
   ]
  },
  {
   "cell_type": "code",
   "execution_count": 45,
   "id": "bc0766ac",
   "metadata": {},
   "outputs": [
    {
     "data": {
      "text/plain": [
       "0.24563001303300652"
      ]
     },
     "execution_count": 45,
     "metadata": {},
     "output_type": "execute_result"
    }
   ],
   "source": [
    "silhouete_hc = silhouette_score(X, y_hc)\n",
    "\n",
    "silhouete_hc"
   ]
  },
  {
   "cell_type": "code",
   "execution_count": 47,
   "id": "3f35c17b",
   "metadata": {},
   "outputs": [
    {
     "data": {
      "text/plain": [
       "0.28329575683463126"
      ]
     },
     "execution_count": 47,
     "metadata": {},
     "output_type": "execute_result"
    }
   ],
   "source": [
    "silhouete_kmeans"
   ]
  },
  {
   "cell_type": "code",
   "execution_count": 49,
   "id": "43fa656d",
   "metadata": {},
   "outputs": [],
   "source": [
    "def plot_dendrogram(model, **kwargs):\n",
    "    # Create linkage matrix and then plot the dendrogram\n",
    "\n",
    "    # create the counts of samples under each node\n",
    "    counts = np.zeros(model.children_.shape[0])\n",
    "    n_samples = len(model.labels_)\n",
    "    for i, merge in enumerate(model.children_):\n",
    "        current_count = 0\n",
    "        for child_idx in merge:\n",
    "            if child_idx < n_samples:\n",
    "                current_count += 1  # leaf node\n",
    "            else:\n",
    "                current_count += counts[child_idx - n_samples]\n",
    "        counts[i] = current_count\n",
    "\n",
    "    linkage_matrix = np.column_stack([model.children_, model.distances_,\n",
    "                                      counts]).astype(float)\n",
    "\n",
    "    # Plot the corresponding dendrogram\n",
    "    dendrogram(linkage_matrix, **kwargs)"
   ]
  },
  {
   "cell_type": "code",
   "execution_count": 50,
   "id": "a9652870",
   "metadata": {},
   "outputs": [
    {
     "data": {
      "image/png": "[encoded data removed]",
      "text/plain": [
       "<Figure size 1000x700 with 1 Axes>"
      ]
     },
     "metadata": {},
     "output_type": "display_data"
    }
   ],
   "source": [
    "\n",
    "model = AgglomerativeClustering(distance_threshold=0, n_clusters=None)\n",
    "model = model.fit(X)\n",
    "plt.figure(figsize=(10, 7))\n",
    "plt.title('Hierarchical Clustering Dendrogram')\n",
    "# plot the top three levels of the dendrogram\n",
    "plot_dendrogram(model, truncate_mode='level', p=3)\n",
    "plt.xlabel(\"Number of points in node (or index of point if no parenthesis).\")\n",
    "plt.show()"
   ]
  }
 ],
 "metadata": {
  "kernelspec": {
   "display_name": "Python 3 (ipykernel)",
   "language": "python",
   "name": "python3"
  },
  "language_info": {
   "codemirror_mode": {
    "name": "ipython",
    "version": 3
   },
   "file_extension": ".py",
   "mimetype": "text/x-python",
   "name": "python",
   "nbconvert_exporter": "python",
   "pygments_lexer": "ipython3",
   "version": "3.10.0"
  }
 },
 "nbformat": 4,
 "nbformat_minor": 5
}
