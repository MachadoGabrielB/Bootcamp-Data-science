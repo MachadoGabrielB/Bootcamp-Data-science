{
 "cells": [
  {
   "cell_type": "markdown",
   "id": "c48f8070",
   "metadata": {},
   "source": [
    "Importando bibliotecas"
   ]
  },
  {
   "cell_type": "code",
   "execution_count": 29,
   "id": "30e1d63e",
   "metadata": {},
   "outputs": [],
   "source": [
    "import pandas as pd\n",
    "import matplotlib.pyplot as plt\n",
    "from ydata_profiling import ProfileReport\n",
    "import numpy as np \n",
    "\n",
    "from sklearn.preprocessing import StandardScaler\n",
    "\n",
    "from sklearn.cluster import KMeans"
   ]
  },
  {
   "cell_type": "code",
   "execution_count": 2,
   "id": "2c875078",
   "metadata": {},
   "outputs": [],
   "source": [
    "url = (r'C:\\Users\\Gabriel-PC\\Bootcamp-Data-science\\Personal\\8 - Aprendizado Supervisionado\\Country-data.csv')"
   ]
  },
  {
   "cell_type": "code",
   "execution_count": 4,
   "id": "9d1060e1",
   "metadata": {},
   "outputs": [
    {
     "data": {
      "text/html": [
       "<div>\n",
       "<style scoped>\n",
       "    .dataframe tbody tr th:only-of-type {\n",
       "        vertical-align: middle;\n",
       "    }\n",
       "\n",
       "    .dataframe tbody tr th {\n",
       "        vertical-align: top;\n",
       "    }\n",
       "\n",
       "    .dataframe thead th {\n",
       "        text-align: right;\n",
       "    }\n",
       "</style>\n",
       "<table border=\"1\" class=\"dataframe\">\n",
       "  <thead>\n",
       "    <tr style=\"text-align: right;\">\n",
       "      <th></th>\n",
       "      <th>country</th>\n",
       "      <th>child_mort</th>\n",
       "      <th>exports</th>\n",
       "      <th>health</th>\n",
       "      <th>imports</th>\n",
       "      <th>income</th>\n",
       "      <th>inflation</th>\n",
       "      <th>life_expec</th>\n",
       "      <th>total_fer</th>\n",
       "      <th>gdpp</th>\n",
       "    </tr>\n",
       "  </thead>\n",
       "  <tbody>\n",
       "    <tr>\n",
       "      <th>0</th>\n",
       "      <td>Afghanistan</td>\n",
       "      <td>90.2</td>\n",
       "      <td>10.0</td>\n",
       "      <td>7.58</td>\n",
       "      <td>44.9</td>\n",
       "      <td>1610</td>\n",
       "      <td>9.44</td>\n",
       "      <td>56.2</td>\n",
       "      <td>5.82</td>\n",
       "      <td>553</td>\n",
       "    </tr>\n",
       "    <tr>\n",
       "      <th>1</th>\n",
       "      <td>Albania</td>\n",
       "      <td>16.6</td>\n",
       "      <td>28.0</td>\n",
       "      <td>6.55</td>\n",
       "      <td>48.6</td>\n",
       "      <td>9930</td>\n",
       "      <td>4.49</td>\n",
       "      <td>76.3</td>\n",
       "      <td>1.65</td>\n",
       "      <td>4090</td>\n",
       "    </tr>\n",
       "    <tr>\n",
       "      <th>2</th>\n",
       "      <td>Algeria</td>\n",
       "      <td>27.3</td>\n",
       "      <td>38.4</td>\n",
       "      <td>4.17</td>\n",
       "      <td>31.4</td>\n",
       "      <td>12900</td>\n",
       "      <td>16.10</td>\n",
       "      <td>76.5</td>\n",
       "      <td>2.89</td>\n",
       "      <td>4460</td>\n",
       "    </tr>\n",
       "    <tr>\n",
       "      <th>3</th>\n",
       "      <td>Angola</td>\n",
       "      <td>119.0</td>\n",
       "      <td>62.3</td>\n",
       "      <td>2.85</td>\n",
       "      <td>42.9</td>\n",
       "      <td>5900</td>\n",
       "      <td>22.40</td>\n",
       "      <td>60.1</td>\n",
       "      <td>6.16</td>\n",
       "      <td>3530</td>\n",
       "    </tr>\n",
       "    <tr>\n",
       "      <th>4</th>\n",
       "      <td>Antigua and Barbuda</td>\n",
       "      <td>10.3</td>\n",
       "      <td>45.5</td>\n",
       "      <td>6.03</td>\n",
       "      <td>58.9</td>\n",
       "      <td>19100</td>\n",
       "      <td>1.44</td>\n",
       "      <td>76.8</td>\n",
       "      <td>2.13</td>\n",
       "      <td>12200</td>\n",
       "    </tr>\n",
       "  </tbody>\n",
       "</table>\n",
       "</div>"
      ],
      "text/plain": [
       "               country  child_mort  exports  health  imports  income  \\\n",
       "0          Afghanistan        90.2     10.0    7.58     44.9    1610   \n",
       "1              Albania        16.6     28.0    6.55     48.6    9930   \n",
       "2              Algeria        27.3     38.4    4.17     31.4   12900   \n",
       "3               Angola       119.0     62.3    2.85     42.9    5900   \n",
       "4  Antigua and Barbuda        10.3     45.5    6.03     58.9   19100   \n",
       "\n",
       "   inflation  life_expec  total_fer   gdpp  \n",
       "0       9.44        56.2       5.82    553  \n",
       "1       4.49        76.3       1.65   4090  \n",
       "2      16.10        76.5       2.89   4460  \n",
       "3      22.40        60.1       6.16   3530  \n",
       "4       1.44        76.8       2.13  12200  "
      ]
     },
     "execution_count": 4,
     "metadata": {},
     "output_type": "execute_result"
    }
   ],
   "source": [
    "df = pd.read_csv(url)\n",
    "df.head()"
   ]
  },
  {
   "cell_type": "code",
   "execution_count": 5,
   "id": "f4a75a78",
   "metadata": {},
   "outputs": [
    {
     "data": {
      "text/plain": [
       "167"
      ]
     },
     "execution_count": 5,
     "metadata": {},
     "output_type": "execute_result"
    }
   ],
   "source": [
    "df[\"country\"].unique().size"
   ]
  },
  {
   "cell_type": "code",
   "execution_count": 12,
   "id": "5c1b73d7",
   "metadata": {},
   "outputs": [],
   "source": [
    "# report_df = ProfileReport(df)\n",
    "# report_df"
   ]
  },
  {
   "cell_type": "code",
   "execution_count": 6,
   "id": "8b3e80d2",
   "metadata": {},
   "outputs": [
    {
     "data": {
      "text/plain": [
       "Index(['country', 'child_mort', 'exports', 'health', 'imports', 'income',\n",
       "       'inflation', 'life_expec', 'total_fer', 'gdpp'],\n",
       "      dtype='object')"
      ]
     },
     "execution_count": 6,
     "metadata": {},
     "output_type": "execute_result"
    }
   ],
   "source": [
    "df.columns"
   ]
  },
  {
   "cell_type": "code",
   "execution_count": 7,
   "id": "178e508a",
   "metadata": {},
   "outputs": [
    {
     "data": {
      "text/plain": [
       "<Axes: >"
      ]
     },
     "execution_count": 7,
     "metadata": {},
     "output_type": "execute_result"
    },
    {
     "data": {
      "image/png": "[encoded data removed]",
      "text/plain": [
       "<Figure size 640x480 with 1 Axes>"
      ]
     },
     "metadata": {},
     "output_type": "display_data"
    }
   ],
   "source": [
    "df[df.columns[1]].hist()"
   ]
  },
  {
   "cell_type": "code",
   "execution_count": 6,
   "id": "7c525d68",
   "metadata": {},
   "outputs": [
    {
     "ename": "IndexError",
     "evalue": "too many indices for array: array is 1-dimensional, but 2 were indexed",
     "output_type": "error",
     "traceback": [
      "\u001b[1;31m---------------------------------------------------------------------------\u001b[0m",
      "\u001b[1;31mIndexError\u001b[0m                                Traceback (most recent call last)",
      "Cell \u001b[1;32mIn[6], line 4\u001b[0m\n\u001b[0;32m      2\u001b[0m count \u001b[38;5;241m=\u001b[39m \u001b[38;5;241m0\u001b[39m\n\u001b[0;32m      3\u001b[0m \u001b[38;5;28;01mfor\u001b[39;00m i \u001b[38;5;129;01min\u001b[39;00m df\u001b[38;5;241m.\u001b[39mcolumns[\u001b[38;5;241m1\u001b[39m:]:\n\u001b[1;32m----> 4\u001b[0m     df[i]\u001b[38;5;241m.\u001b[39mhist(ax\u001b[38;5;241m=\u001b[39m\u001b[43max\u001b[49m\u001b[43m[\u001b[49m\u001b[43mcount\u001b[49m\u001b[43m,\u001b[49m\u001b[38;5;241;43m1\u001b[39;49m\u001b[43m]\u001b[49m)\n\u001b[0;32m      5\u001b[0m     count \u001b[38;5;241m=\u001b[39m count \u001b[38;5;241m+\u001b[39m \u001b[38;5;241m1\u001b[39m\n",
      "\u001b[1;31mIndexError\u001b[0m: too many indices for array: array is 1-dimensional, but 2 were indexed"
     ]
    },
    {
     "data": {
      "image/png": "[encoded data removed]",
      "text/plain": [
       "<Figure size 640x480 with 9 Axes>"
      ]
     },
     "metadata": {},
     "output_type": "display_data"
    }
   ],
   "source": [
    "fig, ax = plt.subplots(9, 1, sharex='col', sharey='row')\n",
    "count = 0\n",
    "for i in df.columns[1:]:\n",
    "    df[i].hist(ax=ax[count,1])\n",
    "    count = count + 1 "
   ]
  },
  {
   "cell_type": "code",
   "execution_count": 7,
   "id": "0d8e5e51",
   "metadata": {},
   "outputs": [
    {
     "data": {
      "image/png": "[encoded data removed]",
      "text/plain": [
       "<Figure size 640x480 with 9 Axes>"
      ]
     },
     "metadata": {},
     "output_type": "display_data"
    }
   ],
   "source": [
    "fig, ax = plt.subplots(3, 3, sharex='col', sharey='row')\n",
    "m=1\n",
    "for i in range(3):\n",
    "    for j in range(3):\n",
    "\n",
    "        df.hist(column = df.columns[m], ax=ax[i,j], figsize=(40, 36))\n",
    "        m+=1"
   ]
  },
  {
   "cell_type": "code",
   "execution_count": 19,
   "id": "d09a1068",
   "metadata": {},
   "outputs": [
    {
     "data": {
      "text/html": [
       "<div>\n",
       "<style scoped>\n",
       "    .dataframe tbody tr th:only-of-type {\n",
       "        vertical-align: middle;\n",
       "    }\n",
       "\n",
       "    .dataframe tbody tr th {\n",
       "        vertical-align: top;\n",
       "    }\n",
       "\n",
       "    .dataframe thead th {\n",
       "        text-align: right;\n",
       "    }\n",
       "</style>\n",
       "<table border=\"1\" class=\"dataframe\">\n",
       "  <thead>\n",
       "    <tr style=\"text-align: right;\">\n",
       "      <th></th>\n",
       "      <th>child_mort</th>\n",
       "      <th>exports</th>\n",
       "      <th>health</th>\n",
       "      <th>imports</th>\n",
       "      <th>income</th>\n",
       "      <th>inflation</th>\n",
       "      <th>life_expec</th>\n",
       "      <th>total_fer</th>\n",
       "      <th>gdpp</th>\n",
       "    </tr>\n",
       "  </thead>\n",
       "  <tbody>\n",
       "    <tr>\n",
       "      <th>0</th>\n",
       "      <td>90.2</td>\n",
       "      <td>10.0</td>\n",
       "      <td>7.58</td>\n",
       "      <td>44.9</td>\n",
       "      <td>1610</td>\n",
       "      <td>9.44</td>\n",
       "      <td>56.2</td>\n",
       "      <td>5.82</td>\n",
       "      <td>553</td>\n",
       "    </tr>\n",
       "    <tr>\n",
       "      <th>1</th>\n",
       "      <td>16.6</td>\n",
       "      <td>28.0</td>\n",
       "      <td>6.55</td>\n",
       "      <td>48.6</td>\n",
       "      <td>9930</td>\n",
       "      <td>4.49</td>\n",
       "      <td>76.3</td>\n",
       "      <td>1.65</td>\n",
       "      <td>4090</td>\n",
       "    </tr>\n",
       "    <tr>\n",
       "      <th>2</th>\n",
       "      <td>27.3</td>\n",
       "      <td>38.4</td>\n",
       "      <td>4.17</td>\n",
       "      <td>31.4</td>\n",
       "      <td>12900</td>\n",
       "      <td>16.10</td>\n",
       "      <td>76.5</td>\n",
       "      <td>2.89</td>\n",
       "      <td>4460</td>\n",
       "    </tr>\n",
       "    <tr>\n",
       "      <th>3</th>\n",
       "      <td>119.0</td>\n",
       "      <td>62.3</td>\n",
       "      <td>2.85</td>\n",
       "      <td>42.9</td>\n",
       "      <td>5900</td>\n",
       "      <td>22.40</td>\n",
       "      <td>60.1</td>\n",
       "      <td>6.16</td>\n",
       "      <td>3530</td>\n",
       "    </tr>\n",
       "    <tr>\n",
       "      <th>4</th>\n",
       "      <td>10.3</td>\n",
       "      <td>45.5</td>\n",
       "      <td>6.03</td>\n",
       "      <td>58.9</td>\n",
       "      <td>19100</td>\n",
       "      <td>1.44</td>\n",
       "      <td>76.8</td>\n",
       "      <td>2.13</td>\n",
       "      <td>12200</td>\n",
       "    </tr>\n",
       "    <tr>\n",
       "      <th>...</th>\n",
       "      <td>...</td>\n",
       "      <td>...</td>\n",
       "      <td>...</td>\n",
       "      <td>...</td>\n",
       "      <td>...</td>\n",
       "      <td>...</td>\n",
       "      <td>...</td>\n",
       "      <td>...</td>\n",
       "      <td>...</td>\n",
       "    </tr>\n",
       "    <tr>\n",
       "      <th>162</th>\n",
       "      <td>29.2</td>\n",
       "      <td>46.6</td>\n",
       "      <td>5.25</td>\n",
       "      <td>52.7</td>\n",
       "      <td>2950</td>\n",
       "      <td>2.62</td>\n",
       "      <td>63.0</td>\n",
       "      <td>3.50</td>\n",
       "      <td>2970</td>\n",
       "    </tr>\n",
       "    <tr>\n",
       "      <th>163</th>\n",
       "      <td>17.1</td>\n",
       "      <td>28.5</td>\n",
       "      <td>4.91</td>\n",
       "      <td>17.6</td>\n",
       "      <td>16500</td>\n",
       "      <td>45.90</td>\n",
       "      <td>75.4</td>\n",
       "      <td>2.47</td>\n",
       "      <td>13500</td>\n",
       "    </tr>\n",
       "    <tr>\n",
       "      <th>164</th>\n",
       "      <td>23.3</td>\n",
       "      <td>72.0</td>\n",
       "      <td>6.84</td>\n",
       "      <td>80.2</td>\n",
       "      <td>4490</td>\n",
       "      <td>12.10</td>\n",
       "      <td>73.1</td>\n",
       "      <td>1.95</td>\n",
       "      <td>1310</td>\n",
       "    </tr>\n",
       "    <tr>\n",
       "      <th>165</th>\n",
       "      <td>56.3</td>\n",
       "      <td>30.0</td>\n",
       "      <td>5.18</td>\n",
       "      <td>34.4</td>\n",
       "      <td>4480</td>\n",
       "      <td>23.60</td>\n",
       "      <td>67.5</td>\n",
       "      <td>4.67</td>\n",
       "      <td>1310</td>\n",
       "    </tr>\n",
       "    <tr>\n",
       "      <th>166</th>\n",
       "      <td>83.1</td>\n",
       "      <td>37.0</td>\n",
       "      <td>5.89</td>\n",
       "      <td>30.9</td>\n",
       "      <td>3280</td>\n",
       "      <td>14.00</td>\n",
       "      <td>52.0</td>\n",
       "      <td>5.40</td>\n",
       "      <td>1460</td>\n",
       "    </tr>\n",
       "  </tbody>\n",
       "</table>\n",
       "<p>167 rows × 9 columns</p>\n",
       "</div>"
      ],
      "text/plain": [
       "     child_mort  exports  health  imports  income  inflation  life_expec  \\\n",
       "0          90.2     10.0    7.58     44.9    1610       9.44        56.2   \n",
       "1          16.6     28.0    6.55     48.6    9930       4.49        76.3   \n",
       "2          27.3     38.4    4.17     31.4   12900      16.10        76.5   \n",
       "3         119.0     62.3    2.85     42.9    5900      22.40        60.1   \n",
       "4          10.3     45.5    6.03     58.9   19100       1.44        76.8   \n",
       "..          ...      ...     ...      ...     ...        ...         ...   \n",
       "162        29.2     46.6    5.25     52.7    2950       2.62        63.0   \n",
       "163        17.1     28.5    4.91     17.6   16500      45.90        75.4   \n",
       "164        23.3     72.0    6.84     80.2    4490      12.10        73.1   \n",
       "165        56.3     30.0    5.18     34.4    4480      23.60        67.5   \n",
       "166        83.1     37.0    5.89     30.9    3280      14.00        52.0   \n",
       "\n",
       "     total_fer   gdpp  \n",
       "0         5.82    553  \n",
       "1         1.65   4090  \n",
       "2         2.89   4460  \n",
       "3         6.16   3530  \n",
       "4         2.13  12200  \n",
       "..         ...    ...  \n",
       "162       3.50   2970  \n",
       "163       2.47  13500  \n",
       "164       1.95   1310  \n",
       "165       4.67   1310  \n",
       "166       5.40   1460  \n",
       "\n",
       "[167 rows x 9 columns]"
      ]
     },
     "execution_count": 19,
     "metadata": {},
     "output_type": "execute_result"
    }
   ],
   "source": [
    "df_1 = df[df.columns[1:]]\n",
    "\n",
    "df_1"
   ]
  },
  {
   "cell_type": "code",
   "execution_count": 20,
   "id": "21fe0b2e",
   "metadata": {},
   "outputs": [],
   "source": [
    "# Padronização dos dados e criando modelo\n",
    "\n",
    "Scaler = StandardScaler().fit(df_1)"
   ]
  },
  {
   "cell_type": "code",
   "execution_count": 23,
   "id": "c7f6ccd9",
   "metadata": {},
   "outputs": [],
   "source": [
    "X = Scaler.transform(df_1)"
   ]
  },
  {
   "cell_type": "code",
   "execution_count": 25,
   "id": "a9a68794",
   "metadata": {},
   "outputs": [
    {
     "name": "stderr",
     "output_type": "stream",
     "text": [
      "c:\\Users\\Gabriel-PC\\Bootcamp-Data-science\\.venv\\lib\\site-packages\\sklearn\\cluster\\_kmeans.py:1412: FutureWarning: The default value of `n_init` will change from 10 to 'auto' in 1.4. Set the value of `n_init` explicitly to suppress the warning\n",
      "  super()._check_params_vs_input(X, default_n_init=10)\n"
     ]
    }
   ],
   "source": [
    "kmeans = KMeans(n_clusters= 3).fit(X)"
   ]
  },
  {
   "cell_type": "code",
   "execution_count": 26,
   "id": "4c8b3274",
   "metadata": {},
   "outputs": [
    {
     "data": {
      "text/plain": [
       "array([2, 0, 0, 2, 0, 0, 0, 1, 1, 0, 0, 1, 0, 0, 0, 1, 0, 2, 0, 0, 0, 2,\n",
       "       0, 1, 0, 2, 2, 0, 2, 1, 0, 2, 2, 0, 0, 0, 2, 2, 2, 0, 2, 0, 1, 1,\n",
       "       1, 0, 0, 0, 0, 2, 2, 0, 0, 1, 1, 2, 2, 0, 1, 2, 1, 0, 0, 2, 2, 0,\n",
       "       2, 0, 1, 0, 0, 0, 2, 1, 1, 1, 0, 1, 0, 0, 2, 2, 1, 0, 2, 0, 0, 2,\n",
       "       2, 0, 0, 1, 0, 2, 2, 0, 0, 2, 1, 2, 0, 0, 0, 0, 0, 0, 2, 0, 2, 0,\n",
       "       1, 1, 2, 2, 1, 0, 2, 0, 0, 0, 0, 0, 1, 1, 0, 0, 2, 0, 0, 2, 0, 0,\n",
       "       2, 1, 1, 1, 0, 2, 1, 1, 0, 0, 2, 0, 1, 1, 0, 2, 0, 2, 2, 0, 0, 0,\n",
       "       0, 2, 0, 1, 1, 1, 0, 0, 0, 0, 0, 2, 2])"
      ]
     },
     "execution_count": 26,
     "metadata": {},
     "output_type": "execute_result"
    }
   ],
   "source": [
    "y_kmeans = kmeans.predict(X)\n",
    "y_kmeans"
   ]
  },
  {
   "cell_type": "code",
   "execution_count": 36,
   "id": "0f41fe78",
   "metadata": {},
   "outputs": [
    {
     "name": "stderr",
     "output_type": "stream",
     "text": [
      "c:\\Users\\Gabriel-PC\\Bootcamp-Data-science\\.venv\\lib\\site-packages\\sklearn\\cluster\\_kmeans.py:1412: FutureWarning: The default value of `n_init` will change from 10 to 'auto' in 1.4. Set the value of `n_init` explicitly to suppress the warning\n",
      "  super()._check_params_vs_input(X, default_n_init=10)\n"
     ]
    },
    {
     "data": {
      "text/plain": [
       "array([[ 3.70748731,  1.0860896 ,  5.78155681],\n",
       "       [ 0.83703077,  3.602306  ,  3.18403066],\n",
       "       [ 1.41463189,  3.13222868,  3.74437502],\n",
       "       [ 4.32361304,  2.26757607,  6.23511527],\n",
       "       [ 1.06253633,  3.82116699,  2.50034165],\n",
       "       [ 2.16492481,  3.68835234,  3.58887787],\n",
       "       [ 1.11510231,  3.41424622,  3.77477065],\n",
       "       [ 3.57530217,  5.43712616,  2.00759372],\n",
       "       [ 3.52006029,  5.57865737,  0.94183635],\n",
       "       [ 1.52274842,  3.06199495,  3.54982035],\n",
       "       [ 1.68758762,  3.96093688,  1.91068234],\n",
       "       [ 2.11334893,  4.37206936,  2.02504056],\n",
       "       [ 1.94460476,  2.86315973,  4.55102662],\n",
       "       [ 1.24265752,  3.87740564,  2.33528924],\n",
       "       [ 1.33911565,  3.72752976,  3.2686538 ],\n",
       "       [ 3.67392313,  5.65987085,  1.37769631],\n",
       "       [ 1.13272617,  3.23360277,  3.39611964],\n",
       "       [ 3.53195127,  1.50221812,  5.68556389],\n",
       "       [ 1.23075706,  2.97804114,  3.70545116],\n",
       "       [ 1.22191063,  2.33439938,  3.94622882],\n",
       "       [ 2.12778387,  4.33088434,  3.14169466],\n",
       "       [ 2.12349472,  2.08406692,  4.0175279 ],\n",
       "       [ 2.15192977,  3.7873188 ,  3.49891092],\n",
       "       [ 4.40589875,  6.01031311,  3.34128905],\n",
       "       [ 0.98951342,  3.79880092,  2.73074448],\n",
       "       [ 3.93511033,  1.17017106,  5.96221817],\n",
       "       [ 4.35149696,  2.22240103,  6.03627167],\n",
       "       [ 1.4520673 ,  2.48670493,  3.96437926],\n",
       "       [ 3.60886681,  1.33956002,  5.73163909],\n",
       "       [ 3.57461822,  5.47642824,  1.69961731],\n",
       "       [ 1.30061031,  3.15720146,  3.79347988],\n",
       "       [ 5.00769232,  2.49759111,  7.03363956],\n",
       "       [ 4.73240125,  2.01083439,  6.63759023],\n",
       "       [ 1.35547273,  3.93173804,  2.5029081 ],\n",
       "       [ 1.34879363,  3.61813313,  3.6311099 ],\n",
       "       [ 1.70376398,  3.65804586,  3.4846812 ],\n",
       "       [ 2.76676213,  1.43926382,  5.11680553],\n",
       "       [ 4.3326094 ,  1.64836911,  6.20512049],\n",
       "       [ 3.53394298,  2.78187018,  5.4772038 ],\n",
       "       [ 2.04456929,  4.19310939,  2.91584506],\n",
       "       [ 3.59003386,  1.23061078,  5.62283931],\n",
       "       [ 1.33537793,  4.03984808,  2.36126657],\n",
       "       [ 2.19512432,  4.78422817,  1.43959575],\n",
       "       [ 2.09783553,  4.6510258 ,  1.74206318],\n",
       "       [ 3.93173704,  5.73370699,  1.35482071],\n",
       "       [ 0.9901896 ,  2.90750801,  3.44270673],\n",
       "       [ 1.15820036,  3.16255154,  3.28624798],\n",
       "       [ 1.45066188,  2.57607772,  4.0514023 ],\n",
       "       [ 0.81123404,  3.22243883,  3.35291823],\n",
       "       [ 4.25201129,  3.17659798,  5.21914207],\n",
       "       [ 3.08443564,  2.07996149,  5.5737472 ],\n",
       "       [ 1.91604641,  4.42777651,  2.42472977],\n",
       "       [ 1.44474352,  2.9333105 ,  3.77505259],\n",
       "       [ 3.06431086,  5.14342634,  1.03576473],\n",
       "       [ 3.44839004,  5.28690256,  1.96908369],\n",
       "       [ 2.69466897,  2.21637962,  4.6370866 ],\n",
       "       [ 2.96919806,  1.21744664,  5.16714497],\n",
       "       [ 1.52518353,  3.51613568,  3.29453433],\n",
       "       [ 3.40716685,  5.43916405,  1.38732897],\n",
       "       [ 2.48480809,  0.9783515 ,  4.9528616 ],\n",
       "       [ 2.6086675 ,  4.80826806,  2.10106938],\n",
       "       [ 0.95351859,  3.25810529,  3.3028811 ],\n",
       "       [ 1.17280684,  2.3736879 ,  3.73639112],\n",
       "       [ 3.60334916,  0.82908781,  5.83068922],\n",
       "       [ 3.84178413,  1.46708697,  5.77871747],\n",
       "       [ 1.74285923,  2.88673479,  3.96488511],\n",
       "       [ 6.69548323,  4.50744553,  8.35589214],\n",
       "       [ 2.29427216,  4.67183273,  2.580383  ],\n",
       "       [ 2.93807164,  5.05880217,  0.7317642 ],\n",
       "       [ 1.85635272,  2.27204455,  4.51636775],\n",
       "       [ 1.9870466 ,  3.03961603,  4.47838756],\n",
       "       [ 1.61225672,  3.56015019,  3.58615346],\n",
       "       [ 2.1134895 ,  2.01663973,  4.03340383],\n",
       "       [ 4.40943908,  6.28489945,  2.28339577],\n",
       "       [ 2.20979784,  4.29159857,  1.84384445],\n",
       "       [ 2.93270899,  5.10726327,  1.75641411],\n",
       "       [ 0.73437947,  3.25638617,  3.50500997],\n",
       "       [ 3.57129683,  5.54166006,  2.38797715],\n",
       "       [ 1.51710344,  3.12836392,  3.33225933],\n",
       "       [ 1.66813678,  3.05004475,  3.70178666],\n",
       "       [ 2.4279024 ,  1.55258553,  4.8733494 ],\n",
       "       [ 3.2984807 ,  2.85959893,  4.90147582],\n",
       "       [ 4.18103542,  5.82953041,  3.02652136],\n",
       "       [ 1.76731784,  2.92748892,  4.01167716],\n",
       "       [ 2.02134503,  1.61509526,  4.5916311 ],\n",
       "       [ 1.30204478,  4.02399489,  2.53224911],\n",
       "       [ 1.36461844,  4.14365655,  2.65710049],\n",
       "       [ 4.64319096,  3.59615381,  6.04962999],\n",
       "       [ 4.08247242,  2.97361055,  5.55892801],\n",
       "       [ 1.75617867,  3.86797918,  2.93151845],\n",
       "       [ 1.60972821,  4.16808779,  2.44071748],\n",
       "       [ 9.35894519, 10.73991862,  7.05484894],\n",
       "       [ 0.99972111,  3.77026766,  2.99606912],\n",
       "       [ 2.59335858,  1.32210502,  5.12973837],\n",
       "       [ 3.62544312,  0.83578932,  5.80627874],\n",
       "       [ 2.16812799,  4.31346539,  3.15674563],\n",
       "       [ 1.73536692,  4.09673291,  2.98869811],\n",
       "       [ 4.43896405,  1.78759609,  6.39415092],\n",
       "       [ 6.32520954,  7.87655943,  5.67498036],\n",
       "       [ 3.04608407,  1.79717873,  5.1790959 ],\n",
       "       [ 1.10904471,  3.79900819,  2.82141236],\n",
       "       [ 3.56475623,  3.82573994,  4.62567762],\n",
       "       [ 2.58208409,  4.15226105,  3.84936838],\n",
       "       [ 3.1600588 ,  3.66481875,  5.05075687],\n",
       "       [ 1.51803114,  4.00815842,  2.75795695],\n",
       "       [ 0.95094815,  2.94955031,  3.61490012],\n",
       "       [ 3.67086188,  0.93581176,  5.84217141],\n",
       "       [ 3.20539602,  3.35087488,  5.48656389],\n",
       "       [ 2.15290971,  1.87537762,  4.21649838],\n",
       "       [ 1.78229276,  2.39466085,  4.50791958],\n",
       "       [ 4.04542015,  5.94694523,  1.40691507],\n",
       "       [ 2.69037043,  4.71159134,  1.75024069],\n",
       "       [ 4.67892374,  2.10953252,  6.57162617],\n",
       "       [10.02541703,  8.8694833 , 11.35652042],\n",
       "       [ 5.45600333,  6.96623878,  2.91095381],\n",
       "       [ 2.62210622,  4.34283332,  3.00592625],\n",
       "       [ 3.10072099,  2.15581413,  5.49028777],\n",
       "       [ 1.97700775,  4.04147005,  2.83216684],\n",
       "       [ 0.74857298,  3.07781941,  3.31452363],\n",
       "       [ 1.32087437,  3.42036353,  3.55971584],\n",
       "       [ 1.40881927,  2.59113949,  4.10970709],\n",
       "       [ 1.2648022 ,  4.07068264,  2.30768173],\n",
       "       [ 2.52662953,  4.77837318,  2.07675376],\n",
       "       [ 7.17337508,  8.49434997,  5.23818552],\n",
       "       [ 0.89555286,  3.65032116,  2.96127254],\n",
       "       [ 1.66682583,  3.60415354,  3.42909542],\n",
       "       [ 2.96184844,  2.17811402,  4.81775111],\n",
       "       [ 1.5926248 ,  2.58558947,  3.85613687],\n",
       "       [ 2.35096535,  3.98112659,  2.82205466],\n",
       "       [ 2.58216099,  1.32787827,  4.88100812],\n",
       "       [ 1.72851274,  4.01051206,  2.97348482],\n",
       "       [ 3.56526133,  5.23965249,  4.11051074],\n",
       "       [ 5.30526412,  3.0988532 ,  6.78024069],\n",
       "       [ 8.91061989, 10.39640796,  7.60689528],\n",
       "       [ 2.44801972,  4.74842453,  2.25988794],\n",
       "       [ 2.41430352,  4.85622415,  1.52542649],\n",
       "       [ 2.5335036 ,  2.63827228,  4.41156594],\n",
       "       [ 2.6285719 ,  2.37189701,  4.40219539],\n",
       "       [ 1.83336426,  4.59869898,  1.62313003],\n",
       "       [ 2.74016728,  4.99992257,  1.90927945],\n",
       "       [ 2.23351393,  3.71054164,  4.50659345],\n",
       "       [ 0.97311952,  3.24362541,  3.5310454 ],\n",
       "       [ 3.00467092,  1.59271585,  5.22024215],\n",
       "       [ 0.74421756,  2.94025375,  2.97611896],\n",
       "       [ 3.47564525,  5.46826917,  0.93389214],\n",
       "       [ 5.05571045,  6.81767532,  2.11796589],\n",
       "       [ 1.73665098,  2.03625272,  4.37139931],\n",
       "       [ 3.12422755,  0.94920248,  5.38837505],\n",
       "       [ 1.59128593,  4.12465438,  3.27350537],\n",
       "       [ 3.88453377,  2.69596858,  5.65556991],\n",
       "       [ 3.09290705,  1.3640512 ,  5.09500116],\n",
       "       [ 1.74597461,  2.70554748,  4.16807029],\n",
       "       [ 0.79896053,  3.57350808,  3.01562999],\n",
       "       [ 1.38693641,  3.62698332,  3.03425279],\n",
       "       [ 2.29826997,  3.09947322,  4.24463729],\n",
       "       [ 3.84466215,  1.48541759,  5.77100519],\n",
       "       [ 1.12100382,  3.48333796,  3.34766012],\n",
       "       [ 3.42879318,  5.34184232,  2.42298222],\n",
       "       [ 2.86694692,  4.91464459,  1.54305915],\n",
       "       [ 5.5674798 ,  6.7753833 ,  4.03584283],\n",
       "       [ 1.48095826,  3.73706388,  2.81185215],\n",
       "       [ 1.42703531,  2.61713839,  4.11153489],\n",
       "       [ 1.61278209,  2.29450192,  4.1158698 ],\n",
       "       [ 3.93075541,  4.71543231,  5.24099881],\n",
       "       [ 1.93109331,  3.81037155,  3.67281601],\n",
       "       [ 2.58139531,  1.80922345,  4.93660644],\n",
       "       [ 3.63139277,  1.07768133,  5.76493438]])"
      ]
     },
     "execution_count": 36,
     "metadata": {},
     "output_type": "execute_result"
    }
   ],
   "source": [
    "dist_cent = kmeans.fit_transform(X)\n",
    "\n",
    "dist_cent"
   ]
  },
  {
   "cell_type": "code",
   "execution_count": 31,
   "id": "4796eeb1",
   "metadata": {},
   "outputs": [],
   "source": [
    "uniq, counts = np.unique(y_kmeans, return_counts= True)"
   ]
  },
  {
   "cell_type": "code",
   "execution_count": 32,
   "id": "b57ef7db",
   "metadata": {},
   "outputs": [
    {
     "data": {
      "text/plain": [
       "array([0, 1, 2])"
      ]
     },
     "execution_count": 32,
     "metadata": {},
     "output_type": "execute_result"
    }
   ],
   "source": [
    "uniq"
   ]
  },
  {
   "cell_type": "code",
   "execution_count": 33,
   "id": "3eb49339",
   "metadata": {},
   "outputs": [
    {
     "data": {
      "text/plain": [
       "array([84, 36, 47], dtype=int64)"
      ]
     },
     "execution_count": 33,
     "metadata": {},
     "output_type": "execute_result"
    }
   ],
   "source": [
    "counts"
   ]
  },
  {
   "cell_type": "code",
   "execution_count": 34,
   "id": "f4251a94",
   "metadata": {},
   "outputs": [
    {
     "data": {
      "text/html": [
       "<div>\n",
       "<style scoped>\n",
       "    .dataframe tbody tr th:only-of-type {\n",
       "        vertical-align: middle;\n",
       "    }\n",
       "\n",
       "    .dataframe tbody tr th {\n",
       "        vertical-align: top;\n",
       "    }\n",
       "\n",
       "    .dataframe thead th {\n",
       "        text-align: right;\n",
       "    }\n",
       "</style>\n",
       "<table border=\"1\" class=\"dataframe\">\n",
       "  <thead>\n",
       "    <tr style=\"text-align: right;\">\n",
       "      <th></th>\n",
       "      <th>child_mort</th>\n",
       "      <th>exports</th>\n",
       "      <th>health</th>\n",
       "      <th>imports</th>\n",
       "      <th>income</th>\n",
       "      <th>inflation</th>\n",
       "      <th>life_expec</th>\n",
       "      <th>total_fer</th>\n",
       "      <th>gdpp</th>\n",
       "      <th>cluster</th>\n",
       "    </tr>\n",
       "  </thead>\n",
       "  <tbody>\n",
       "    <tr>\n",
       "      <th>0</th>\n",
       "      <td>90.2</td>\n",
       "      <td>10.0</td>\n",
       "      <td>7.58</td>\n",
       "      <td>44.9</td>\n",
       "      <td>1610</td>\n",
       "      <td>9.44</td>\n",
       "      <td>56.2</td>\n",
       "      <td>5.82</td>\n",
       "      <td>553</td>\n",
       "      <td>2</td>\n",
       "    </tr>\n",
       "    <tr>\n",
       "      <th>1</th>\n",
       "      <td>16.6</td>\n",
       "      <td>28.0</td>\n",
       "      <td>6.55</td>\n",
       "      <td>48.6</td>\n",
       "      <td>9930</td>\n",
       "      <td>4.49</td>\n",
       "      <td>76.3</td>\n",
       "      <td>1.65</td>\n",
       "      <td>4090</td>\n",
       "      <td>0</td>\n",
       "    </tr>\n",
       "    <tr>\n",
       "      <th>2</th>\n",
       "      <td>27.3</td>\n",
       "      <td>38.4</td>\n",
       "      <td>4.17</td>\n",
       "      <td>31.4</td>\n",
       "      <td>12900</td>\n",
       "      <td>16.10</td>\n",
       "      <td>76.5</td>\n",
       "      <td>2.89</td>\n",
       "      <td>4460</td>\n",
       "      <td>0</td>\n",
       "    </tr>\n",
       "    <tr>\n",
       "      <th>3</th>\n",
       "      <td>119.0</td>\n",
       "      <td>62.3</td>\n",
       "      <td>2.85</td>\n",
       "      <td>42.9</td>\n",
       "      <td>5900</td>\n",
       "      <td>22.40</td>\n",
       "      <td>60.1</td>\n",
       "      <td>6.16</td>\n",
       "      <td>3530</td>\n",
       "      <td>2</td>\n",
       "    </tr>\n",
       "    <tr>\n",
       "      <th>4</th>\n",
       "      <td>10.3</td>\n",
       "      <td>45.5</td>\n",
       "      <td>6.03</td>\n",
       "      <td>58.9</td>\n",
       "      <td>19100</td>\n",
       "      <td>1.44</td>\n",
       "      <td>76.8</td>\n",
       "      <td>2.13</td>\n",
       "      <td>12200</td>\n",
       "      <td>0</td>\n",
       "    </tr>\n",
       "  </tbody>\n",
       "</table>\n",
       "</div>"
      ],
      "text/plain": [
       "   child_mort  exports  health  imports  income  inflation  life_expec  \\\n",
       "0        90.2     10.0    7.58     44.9    1610       9.44        56.2   \n",
       "1        16.6     28.0    6.55     48.6    9930       4.49        76.3   \n",
       "2        27.3     38.4    4.17     31.4   12900      16.10        76.5   \n",
       "3       119.0     62.3    2.85     42.9    5900      22.40        60.1   \n",
       "4        10.3     45.5    6.03     58.9   19100       1.44        76.8   \n",
       "\n",
       "   total_fer   gdpp  cluster  \n",
       "0       5.82    553        2  \n",
       "1       1.65   4090        0  \n",
       "2       2.89   4460        0  \n",
       "3       6.16   3530        2  \n",
       "4       2.13  12200        0  "
      ]
     },
     "execution_count": 34,
     "metadata": {},
     "output_type": "execute_result"
    }
   ],
   "source": [
    "df_1['cluster'] = y_kmeans\n",
    "\n",
    "df_1.head()"
   ]
  },
  {
   "cell_type": "code",
   "execution_count": 35,
   "id": "ef11d761",
   "metadata": {},
   "outputs": [
    {
     "data": {
      "text/plain": [
       "cluster\n",
       "0    84\n",
       "1    36\n",
       "2    47\n",
       "dtype: int64"
      ]
     },
     "execution_count": 35,
     "metadata": {},
     "output_type": "execute_result"
    }
   ],
   "source": [
    "df_1.groupby('cluster').size()"
   ]
  },
  {
   "cell_type": "code",
   "execution_count": null,
   "id": "97801181",
   "metadata": {},
   "outputs": [],
   "source": []
  }
 ],
 "metadata": {
  "kernelspec": {
   "display_name": "Python 3 (ipykernel)",
   "language": "python",
   "name": "python3"
  },
  "language_info": {
   "codemirror_mode": {
    "name": "ipython",
    "version": 3
   },
   "file_extension": ".py",
   "mimetype": "text/x-python",
   "name": "python",
   "nbconvert_exporter": "python",
   "pygments_lexer": "ipython3",
   "version": "3.10.0"
  }
 },
 "nbformat": 4,
 "nbformat_minor": 5
}
