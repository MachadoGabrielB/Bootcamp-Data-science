{
 "cells": [
  {
   "attachments": {},
   "cell_type": "markdown",
   "metadata": {},
   "source": [
    "# aula de biblioteca numpy"
   ]
  },
  {
   "cell_type": "code",
   "execution_count": null,
   "metadata": {},
   "outputs": [],
   "source": [
    "import numpy as np\n",
    "import time"
   ]
  },
  {
   "cell_type": "code",
   "execution_count": null,
   "metadata": {},
   "outputs": [],
   "source": [
    "data2 = [[1,2,3,4],[5,6,7,8]]"
   ]
  },
  {
   "cell_type": "code",
   "execution_count": null,
   "metadata": {},
   "outputs": [],
   "source": [
    "arr2 = np.array(data2)\n",
    "arr2"
   ]
  },
  {
   "cell_type": "code",
   "execution_count": null,
   "metadata": {},
   "outputs": [],
   "source": [
    "arr2.shape # número de colunas e linhas"
   ]
  },
  {
   "cell_type": "code",
   "execution_count": null,
   "metadata": {},
   "outputs": [],
   "source": [
    "arr2.ndim # número de colunas"
   ]
  },
  {
   "cell_type": "code",
   "execution_count": null,
   "metadata": {},
   "outputs": [],
   "source": [
    "# quando for fazer operação com lista, usar a função array do numpy"
   ]
  },
  {
   "cell_type": "code",
   "execution_count": null,
   "metadata": {},
   "outputs": [],
   "source": [
    "id_client = \"\"\n",
    "        self.incrementa_contador()\n",
    "        sale = list()\n",
    "        while not id_client.isdigit() :\n",
    "            id_client = input(\"Digite o ID do Cliente: \")\n",
    "\n",
    "        while True :\n",
    "            id_album = input(\"Digite o ID do Álbum: \")\n",
    "            option = input(\"Digite 1 - Pra continuar ou 2 - Parar \")\n",
    "            if option.isdigit() and int(option) == 1 :\n",
    "                sale.append(id_album)\n",
    "                continue\n",
    "            elif option.isdigit() and int(option) == 2 :\n",
    "                sale.append(id_album)\n",
    "                break\n",
    "# Calcula o preço total de cada venda\n",
    "        total_price = 0\n",
    "        for id_sale in sale :\n",
    "            for album in Albuns.albuns :\n",
    "                if id_sale == album[\"id\"]:\n",
    "                    total_price+= album[\"preco\"]\n",
    "\n",
    "        # Retorna uma lista com cada venda\n",
    "        return self.sales.append(\n",
    "            {\n",
    "                \"id_sale\" : f\"0{self.counter}\",\n",
    "                \"id_client\": id_client,\n",
    "                \"id_albuns\": sale,\n",
    "                \"total_price\": total_price\n",
    "            }\n",
    "        )"
   ]
  },
  {
   "cell_type": "code",
   "execution_count": null,
   "metadata": {},
   "outputs": [],
   "source": [
    "verifier = {\n",
    "    \"0-18\"  : range(0,18),\n",
    "    \"18-25\" : range(18, 25),\n",
    "    \"25-35\" : range(25, 35),\n",
    "    \"35-55\" : range(35, 55),\n",
    "    \"55+\"   : range(55, 120)\n",
    "}"
   ]
  },
  {
   "cell_type": "code",
   "execution_count": null,
   "metadata": {},
   "outputs": [],
   "source": [
    "dict_ = dict()\n",
    "for elem in vendas_handler.sales : \n",
    "\n",
    "    id_client = elem[\"id_client\"]\n",
    "    id_albuns = elem[\"id_albuns\"]\n",
    "\n",
    "    idade_client = Clients.clients[id_client][\"idade\"]\n",
    "\n",
    "    for k in verifier :\n",
    "        range_ = verifier.get(k, 0)\n",
    "        if idade_client in range_ :\n",
    "            for id in id_albuns :\n",
    "                for album in Albuns.albuns :\n",
    "                    if id == album[\"id\"] :\n",
    "                        genero = album[\"genero\"]\n",
    "                        dict_.setdefault(k, {genero: 0})\n",
    "                        dict_[k][genero] = dict_[k].get(genero, 0) + 1\n",
    "        \n",
    "\n",
    "print(dict_)"
   ]
  },
  {
   "cell_type": "code",
   "execution_count": 27,
   "metadata": {},
   "outputs": [
    {
     "ename": "AttributeError",
     "evalue": "'function' object has no attribute 'split'",
     "output_type": "error",
     "traceback": [
      "\u001b[1;31m---------------------------------------------------------------------------\u001b[0m",
      "\u001b[1;31mAttributeError\u001b[0m                            Traceback (most recent call last)",
      "Cell \u001b[1;32mIn[27], line 9\u001b[0m\n\u001b[0;32m      5\u001b[0m     \u001b[39mfor\u001b[39;00m word \u001b[39min\u001b[39;00m words\u001b[39m.\u001b[39msplit(\u001b[39m'\u001b[39m\u001b[39m \u001b[39m\u001b[39m'\u001b[39m) :\n\u001b[0;32m      6\u001b[0m         \u001b[39myield\u001b[39;00m word\n\u001b[1;32m----> 9\u001b[0m \u001b[39mprint\u001b[39m(\u001b[39mlist\u001b[39;49m(words(txt)))\n",
      "Cell \u001b[1;32mIn[27], line 5\u001b[0m, in \u001b[0;36mwords\u001b[1;34m(txt)\u001b[0m\n\u001b[0;32m      3\u001b[0m \u001b[39mdef\u001b[39;00m \u001b[39mwords\u001b[39m(txt):\n\u001b[0;32m      4\u001b[0m     \u001b[39m#your code goes here\u001b[39;00m\n\u001b[1;32m----> 5\u001b[0m     \u001b[39mfor\u001b[39;00m word \u001b[39min\u001b[39;00m words\u001b[39m.\u001b[39;49msplit(\u001b[39m'\u001b[39m\u001b[39m \u001b[39m\u001b[39m'\u001b[39m) :\n\u001b[0;32m      6\u001b[0m         \u001b[39myield\u001b[39;00m word\n",
      "\u001b[1;31mAttributeError\u001b[0m: 'function' object has no attribute 'split'"
     ]
    }
   ],
   "source": [
    "txt = 'generators are great'\n",
    "\n",
    "def words(txt):\n",
    "    #your code goes here\n",
    "    for word in words.split(' ') :\n",
    "        yield word\n",
    "\n",
    "\n",
    "print(list(words(txt)))"
   ]
  },
  {
   "cell_type": "code",
   "execution_count": null,
   "metadata": {},
   "outputs": [],
   "source": []
  }
 ],
 "metadata": {
  "kernelspec": {
   "display_name": "Python 3",
   "language": "python",
   "name": "python3"
  },
  "language_info": {
   "codemirror_mode": {
    "name": "ipython",
    "version": 3
   },
   "file_extension": ".py",
   "mimetype": "text/x-python",
   "name": "python",
   "nbconvert_exporter": "python",
   "pygments_lexer": "ipython3",
   "version": "3.11.4"
  },
  "orig_nbformat": 4
 },
 "nbformat": 4,
 "nbformat_minor": 2
}
