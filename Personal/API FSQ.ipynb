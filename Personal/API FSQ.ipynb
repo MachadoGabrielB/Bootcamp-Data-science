{
 "cells": [
  {
   "cell_type": "code",
   "execution_count": 1,
   "metadata": {},
   "outputs": [],
   "source": [
    "import requests"
   ]
  },
  {
   "cell_type": "code",
   "execution_count": 2,
   "metadata": {},
   "outputs": [],
   "source": [
    "# -20.286618583727908, -40.292962718489754\n",
    "\n",
    "# https://location.foursquare.com/developer/reference/place-search"
   ]
  },
  {
   "cell_type": "code",
   "execution_count": 8,
   "metadata": {},
   "outputs": [
    {
     "name": "stdout",
     "output_type": "stream",
     "text": [
      "{\"results\":[{\"fsq_id\":\"4eca973e0e017e2f9d84770e\",\"categories\":[{\"id\":13034,\"name\":\"Café\",\"short_name\":\"Café\",\"plural_name\":\"Cafés\",\"icon\":{\"prefix\":\"https://ss3.4sqi.net/img/categories_v2/food/cafe_\",\"suffix\":\".png\"}},{\"id\":13049,\"name\":\"Diner\",\"short_name\":\"Diner\",\"plural_name\":\"Diners\",\"icon\":{\"prefix\":\"https://ss3.4sqi.net/img/categories_v2/food/diner_\",\"suffix\":\".png\"}}],\"chains\":[],\"closed_bucket\":\"LikelyOpen\",\"distance\":158,\"geocodes\":{\"main\":{\"latitude\":-20.287044,\"longitude\":-40.291288},\"roof\":{\"latitude\":-20.287044,\"longitude\":-40.291288}},\"link\":\"/v3/places/4eca973e0e017e2f9d84770e\",\"location\":{\"address\":\"Rua Eugenílio Ramos, 44\",\"address_extended\":\"lj 3\",\"country\":\"BR\",\"formatted_address\":\"Rua Eugenílio Ramos, 44, Vitória, ES, 29060-130\",\"locality\":\"Vitória\",\"post_town\":\"Jardim da Penha\",\"postcode\":\"29060-130\",\"region\":\"ES\"},\"name\":\"Juninho Pão de Queijo\",\"related_places\":{},\"timezone\":\"America/Sao_Paulo\"},{\"fsq_id\":\"4d6583206d9437047c3278bf\",\"categories\":[{\"id\":10024,\"name\":\"Movie Theater\",\"short_name\":\"Movie Theater\",\"plural_name\":\"Movie Theaters\",\"icon\":{\"prefix\":\"https://ss3.4sqi.net/img/categories_v2/arts_entertainment/movietheater_\",\"suffix\":\".png\"}}],\"chains\":[],\"closed_bucket\":\"LikelyOpen\",\"distance\":273,\"geocodes\":{\"main\":{\"latitude\":-20.288507,\"longitude\":-40.291502},\"roof\":{\"latitude\":-20.288507,\"longitude\":-40.291502}},\"link\":\"/v3/places/4d6583206d9437047c3278bf\",\"location\":{\"address\":\"Avenida Anísio Fernandes Coelho\",\"country\":\"BR\",\"cross_street\":\"2º Piso\",\"formatted_address\":\"Avenida Anísio Fernandes Coelho (2º Piso), Vitória, ES, 29060-670\",\"locality\":\"Vitória\",\"postcode\":\"29060-670\",\"region\":\"ES\"},\"name\":\"Cine Jardins\",\"related_places\":{\"parent\":{\"fsq_id\":\"4ba25564f964a52052ee37e3\",\"categories\":[{\"id\":10024,\"name\":\"Movie Theater\",\"short_name\":\"Movie Theater\",\"plural_name\":\"Movie Theaters\",\"icon\":{\"prefix\":\"https://ss3.4sqi.net/img/categories_v2/arts_entertainment/movietheater_\",\"suffix\":\".png\"}},{\"id\":13065,\"name\":\"Restaurant\",\"short_name\":\"Restaurant\",\"plural_name\":\"Restaurants\",\"icon\":{\"prefix\":\"https://ss3.4sqi.net/img/categories_v2/food/default_\",\"suffix\":\".png\"}}],\"name\":\"Shopping Jardins\"}},\"timezone\":\"America/Sao_Paulo\"},{\"fsq_id\":\"50ee071ae4b091d08c0c8a83\",\"categories\":[{\"id\":16000,\"name\":\"Landmarks and Outdoors\",\"short_name\":\"Landmarks and Outdoors\",\"plural_name\":\"Landmarks and Outdoors\",\"icon\":{\"prefix\":\"https://ss3.4sqi.net/img/categories_v2/parks_outdoors/default_\",\"suffix\":\".png\"}}],\"chains\":[],\"closed_bucket\":\"LikelyOpen\",\"distance\":310,\"geocodes\":{\"main\":{\"latitude\":-20.285489,\"longitude\":-40.29026}},\"link\":\"/v3/places/50ee071ae4b091d08c0c8a83\",\"location\":{\"address\":\"Praia de Camburi\",\"country\":\"BR\",\"cross_street\":\"\",\"formatted_address\":\"Praia de Camburi, Vitória, ES\",\"locality\":\"Vitória\",\"region\":\"ES\"},\"name\":\"Orla Camburi\",\"related_places\":{},\"timezone\":\"America/Sao_Paulo\"},{\"fsq_id\":\"4c840f4874d7b60c38ab8fd8\",\"categories\":[{\"id\":16003,\"name\":\"Beach\",\"short_name\":\"Beach\",\"plural_name\":\"Beaches\",\"icon\":{\"prefix\":\"https://ss3.4sqi.net/img/categories_v2/parks_outdoors/beach_\",\"suffix\":\".png\"}},{\"id\":19014,\"name\":\"Hotel\",\"short_name\":\"Hotel\",\"plural_name\":\"Hotels\",\"icon\":{\"prefix\":\"https://ss3.4sqi.net/img/categories_v2/travel/hotel_\",\"suffix\":\".png\"}}],\"chains\":[],\"closed_bucket\":\"LikelyOpen\",\"distance\":345,\"geocodes\":{\"main\":{\"latitude\":-20.287044,\"longitude\":-40.291288},\"roof\":{\"latitude\":-20.287044,\"longitude\":-40.291288}},\"link\":\"/v3/places/4c840f4874d7b60c38ab8fd8\",\"location\":{\"address\":\"Avenida Dante Michelini\",\"country\":\"BR\",\"formatted_address\":\"Avenida Dante Michelini, Vitória, ES, 29060-235\",\"locality\":\"Vitória\",\"post_town\":\"Jardim Camburí\",\"postcode\":\"29060-235\",\"region\":\"ES\"},\"name\":\"Praia de Camburi\",\"related_places\":{\"children\":[{\"fsq_id\":\"5e248034df80e90008d72e5e\",\"categories\":[{\"id\":13003,\"name\":\"Bar\",\"short_name\":\"Bar\",\"plural_name\":\"Bars\",\"icon\":{\"prefix\":\"https://ss3.4sqi.net/img/categories_v2/nightlife/pub_\",\"suffix\":\".png\"}}],\"name\":\"Porquinho\"},{\"fsq_id\":\"4db2d7656a23c31a02f3b98d\",\"categories\":[{\"id\":13338,\"name\":\"Seafood Restaurant\",\"short_name\":\"Seafood\",\"plural_name\":\"Seafood Restaurants\",\"icon\":{\"prefix\":\"https://ss3.4sqi.net/img/categories_v2/food/seafood_\",\"suffix\":\".png\"}}],\"name\":\"Quiosque Canoa Quebrada Potiguar\"},{\"fsq_id\":\"5ec86931047deb0007303a2f\",\"categories\":[{\"id\":11010,\"name\":\"Automotive Repair Shop\",\"short_name\":\"Auto Repair\",\"plural_name\":\"Automotive Repair Shops\",\"icon\":{\"prefix\":\"https://ss3.4sqi.net/img/categories_v2/shops/automotive_\",\"suffix\":\".png\"}}],\"name\":\"Postinho de Tangamandápio\"}]},\"timezone\":\"America/Sao_Paulo\"},{\"fsq_id\":\"4beebd3435dc0f478c2e405b\",\"categories\":[{\"id\":13002,\"name\":\"Bakery\",\"short_name\":\"Bakery\",\"plural_name\":\"Bakeries\",\"icon\":{\"prefix\":\"https://ss3.4sqi.net/img/categories_v2/food/bakery_\",\"suffix\":\".png\"}},{\"id\":13065,\"name\":\"Restaurant\",\"short_name\":\"Restaurant\",\"plural_name\":\"Restaurants\",\"icon\":{\"prefix\":\"https://ss3.4sqi.net/img/categories_v2/food/default_\",\"suffix\":\".png\"}}],\"chains\":[],\"closed_bucket\":\"LikelyOpen\",\"distance\":440,\"geocodes\":{\"main\":{\"latitude\":-20.28287,\"longitude\":-40.292208},\"roof\":{\"latitude\":-20.28287,\"longitude\":-40.292208}},\"link\":\"/v3/places/4beebd3435dc0f478c2e405b\",\"location\":{\"address\":\"Rua Comissário Octávio Queiroz, 1010\",\"country\":\"BR\",\"cross_street\":\"\",\"formatted_address\":\"Rua Comissário Octávio Queiroz, 1010, Vitória, ES, 29060-270\",\"locality\":\"Vitória\",\"post_town\":\"Jardim da Penha\",\"postcode\":\"29060-270\",\"region\":\"ES\"},\"name\":\"Monte Líbano\",\"related_places\":{},\"timezone\":\"America/Sao_Paulo\"},{\"fsq_id\":\"4e42f5bc18387113cad1fb0e\",\"categories\":[{\"id\":13309,\"name\":\"Middle Eastern Restaurant\",\"short_name\":\"Middle Eastern\",\"plural_name\":\"Middle Eastern Restaurants\",\"icon\":{\"prefix\":\"https://ss3.4sqi.net/img/categories_v2/food/middleeastern_\",\"suffix\":\".png\"}}],\"chains\":[],\"closed_bucket\":\"LikelyOpen\",\"distance\":445,\"geocodes\":{\"main\":{\"latitude\":-20.283036,\"longitude\":-40.291775},\"roof\":{\"latitude\":-20.283036,\"longitude\":-40.291775}},\"link\":\"/v3/places/4e42f5bc18387113cad1fb0e\",\"location\":{\"address\":\"Rua Cmiso Octavio Queiroz, 1062\",\"address_extended\":\"lj 02\",\"country\":\"BR\",\"formatted_address\":\"Rua Cmiso Octavio Queiroz, 1062, Vitória, ES, 29060-270\",\"locality\":\"Vitória\",\"postcode\":\"29060-270\",\"region\":\"ES\"},\"name\":\"Casa das Esfirras\",\"related_places\":{},\"timezone\":\"America/Sao_Paulo\"},{\"fsq_id\":\"52e2efaa498ec495763d04c1\",\"categories\":[{\"id\":13288,\"name\":\"Kebab Restaurant\",\"short_name\":\"Kebab\",\"plural_name\":\"Kebab Restaurants\",\"icon\":{\"prefix\":\"https://ss3.4sqi.net/img/categories_v2/food/middleeastern_\",\"suffix\":\".png\"}}],\"chains\":[],\"closed_bucket\":\"LikelyOpen\",\"distance\":440,\"geocodes\":{\"drop_off\":{\"latitude\":-20.282872,\"longitude\":-40.293978},\"main\":{\"latitude\":-20.282987,\"longitude\":-40.293958},\"roof\":{\"latitude\":-20.282987,\"longitude\":-40.293958}},\"link\":\"/v3/places/52e2efaa498ec495763d04c1\",\"location\":{\"address\":\"Praça Regina Frigeri Furno Food Truck in front of EPA Supermarket\",\"country\":\"BR\",\"cross_street\":\"\",\"formatted_address\":\"Praça Regina Frigeri Furno Food Truck in front of EPA Supermarket, Vitória, ES, 29060-200\",\"locality\":\"Vitória\",\"postcode\":\"29060-200\",\"region\":\"ES\"},\"name\":\"Taboon Kebaberia e Creperia\",\"related_places\":{},\"timezone\":\"America/Sao_Paulo\"},{\"fsq_id\":\"4de0287dd22d2a7955678012\",\"categories\":[{\"id\":16041,\"name\":\"Plaza\",\"short_name\":\"Plaza\",\"plural_name\":\"Plazas\",\"icon\":{\"prefix\":\"https://ss3.4sqi.net/img/categories_v2/parks_outdoors/plaza_\",\"suffix\":\".png\"}}],\"chains\":[],\"closed_bucket\":\"LikelyOpen\",\"distance\":482,\"geocodes\":{\"main\":{\"latitude\":-20.2824,\"longitude\":-40.294197}},\"link\":\"/v3/places/4de0287dd22d2a7955678012\",\"location\":{\"address\":\"Praça Regina Frigeri Furno\",\"country\":\"BR\",\"formatted_address\":\"Praça Regina Frigeri Furno, Vitória, ES\",\"locality\":\"Vitória\",\"region\":\"ES\"},\"name\":\"Praça do Epa\",\"related_places\":{\"children\":[{\"fsq_id\":\"62b648ccb5fd823c4e329f76\",\"categories\":[{\"id\":13052,\"name\":\"Food Court\",\"short_name\":\"Food Court\",\"plural_name\":\"Food Courts\",\"icon\":{\"prefix\":\"https://ss3.4sqi.net/img/categories_v2/shops/food_foodcourt_\",\"suffix\":\".png\"}}],\"name\":\"Delícias À Mesa\"},{\"fsq_id\":\"581d12e8569e1b2ffb92e0d4\",\"categories\":[{\"id\":13092,\"name\":\"Tapiocaria\",\"short_name\":\"Tapiocaria\",\"plural_name\":\"Tapiocarias\",\"icon\":{\"prefix\":\"https://ss3.4sqi.net/img/categories_v2/food/argentinian_\",\"suffix\":\".png\"}}],\"name\":\"Tapiocaria Maceió\"},{\"fsq_id\":\"62648a9a5282f321c15286cf\",\"categories\":[{\"id\":13054,\"name\":\"Food Truck\",\"short_name\":\"Food Truck\",\"plural_name\":\"Food Trucks\",\"icon\":{\"prefix\":\"https://ss3.4sqi.net/img/categories_v2/food/streetfood_\",\"suffix\":\".png\"}}],\"name\":\"Costelêro\"}]},\"timezone\":\"America/Sao_Paulo\"}],\"context\":{\"geo_bounds\":{\"circle\":{\"center\":{\"latitude\":-20.286618583727908,\"longitude\":-40.292962718489754},\"radius\":500}}}}\n"
     ]
    }
   ],
   "source": [
    "\n",
    "\n",
    "url = \"https://api.foursquare.com/v3/places/search?ll=-20.286618583727908%2C-40.292962718489754&radius=500\"\n",
    "\n",
    "headers = {\"accept\": \"application/json\",\n",
    "           \"Authorization\": \"=\"}\n",
    "\n",
    "response = requests.get(url, headers=headers)\n",
    "\n",
    "print(response.text)"
   ]
  },
  {
   "cell_type": "code",
   "execution_count": null,
   "metadata": {},
   "outputs": [],
   "source": []
  }
 ],
 "metadata": {
  "kernelspec": {
   "display_name": ".venv",
   "language": "python",
   "name": "python3"
  },
  "language_info": {
   "codemirror_mode": {
    "name": "ipython",
    "version": 3
   },
   "file_extension": ".py",
   "mimetype": "text/x-python",
   "name": "python",
   "nbconvert_exporter": "python",
   "pygments_lexer": "ipython3",
   "version": "3.10.0"
  }
 },
 "nbformat": 4,
 "nbformat_minor": 2
}
