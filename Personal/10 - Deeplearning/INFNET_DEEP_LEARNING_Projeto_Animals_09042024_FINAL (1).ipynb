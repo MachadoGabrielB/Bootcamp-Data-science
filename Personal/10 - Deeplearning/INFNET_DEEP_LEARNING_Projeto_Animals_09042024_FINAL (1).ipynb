{
  "cells": [
    {
      "cell_type": "code",
      "execution_count": 17,
      "metadata": {
        "id": "9OH-EqSsI7J2"
      },
      "outputs": [],
      "source": [
        "import numpy as np\n",
        "import tensorflow as tf\n",
        "import os\n",
        "import matplotlib.pyplot as plt\n",
        "import collections\n",
        "\n",
        "from tensorflow.keras.applications import ResNet50\n",
        "from tensorflow.keras.preprocessing import image\n",
        "from sklearn.cluster import KMeans\n",
        "from tensorflow.keras.applications import ResNet50\n",
        "\n",
        "# ResNet50 pré-treinado\n",
        "model = ResNet50(weights='imagenet', include_top=False)"
      ]
    },
    {
      "cell_type": "code",
      "source": [
        "from google.colab import drive\n",
        "drive.mount('/content/drive')\n",
        "\n",
        "# Diretório contendo as imagens\n",
        "\n",
        "# link para a pasta compartilhada com as imagens - https://drive.google.com/drive/folders/16GSnddudO-hh2-Gqp2RIBKCJa5j6Wv2Q?usp=sharing\n",
        "data_dir = '/content/drive/MyDrive/PESSOAL/#_ACADÊMICO/#_PROJETO/Redes profundas (Deep Learning)/dev/dataset/mix'\n",
        "\n",
        "# Lista de caminhos para todas as imagens\n",
        "img_paths = [os.path.join(data_dir, img) for img in os.listdir(data_dir)]"
      ],
      "metadata": {
        "colab": {
          "base_uri": "https://localhost:8080/"
        },
        "id": "dTH46OwgVmln",
        "outputId": "4f94d1a8-a06d-485d-c718-8d74902fd15b"
      },
      "execution_count": 18,
      "outputs": [
        {
          "output_type": "stream",
          "name": "stdout",
          "text": [
            "Drive already mounted at /content/drive; to attempt to forcibly remount, call drive.mount(\"/content/drive\", force_remount=True).\n"
          ]
        }
      ]
    },
    {
      "cell_type": "code",
      "execution_count": 19,
      "metadata": {
        "id": "2P-_TOVNccZO"
      },
      "outputs": [],
      "source": [
        "# pré processamento das imagens\n",
        "def img_process(img_path):\n",
        "    img = image.load_img(img_path, target_size=(224, 224))\n",
        "    img_array = image.img_to_array(img)\n",
        "    img_array = np.expand_dims(img_array, axis=0)\n",
        "    return tf.keras.applications.resnet50.preprocess_input(img_array)"
      ]
    },
    {
      "cell_type": "code",
      "execution_count": null,
      "metadata": {
        "colab": {
          "base_uri": "https://localhost:8080/"
        },
        "id": "eSz0mWH1I7ys",
        "outputId": "3fe58602-15c6-4630-c8b3-33df51495e2f"
      },
      "outputs": [
        {
          "output_type": "stream",
          "name": "stdout",
          "text": [
            "1/1 [==============================] - 2s 2s/step\n",
            "1/1 [==============================] - 0s 361ms/step\n",
            "1/1 [==============================] - 0s 338ms/step\n",
            "1/1 [==============================] - 1s 578ms/step\n",
            "1/1 [==============================] - 0s 384ms/step\n",
            "1/1 [==============================] - 0s 377ms/step\n",
            "1/1 [==============================] - 0s 493ms/step\n",
            "1/1 [==============================] - 0s 450ms/step\n",
            "1/1 [==============================] - 1s 668ms/step\n",
            "1/1 [==============================] - 1s 645ms/step\n",
            "1/1 [==============================] - 1s 771ms/step\n",
            "1/1 [==============================] - 1s 783ms/step\n",
            "1/1 [==============================] - 1s 578ms/step\n",
            "1/1 [==============================] - 0s 392ms/step\n",
            "1/1 [==============================] - 0s 428ms/step\n",
            "1/1 [==============================] - 0s 395ms/step\n",
            "1/1 [==============================] - 0s 367ms/step\n",
            "1/1 [==============================] - 0s 372ms/step\n",
            "1/1 [==============================] - 0s 396ms/step\n",
            "1/1 [==============================] - 0s 383ms/step\n",
            "1/1 [==============================] - 0s 416ms/step\n",
            "1/1 [==============================] - 0s 421ms/step\n",
            "1/1 [==============================] - 0s 356ms/step\n",
            "1/1 [==============================] - 1s 633ms/step\n",
            "1/1 [==============================] - 0s 428ms/step\n",
            "1/1 [==============================] - 0s 442ms/step\n",
            "1/1 [==============================] - 1s 697ms/step\n"
          ]
        }
      ],
      "source": [
        "# Extrair características para cada imagem\n",
        "features = []\n",
        "for img_path in img_paths:\n",
        "    preprocessed_img = img_process(img_path)\n",
        "    features.append(model.predict(preprocessed_img).flatten())\n",
        "\n",
        "# Convertendo as características obtidas em matriz\n",
        "X = np.array(features)\n",
        "\n",
        "# Algoritmo K-means\n",
        "kmeans = KMeans(n_clusters=10, random_state=42)\n",
        "kmeans.fit(X)\n",
        "\n",
        "# Mostrar as imagens dos 10 clusters\n",
        "for i in range(10):\n",
        "    cluster_imgs = np.array(img_paths)[np.where(kmeans.labels_ == i)]\n",
        "    if len(cluster_imgs) >= 5:\n",
        "        plt.figure(figsize=(10, 5))\n",
        "        for j in range(min(5, len(cluster_imgs))):\n",
        "            plt.subplot(1, 5, j+1)\n",
        "            img = image.load_img(cluster_imgs[j])\n",
        "            plt.imshow(img)\n",
        "            plt.axis('off')\n",
        "        plt.suptitle(f'Cluster {i}')\n",
        "        plt.show()\n",
        "\n",
        "# Avaliação de cada cluster obtido\n",
        "from sklearn.metrics import silhouette_score\n",
        "silhouette_avg = silhouette_score(X, kmeans.labels_)\n",
        "print(f'Avaliação dos clusters: Silhueta média = {silhouette_avg}')"
      ]
    }
  ],
  "metadata": {
    "colab": {
      "provenance": []
    },
    "kernelspec": {
      "display_name": "Python 3",
      "name": "python3"
    },
    "language_info": {
      "name": "python"
    }
  },
  "nbformat": 4,
  "nbformat_minor": 0
}