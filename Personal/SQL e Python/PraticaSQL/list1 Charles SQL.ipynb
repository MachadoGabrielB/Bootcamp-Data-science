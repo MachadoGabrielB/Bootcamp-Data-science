{
 "cells": [
  {
   "attachments": {},
   "cell_type": "markdown",
   "metadata": {},
   "source": [
    "### List 1 Charles SQL"
   ]
  },
  {
   "cell_type": "code",
   "execution_count": 1,
   "metadata": {},
   "outputs": [],
   "source": [
    "import sqlite3\n",
    "engine = sqlite3.connect('sqlcharles.db')"
   ]
  },
  {
   "cell_type": "code",
   "execution_count": 2,
   "metadata": {},
   "outputs": [
    {
     "data": {
      "text/plain": [
       "[]"
      ]
     },
     "execution_count": 2,
     "metadata": {},
     "output_type": "execute_result"
    }
   ],
   "source": [
    "cursor = engine.cursor()\n",
    "\n",
    "cursor.execute(\"PRAGMA foreign_keys = ON\").fetchall()"
   ]
  },
  {
   "cell_type": "code",
   "execution_count": 3,
   "metadata": {},
   "outputs": [],
   "source": [
    "# Creating variable of the person table\n",
    "\n",
    "person_table = '''CREATE TABLE IF NOT EXISTS Person (\n",
    "                                        PersonId integer PRIMARY KEY,\n",
    "                                        FirstName text NOT NULL,\n",
    "                                        MiddleInitial text,\n",
    "                                        LastName text,\n",
    "                                        DateOfBirth text\n",
    "                                    );'''"
   ]
  },
  {
   "cell_type": "code",
   "execution_count": 4,
   "metadata": {},
   "outputs": [
    {
     "data": {
      "text/plain": [
       "<sqlite3.Cursor at 0x28a4308cd40>"
      ]
     },
     "execution_count": 4,
     "metadata": {},
     "output_type": "execute_result"
    }
   ],
   "source": [
    "# Executing the command to create the table\n",
    "\n",
    "cursor.execute(person_table)"
   ]
  },
  {
   "cell_type": "code",
   "execution_count": 5,
   "metadata": {},
   "outputs": [
    {
     "data": {
      "text/plain": [
       "[(0, 'PersonId', 'INTEGER', 0, None, 1),\n",
       " (1, 'FirstName', 'TEXT', 1, None, 0),\n",
       " (2, 'MiddleInitial', 'TEXT', 0, None, 0),\n",
       " (3, 'LastName', 'TEXT', 0, None, 0),\n",
       " (4, 'DateOfBirth', 'TEXT', 0, None, 0)]"
      ]
     },
     "execution_count": 5,
     "metadata": {},
     "output_type": "execute_result"
    }
   ],
   "source": [
    "# Checking if the person table was created\n",
    "\n",
    "cursor.execute('PRAGMA TABLE_INFO(Person)').fetchall()"
   ]
  },
  {
   "cell_type": "code",
   "execution_count": 6,
   "metadata": {},
   "outputs": [],
   "source": [
    "# Creating variable of the course table\n",
    "\n",
    "course_table = '''CREATE TABLE IF NOT EXISTS Course (\n",
    "                                        CourseId integer PRIMARY KEY,\n",
    "                                        Name text NOT NULL,\n",
    "                                        Teacher text NOT NULL\n",
    "                                    );'''"
   ]
  },
  {
   "cell_type": "code",
   "execution_count": 7,
   "metadata": {},
   "outputs": [
    {
     "data": {
      "text/plain": [
       "<sqlite3.Cursor at 0x28a4308cd40>"
      ]
     },
     "execution_count": 7,
     "metadata": {},
     "output_type": "execute_result"
    }
   ],
   "source": [
    "# Executing the command to create the table\n",
    "\n",
    "cursor.execute(course_table)"
   ]
  },
  {
   "cell_type": "code",
   "execution_count": 8,
   "metadata": {},
   "outputs": [
    {
     "data": {
      "text/plain": [
       "[(0, 'CourseId', 'INTEGER', 0, None, 1),\n",
       " (1, 'Name', 'TEXT', 1, None, 0),\n",
       " (2, 'Teacher', 'TEXT', 1, None, 0)]"
      ]
     },
     "execution_count": 8,
     "metadata": {},
     "output_type": "execute_result"
    }
   ],
   "source": [
    "# Checking if the course table was created\n",
    "\n",
    "cursor.execute('PRAGMA TABLE_INFO(Course)').fetchall()"
   ]
  },
  {
   "cell_type": "code",
   "execution_count": 9,
   "metadata": {},
   "outputs": [],
   "source": [
    "# Creating variable of the student table\n",
    "\n",
    "student_table = \"\"\"CREATE TABLE IF NOT EXISTS Student (\n",
    "                                    StudentId integer PRIMARY KEY,\n",
    "                                    Email text NOT NULL,\n",
    "                                    PersonId integer NOT NULL REFERENCES Person (PersonId)\n",
    "                                );\"\"\"\n",
    "#FOREIGN KEY (PersonId) REFERENCES Person (PersonId)"
   ]
  },
  {
   "cell_type": "code",
   "execution_count": 10,
   "metadata": {},
   "outputs": [
    {
     "data": {
      "text/plain": [
       "<sqlite3.Cursor at 0x28a4308cd40>"
      ]
     },
     "execution_count": 10,
     "metadata": {},
     "output_type": "execute_result"
    }
   ],
   "source": [
    "# Executing the command to create the table\n",
    "\n",
    "cursor.execute(student_table)"
   ]
  },
  {
   "cell_type": "code",
   "execution_count": 11,
   "metadata": {},
   "outputs": [
    {
     "data": {
      "text/plain": [
       "[(0, 'StudentId', 'INTEGER', 0, None, 1),\n",
       " (1, 'Email', 'TEXT', 1, None, 0),\n",
       " (2, 'PersonId', 'INTEGER', 1, None, 0)]"
      ]
     },
     "execution_count": 11,
     "metadata": {},
     "output_type": "execute_result"
    }
   ],
   "source": [
    "# Checking if the student table was created\n",
    "\n",
    "cursor.execute('PRAGMA TABLE_INFO(Student)').fetchall()"
   ]
  },
  {
   "cell_type": "code",
   "execution_count": 12,
   "metadata": {},
   "outputs": [],
   "source": [
    "# Creating variable of the credit table\n",
    "\n",
    "credit_table = \"\"\"CREATE TABLE IF NOT EXISTS Credit (\n",
    "                                    StudentId integer NOT NULL REFERENCES Student (StudentId),\n",
    "                                    CourseId integer NOT NULL REFERENCES Course (CourseId),\n",
    "                                    Grade text NOT NULL,\n",
    "                                    Attempt integer NOT NULL\n",
    "                                );\"\"\"\n",
    "#FOREIGN KEY (StudentId) REFERENCES Student (StudentId)\n",
    "#FOREIGN KEY (CourseId) REFERENCES Course (CourseId)"
   ]
  },
  {
   "cell_type": "code",
   "execution_count": 13,
   "metadata": {},
   "outputs": [
    {
     "data": {
      "text/plain": [
       "<sqlite3.Cursor at 0x28a4308cd40>"
      ]
     },
     "execution_count": 13,
     "metadata": {},
     "output_type": "execute_result"
    }
   ],
   "source": [
    "# Executing the command to create the table\n",
    "\n",
    "cursor.execute(credit_table)"
   ]
  },
  {
   "cell_type": "code",
   "execution_count": 14,
   "metadata": {},
   "outputs": [
    {
     "data": {
      "text/plain": [
       "[(0, 'StudentId', 'INTEGER', 1, None, 0),\n",
       " (1, 'CourseId', 'INTEGER', 1, None, 0),\n",
       " (2, 'Grade', 'TEXT', 1, None, 0),\n",
       " (3, 'Attempt', 'INTEGER', 1, None, 0)]"
      ]
     },
     "execution_count": 14,
     "metadata": {},
     "output_type": "execute_result"
    }
   ],
   "source": [
    "# Checking if the student table was created\n",
    "\n",
    "cursor.execute('PRAGMA TABLE_INFO(Credit)').fetchall()"
   ]
  },
  {
   "cell_type": "code",
   "execution_count": 26,
   "metadata": {},
   "outputs": [
    {
     "name": "stdout",
     "output_type": "stream",
     "text": [
      "INSERT INTO Person\n",
      "                                (PersonId,FirstName,MiddleInitial,LastName,DateOfBirth)\n",
      "                                VALUES (1000,Caroline,G,Baker,1986-04-19)\n",
      "                                ;\n"
     ]
    }
   ],
   "source": [
    "# Uploading the data to the table person\n",
    "\n",
    "person_path = 'C:/Users/Gabriel-PC/Bootcamp-Data-science/Personal/SQL e Python/PraticaSQL/SamplePersonData.txt'\n",
    "\n",
    "with open (person_path, 'r') as file:\n",
    "    for line in file :\n",
    "        values = line.strip().split(',')\n",
    "        command = f'''INSERT INTO Person\n",
    "                                (PersonId,FirstName,MiddleInitial,LastName,DateOfBirth)\n",
    "                                VALUES ({values[0]},{values[1]},{values[2]},{values[3]},{values[4]})\n",
    "                                ;'''\n",
    "        # cursor.execute(command)\n",
    "    print(command)\n",
    "    \n",
    "    # engine.commit()\n",
    "        \n"
   ]
  },
  {
   "cell_type": "code",
   "execution_count": null,
   "metadata": {},
   "outputs": [],
   "source": []
  }
 ],
 "metadata": {
  "kernelspec": {
   "display_name": "Python 3",
   "language": "python",
   "name": "python3"
  },
  "language_info": {
   "codemirror_mode": {
    "name": "ipython",
    "version": 3
   },
   "file_extension": ".py",
   "mimetype": "text/x-python",
   "name": "python",
   "nbconvert_exporter": "python",
   "pygments_lexer": "ipython3",
   "version": "3.11.4"
  },
  "orig_nbformat": 4
 },
 "nbformat": 4,
 "nbformat_minor": 2
}
