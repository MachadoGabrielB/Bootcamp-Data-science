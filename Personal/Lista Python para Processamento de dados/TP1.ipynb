{
 "cells": [
  {
   "attachments": {},
   "cell_type": "markdown",
   "metadata": {},
   "source": [
    "#### TP 1.1 - Mensagem\n",
    "\n",
    "### Exercício 1\n",
    "### Escreva uma função chamada apresenta_mensagem que imprima uma frase dizendo o que você está achando de programar em Python.\n",
    "\n",
    "### Chame a função e certifique-se de que a mensagem seja exibida corretamente."
   ]
  },
  {
   "cell_type": "code",
   "execution_count": null,
   "metadata": {},
   "outputs": [],
   "source": [
    "def apresenta_mensagem() :\n",
    " print('O que você está achando de programar em Python?') \n",
    "\n",
    "apresenta_mensagem()"
   ]
  },
  {
   "attachments": {},
   "cell_type": "markdown",
   "metadata": {},
   "source": [
    "## TP 1.2 - Livro Favorito\n",
    "\n",
    "### Escreva uma função chamada livro_favorito que aceite um parâmetro, o título de um livro. A função deve imprimir uma mensagem como \"Um dos meus livros favoritos é <título>\".\n",
    "\n",
    "### Chame a função pelo menos 2 vezes, certificando-se de incluir um título de livro diferente como argumento em cada chamada da função."
   ]
  },
  {
   "cell_type": "code",
   "execution_count": 4,
   "metadata": {},
   "outputs": [
    {
     "name": "stdout",
     "output_type": "stream",
     "text": [
      "\n",
      "Um dos meu livros favoritos é teste1.\n",
      "\n",
      "Um dos meu livros favoritos é teste2.\n"
     ]
    }
   ],
   "source": [
    "def livro_favorito(titulo) :\n",
    "    print(f'\\nUm dos meus livros favoritos é {titulo}.')\n",
    "\n",
    "livro_favorito('teste1')\n",
    "livro_favorito('teste2')\n"
   ]
  },
  {
   "attachments": {},
   "cell_type": "markdown",
   "metadata": {},
   "source": [
    "## TP 1.3 - Camiseta\n",
    "\n",
    "### Escreva uma função chamada faz_camiseta que aceite um tamanho e o texto de uma mensagem que deve ser impressa na camiseta. A função deve imprimir uma frase descrevendo o tamanho da camiseta e a mensagem impressa nela.\n",
    "\n",
    "### Chame a função uma vez usando argumentos posicionais para fazer uma camiseta.\n",
    "\n",
    "### Chame a função uma 2ª vez usando argumentos keyword."
   ]
  },
  {
   "cell_type": "code",
   "execution_count": null,
   "metadata": {},
   "outputs": [],
   "source": [
    "def faz_camiseta(tamanho,texto) :\n",
    "    print(f'\\nTamanho da camisa: {tamanho}. \\nMensagem a ser impressa: {texto}.')"
   ]
  }
 ],
 "metadata": {
  "kernelspec": {
   "display_name": "Python 3",
   "language": "python",
   "name": "python3"
  },
  "language_info": {
   "codemirror_mode": {
    "name": "ipython",
    "version": 3
   },
   "file_extension": ".py",
   "mimetype": "text/x-python",
   "name": "python",
   "nbconvert_exporter": "python",
   "pygments_lexer": "ipython3",
   "version": "3.11.4"
  },
  "orig_nbformat": 4
 },
 "nbformat": 4,
 "nbformat_minor": 2
}
