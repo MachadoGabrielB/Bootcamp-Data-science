{
  "cells": [
    {
      "attachments": {},
      "cell_type": "markdown",
      "metadata": {
        "colab_type": "text",
        "id": "view-in-github"
      },
      "source": [
        "<a href=\"https://colab.research.google.com/github/CharlesPrado23/Bootcamp_TurmaNoite/blob/main/Conteudo_02/Exerc%C3%ADcios_de_Numpy.ipynb\" target=\"_parent\"><img src=\"https://colab.research.google.com/assets/colab-badge.svg\" alt=\"Open In Colab\"/></a>"
      ]
    },
    {
      "cell_type": "code",
      "execution_count": 1,
      "metadata": {
        "id": "0evbcih8QBck"
      },
      "outputs": [],
      "source": [
        "import numpy as np "
      ]
    },
    {
      "cell_type": "code",
      "execution_count": 3,
      "metadata": {
        "id": "fKZHv_uvQBcr"
      },
      "outputs": [],
      "source": [
        "names = np.array(['Bob', 'Joe', 'Will', 'Bob', 'Will', 'Joe', 'Joe'])"
      ]
    },
    {
      "cell_type": "code",
      "execution_count": 5,
      "metadata": {
        "id": "Gs0Lc4TLQBct"
      },
      "outputs": [
        {
          "data": {
            "text/plain": [
              "array(['Bob', 'Joe', 'Will'], dtype='<U4')"
            ]
          },
          "execution_count": 5,
          "metadata": {},
          "output_type": "execute_result"
        }
      ],
      "source": [
        "### Questão 1\n",
        "### Use o método np.unique para retornar um array sem duplicatas\n",
        "# names2 = np.unique(names)\n",
        "# names2\n",
        "np.unique(names)"
      ]
    },
    {
      "cell_type": "code",
      "execution_count": 17,
      "metadata": {
        "id": "X2p0O8FkQBc6"
      },
      "outputs": [
        {
          "data": {
            "text/plain": [
              "array([[ 0.89565995, -0.26572406,  0.21380595],\n",
              "       [ 0.91641644,  0.80251013, -0.2719389 ],\n",
              "       [-0.58536643,  0.52512834,  1.39706325],\n",
              "       [-0.03355748, -0.20261604,  0.31398691]])"
            ]
          },
          "execution_count": 17,
          "metadata": {},
          "output_type": "execute_result"
        }
      ],
      "source": [
        "### Questão 2\n",
        "### crie uma matriz (4,3) usando o método np.random.randn(x,y)\n",
        "matrix = np.random.randn(4,3)\n",
        "matrix"
      ]
    },
    {
      "cell_type": "code",
      "execution_count": 22,
      "metadata": {
        "id": "adpvGI3yQBc7"
      },
      "outputs": [
        {
          "data": {
            "text/plain": [
              "array([[ 0.52512834,  1.39706325],\n",
              "       [-0.20261604,  0.31398691]])"
            ]
          },
          "execution_count": 22,
          "metadata": {},
          "output_type": "execute_result"
        }
      ],
      "source": [
        "### Questão 3 \n",
        "### Retorne os elementos entre as linhas 2 e 3 ; e entre as colunas 1 e 2 \n",
        "### Use o conceito de slice e armazene o resultada em outro array\n",
        "matrix2 = matrix[2:4,1:3]\n",
        "matrix2\n"
      ]
    },
    {
      "cell_type": "code",
      "execution_count": 25,
      "metadata": {
        "id": "KAuAl4yIQBc7"
      },
      "outputs": [
        {
          "data": {
            "text/plain": [
              "array([0.29828812, 0.2148246 , 0.4132293 ])"
            ]
          },
          "execution_count": 25,
          "metadata": {},
          "output_type": "execute_result"
        }
      ],
      "source": [
        "### Questão 4 \n",
        "### Calcule o valor médio da matriz da Questão 2 \n",
        "### Calcule o valor médio da matriz da Questão 2 na direção horizontal\n",
        "### Calcule o valor médio da matriz da Questão 2 na direção vertical\n",
        "matrix.mean()"
      ]
    },
    {
      "cell_type": "code",
      "execution_count": 26,
      "metadata": {},
      "outputs": [
        {
          "data": {
            "text/plain": [
              "array([0.29828812, 0.2148246 , 0.4132293 ])"
            ]
          },
          "execution_count": 26,
          "metadata": {},
          "output_type": "execute_result"
        }
      ],
      "source": [
        "matrix.mean(axis=0)"
      ]
    },
    {
      "cell_type": "code",
      "execution_count": 27,
      "metadata": {},
      "outputs": [
        {
          "data": {
            "text/plain": [
              "array([0.28124728, 0.48232922, 0.44560839, 0.0259378 ])"
            ]
          },
          "execution_count": 27,
          "metadata": {},
          "output_type": "execute_result"
        }
      ],
      "source": [
        "matrix.mean(axis=1)"
      ]
    },
    {
      "cell_type": "code",
      "execution_count": 24,
      "metadata": {},
      "outputs": [
        {
          "data": {
            "text/plain": [
              "0.3087806732282377"
            ]
          },
          "execution_count": 24,
          "metadata": {},
          "output_type": "execute_result"
        }
      ],
      "source": [
        "np.mean(matrix)"
      ]
    },
    {
      "cell_type": "code",
      "execution_count": null,
      "metadata": {
        "id": "Vgopc7jZQBc8"
      },
      "outputs": [],
      "source": [
        "### Questão 5\n",
        "### usando o método arange , crie um array com 50 posições \n",
        "### Modifique todos os valores para o valor igual a 1 \n",
        "### Usando o método reshape crie uma matriz (10,5)\n"
      ]
    },
    {
      "cell_type": "code",
      "execution_count": 29,
      "metadata": {},
      "outputs": [
        {
          "data": {
            "text/plain": [
              "50"
            ]
          },
          "execution_count": 29,
          "metadata": {},
          "output_type": "execute_result"
        }
      ],
      "source": [
        "matrix3 = np.arange(0,50)\n",
        "len(matrix3)"
      ]
    }
  ],
  "metadata": {
    "colab": {
      "include_colab_link": true,
      "provenance": []
    },
    "kernelspec": {
      "display_name": "Python 3",
      "language": "python",
      "name": "python3"
    },
    "language_info": {
      "codemirror_mode": {
        "name": "ipython",
        "version": 3
      },
      "file_extension": ".py",
      "mimetype": "text/x-python",
      "name": "python",
      "nbconvert_exporter": "python",
      "pygments_lexer": "ipython3",
      "version": "3.11.3"
    }
  },
  "nbformat": 4,
  "nbformat_minor": 0
}
