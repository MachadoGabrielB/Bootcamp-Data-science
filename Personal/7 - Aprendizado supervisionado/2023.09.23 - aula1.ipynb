{
 "cells": [
  {
   "cell_type": "markdown",
   "metadata": {},
   "source": [
    "## Linear Regression Model"
   ]
  },
  {
   "cell_type": "code",
   "execution_count": 1,
   "metadata": {},
   "outputs": [
    {
     "name": "stdout",
     "output_type": "stream",
     "text": [
      "Collecting nbconvert\n",
      "  Obtaining dependency information for nbconvert from https://files.pythonhosted.org/packages/a4/a6/072b6fd04616f1409f37ef5967ea5bbbeea1447d4494c2d98658a95fc985/nbconvert-7.8.0-py3-none-any.whl.metadata\n",
      "  Downloading nbconvert-7.8.0-py3-none-any.whl.metadata (8.0 kB)\n",
      "Requirement already satisfied: beautifulsoup4 in c:\\users\\gabriel-pc\\bootcamp-data-science\\.venv\\lib\\site-packages (from nbconvert) (4.12.2)\n",
      "Collecting bleach!=5.0.0 (from nbconvert)\n",
      "  Using cached bleach-6.0.0-py3-none-any.whl (162 kB)\n",
      "Collecting defusedxml (from nbconvert)\n",
      "  Using cached defusedxml-0.7.1-py2.py3-none-any.whl (25 kB)\n",
      "Collecting jinja2>=3.0 (from nbconvert)\n",
      "  Using cached Jinja2-3.1.2-py3-none-any.whl (133 kB)\n",
      "Requirement already satisfied: jupyter-core>=4.7 in c:\\users\\gabriel-pc\\bootcamp-data-science\\.venv\\lib\\site-packages (from nbconvert) (5.3.1)\n",
      "Collecting jupyterlab-pygments (from nbconvert)\n",
      "  Using cached jupyterlab_pygments-0.2.2-py2.py3-none-any.whl (21 kB)\n",
      "Collecting markupsafe>=2.0 (from nbconvert)\n",
      "  Obtaining dependency information for markupsafe>=2.0 from https://files.pythonhosted.org/packages/84/a8/c4aebb8a14a1d39d5135eb8233a0b95831cdc42c4088358449c3ed657044/MarkupSafe-2.1.3-cp310-cp310-win_amd64.whl.metadata\n",
      "  Downloading MarkupSafe-2.1.3-cp310-cp310-win_amd64.whl.metadata (3.1 kB)\n",
      "Collecting mistune<4,>=2.0.3 (from nbconvert)\n",
      "  Obtaining dependency information for mistune<4,>=2.0.3 from https://files.pythonhosted.org/packages/cc/c0/ac9587149e37cde62ae338e9db8241ae2fdc79a84bde8c8ba7caea2c22d8/mistune-3.0.1-py3-none-any.whl.metadata\n",
      "  Downloading mistune-3.0.1-py3-none-any.whl.metadata (1.7 kB)\n",
      "Collecting nbclient>=0.5.0 (from nbconvert)\n",
      "  Obtaining dependency information for nbclient>=0.5.0 from https://files.pythonhosted.org/packages/ac/5a/d670ca51e6c3d98574b9647599821590efcd811d71f58e9c89fc59a17685/nbclient-0.8.0-py3-none-any.whl.metadata\n",
      "  Downloading nbclient-0.8.0-py3-none-any.whl.metadata (7.8 kB)\n",
      "Requirement already satisfied: nbformat>=5.7 in c:\\users\\gabriel-pc\\bootcamp-data-science\\.venv\\lib\\site-packages (from nbconvert) (5.9.2)\n",
      "Requirement already satisfied: packaging in c:\\users\\gabriel-pc\\bootcamp-data-science\\.venv\\lib\\site-packages (from nbconvert) (23.1)\n",
      "Collecting pandocfilters>=1.4.1 (from nbconvert)\n",
      "  Using cached pandocfilters-1.5.0-py2.py3-none-any.whl (8.7 kB)\n",
      "Requirement already satisfied: pygments>=2.4.1 in c:\\users\\gabriel-pc\\bootcamp-data-science\\.venv\\lib\\site-packages (from nbconvert) (2.16.1)\n",
      "Collecting tinycss2 (from nbconvert)\n",
      "  Using cached tinycss2-1.2.1-py3-none-any.whl (21 kB)\n",
      "Requirement already satisfied: traitlets>=5.1 in c:\\users\\gabriel-pc\\bootcamp-data-science\\.venv\\lib\\site-packages (from nbconvert) (5.9.0)\n",
      "Requirement already satisfied: six>=1.9.0 in c:\\users\\gabriel-pc\\bootcamp-data-science\\.venv\\lib\\site-packages (from bleach!=5.0.0->nbconvert) (1.16.0)\n",
      "Requirement already satisfied: webencodings in c:\\users\\gabriel-pc\\bootcamp-data-science\\.venv\\lib\\site-packages (from bleach!=5.0.0->nbconvert) (0.5.1)\n",
      "Requirement already satisfied: platformdirs>=2.5 in c:\\users\\gabriel-pc\\bootcamp-data-science\\.venv\\lib\\site-packages (from jupyter-core>=4.7->nbconvert) (3.10.0)\n",
      "Requirement already satisfied: pywin32>=300 in c:\\users\\gabriel-pc\\bootcamp-data-science\\.venv\\lib\\site-packages (from jupyter-core>=4.7->nbconvert) (306)\n",
      "Requirement already satisfied: jupyter-client>=6.1.12 in c:\\users\\gabriel-pc\\bootcamp-data-science\\.venv\\lib\\site-packages (from nbclient>=0.5.0->nbconvert) (8.3.0)\n",
      "Requirement already satisfied: fastjsonschema in c:\\users\\gabriel-pc\\bootcamp-data-science\\.venv\\lib\\site-packages (from nbformat>=5.7->nbconvert) (2.18.0)\n",
      "Requirement already satisfied: jsonschema>=2.6 in c:\\users\\gabriel-pc\\bootcamp-data-science\\.venv\\lib\\site-packages (from nbformat>=5.7->nbconvert) (4.19.0)\n",
      "Requirement already satisfied: soupsieve>1.2 in c:\\users\\gabriel-pc\\bootcamp-data-science\\.venv\\lib\\site-packages (from beautifulsoup4->nbconvert) (2.4.1)\n",
      "Requirement already satisfied: attrs>=22.2.0 in c:\\users\\gabriel-pc\\bootcamp-data-science\\.venv\\lib\\site-packages (from jsonschema>=2.6->nbformat>=5.7->nbconvert) (23.1.0)\n",
      "Requirement already satisfied: jsonschema-specifications>=2023.03.6 in c:\\users\\gabriel-pc\\bootcamp-data-science\\.venv\\lib\\site-packages (from jsonschema>=2.6->nbformat>=5.7->nbconvert) (2023.7.1)\n",
      "Requirement already satisfied: referencing>=0.28.4 in c:\\users\\gabriel-pc\\bootcamp-data-science\\.venv\\lib\\site-packages (from jsonschema>=2.6->nbformat>=5.7->nbconvert) (0.30.2)\n",
      "Requirement already satisfied: rpds-py>=0.7.1 in c:\\users\\gabriel-pc\\bootcamp-data-science\\.venv\\lib\\site-packages (from jsonschema>=2.6->nbformat>=5.7->nbconvert) (0.9.2)\n",
      "Requirement already satisfied: python-dateutil>=2.8.2 in c:\\users\\gabriel-pc\\bootcamp-data-science\\.venv\\lib\\site-packages (from jupyter-client>=6.1.12->nbclient>=0.5.0->nbconvert) (2.8.2)\n",
      "Requirement already satisfied: pyzmq>=23.0 in c:\\users\\gabriel-pc\\bootcamp-data-science\\.venv\\lib\\site-packages (from jupyter-client>=6.1.12->nbclient>=0.5.0->nbconvert) (25.1.1)\n",
      "Requirement already satisfied: tornado>=6.2 in c:\\users\\gabriel-pc\\bootcamp-data-science\\.venv\\lib\\site-packages (from jupyter-client>=6.1.12->nbclient>=0.5.0->nbconvert) (6.3.3)\n",
      "Using cached nbconvert-7.8.0-py3-none-any.whl (254 kB)\n",
      "Using cached MarkupSafe-2.1.3-cp310-cp310-win_amd64.whl (17 kB)\n",
      "Using cached mistune-3.0.1-py3-none-any.whl (47 kB)\n",
      "Using cached nbclient-0.8.0-py3-none-any.whl (73 kB)\n",
      "Installing collected packages: tinycss2, pandocfilters, mistune, markupsafe, jupyterlab-pygments, defusedxml, bleach, jinja2, nbclient, nbconvert\n",
      "Successfully installed bleach-6.0.0 defusedxml-0.7.1 jinja2-3.1.2 jupyterlab-pygments-0.2.2 markupsafe-2.1.3 mistune-3.0.1 nbclient-0.8.0 nbconvert-7.8.0 pandocfilters-1.5.0 tinycss2-1.2.1\n"
     ]
    }
   ],
   "source": [
    "! pip install nbconvert"
   ]
  }
 ],
 "metadata": {
  "kernelspec": {
   "display_name": ".venv",
   "language": "python",
   "name": "python3"
  },
  "language_info": {
   "codemirror_mode": {
    "name": "ipython",
    "version": 3
   },
   "file_extension": ".py",
   "mimetype": "text/x-python",
   "name": "python",
   "nbconvert_exporter": "python",
   "pygments_lexer": "ipython3",
   "version": "3.10.0"
  },
  "orig_nbformat": 4
 },
 "nbformat": 4,
 "nbformat_minor": 2
}
