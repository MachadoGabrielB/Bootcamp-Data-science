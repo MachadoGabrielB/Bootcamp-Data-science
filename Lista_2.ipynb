{
  "nbformat": 4,
  "nbformat_minor": 0,
  "metadata": {
    "colab": {
      "provenance": [],
      "authorship_tag": "ABX9TyPm5FEjF6NI024DGWEjxcWz",
      "include_colab_link": true
    },
    "kernelspec": {
      "name": "python3",
      "display_name": "Python 3"
    }
  },
  "cells": [
    {
      "cell_type": "markdown",
      "metadata": {
        "id": "view-in-github",
        "colab_type": "text"
      },
      "source": [
        "<a href=\"https://colab.research.google.com/github/CharlesPrado23/Bootcamp_TurmaNoite/blob/main/Conteudo_02/Lista_2.ipynb\" target=\"_parent\"><img src=\"https://colab.research.google.com/assets/colab-badge.svg\" alt=\"Open In Colab\"/></a>"
      ]
    },
    {
      "cell_type": "markdown",
      "metadata": {
        "id": "wqFIo-c2mOYV"
      },
      "source": [
        "1) Dado a lista, abaixo, de temperaturas da cidade de Boulder em Fahrenheit (F):\n",
        "\n",
        " 1.1) Crie uma lista convertendo para Celsius (C). Para converter use a fórmula C = (F-32)*(5/9); Print os valores na tela. \n",
        " \n",
        " 1.2) Crie uma função que receba a lista de temperaturas em Fahrenheit e retorna uma lista em graus Celsius. Print a lista na tela. \n",
        "\n",
        " 1.3) **(Desafio)** Generalize a função criada em 1.2 usando *args para que a função receba  uma quantidade variável de argumentos.\n",
        " \n",
        "\n",
        " F = [47,49,57,64,72,83,89,87,79,67,55,47]; (Temperaturas em F da cidade de Boulder)"
      ]
    },
    {
      "cell_type": "markdown",
      "metadata": {
        "id": "G7x5Wph8xXrU"
      },
      "source": [
        "2) Retirado do Livro Python Crash Course\n",
        " \n",
        "(a) Make a class called User. \n",
        "\n",
        "(b) Create two attributes called first_name and last_name, and then create several other attributes that are typically stored in a user profile. \n",
        "\n",
        "(c) Make a method called describe_user() that prints a summary of the user’s information. \n",
        "\n",
        "(d) Make another method called greet_user() that prints a personalized greeting to the user."
      ]
    },
    {
      "cell_type": "markdown",
      "metadata": {
        "id": "mWlXunh5G32H"
      },
      "source": [
        "(e) Add an attribute called login_attempts to your User class from Exercise. \n",
        "\n",
        "(f) Write a method called increment_login_attempts() that increments the value of login_attempts by 1. \n",
        "\n",
        "(g) Write another method called reset_login_attempts() that resets the value of login_attempts to 0.\n",
        "\n",
        "(h) Make an instance of the User class and call increment_login_attempts() several times. \n",
        "\n",
        "(i) Print the value of login_attempts to make sure it was incremented properly, and then call reset_login_attempts(). \n",
        "\n",
        "(j) Print login_attempts again to make sure it was reset to 0."
      ]
    },
    {
      "cell_type": "markdown",
      "source": [
        "3) Usando o e-book 'Alice’s Adventures in Wonderland' contido em Alice.txt: \n",
        "\n",
        "(a) Faça um programa que retorne o número total de palavras contidas no e-book; \n",
        "\n",
        "(b) Um programa que retorne um dicionário contendo a frequência de cada palavra. Por exemplo: se a palavra 'guerra' aparece 10 vezes em um texto que contém 50 palavras, então a frequência da palavra 'guerra' é de 20%. \n",
        "\n",
        "(c) Retorne as 20 palavras mais frequentes do e-book; \n",
        "\n",
        "\n",
        " "
      ],
      "metadata": {
        "id": "68nzD5bufZQB"
      }
    },
    {
      "cell_type": "code",
      "source": [],
      "metadata": {
        "id": "AruFBhDGisIm"
      },
      "execution_count": null,
      "outputs": []
    },
    {
      "cell_type": "markdown",
      "source": [
        "4) Refaça o exercício usando o conceito de Classe e Objeto. A sua Classe deve ser aplicada a qualquer contexto, não somente ao problema acima. De forma que ela seja genérica. Cada método deve representar uma única ação do Objeto e não, especificamente, uma função que executa diversas ações. Pensem em ações atômicas. Boa sorte !"
      ],
      "metadata": {
        "id": "xos0ytAnitKk"
      }
    },
    {
      "cell_type": "markdown",
      "source": [
        "5) Repare que palavras como 'it' e 'it,' serão contabilizados como palavras diferentes por causa da pontuação. Pense em uma forma de se remover possíveis pontuações. Outro caso é 'The' e 'the', que também será processado como palavras diferentes, como resolver isso ? Observe outras situações similares que precisariam de algum pré-processamento.\n",
        "\n",
        " Outro ponto a se observar é que a quantidade de palavras que são artigos, preposições, por exemplos, são muito comuns em textos. Se queremos fazer um análise de relevância de palavras presentes em textos,devemos ou não considerar estes tipos de palavras ?  "
      ],
      "metadata": {
        "id": "h5BWhASylUhr"
      }
    }
  ]
}