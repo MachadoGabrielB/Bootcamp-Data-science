{
 "cells": [
  {
   "cell_type": "markdown",
   "metadata": {},
   "source": [
    "### Simple Array Sum"
   ]
  },
  {
   "cell_type": "code",
   "execution_count": null,
   "metadata": {},
   "outputs": [],
   "source": [
    "def simpleArraySum(ar):\n",
    "    # Write your code here\n",
    "    counter = len(ar)\n",
    "    testing_num = 0\n",
    "\n",
    "    if ((counter >= 0) & (counter <= 1000)):\n",
    "\n",
    "        # testing numbers\n",
    "        for elem in ar:\n",
    "            if (( elem >= 1 ) & (elem <= 1000)):\n",
    "                testing_num += 0\n",
    "            else:\n",
    "                testing_num += 1\n",
    "        \n",
    "        if testing_num == 0:\n",
    "            res = sum(ar)\n",
    "            print(res)\n",
    "\n",
    "        else:\n",
    "            res = 'Algum elemento nao e inteiro.'\n",
    "\n",
    "    else:\n",
    "        res = 'Numero de elementos do array invalidos.'\n",
    "    \n",
    "    return res"
   ]
  }
 ],
 "metadata": {
  "language_info": {
   "name": "python"
  }
 },
 "nbformat": 4,
 "nbformat_minor": 2
}
