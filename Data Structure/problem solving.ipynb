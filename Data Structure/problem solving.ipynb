{
 "cells": [
  {
   "cell_type": "code",
   "execution_count": 6,
   "metadata": {},
   "outputs": [],
   "source": [
    "\n",
    "def solveMeFirst(a,b):\n",
    "    if ((a <= 1000) & ( a >= 1) & (b <= 1000) & ( b >= 1)):\n",
    "        c = a + b\n",
    "    else:\n",
    "        c = 'Number not between 1 and 1000'\n",
    "    return c"
   ]
  },
  {
   "cell_type": "code",
   "execution_count": 7,
   "metadata": {},
   "outputs": [
    {
     "name": "stdout",
     "output_type": "stream",
     "text": [
      "Number not between 1 and 1000\n"
     ]
    }
   ],
   "source": [
    "\n",
    "\n",
    "num1 = int(input())\n",
    "num2 = int(input())\n",
    "res = solveMeFirst(num1,num2)\n",
    "print(res)"
   ]
  },
  {
   "cell_type": "markdown",
   "metadata": {},
   "source": [
    "### Array - DS"
   ]
  },
  {
   "cell_type": "code",
   "execution_count": null,
   "metadata": {},
   "outputs": [],
   "source": [
    "import math\n",
    "import os\n",
    "import random\n",
    "import re\n",
    "import sys\n",
    "\n"
   ]
  },
  {
   "cell_type": "code",
   "execution_count": 10,
   "metadata": {},
   "outputs": [],
   "source": [
    "#\n",
    "# Complete the 'reverseArray' function below.\n",
    "#\n",
    "# The function is expected to return an INTEGER_ARRAY.\n",
    "# The function accepts INTEGER_ARRAY a as parameter.\n",
    "#\n",
    "\n",
    "def reverseArray(a):\n",
    "\n",
    "    testing_num = 0\n",
    "    count_int = len(a)\n",
    "\n",
    "    if ((count_int <= 1000 ) & ( count_int >= 1) ):\n",
    "\n",
    "        # testing numbers\n",
    "        for elem in a:\n",
    "            if (( elem >= 1 ) & (elem <= 10000)):\n",
    "                testing_num =+ 0\n",
    "            else:\n",
    "                testing_num =+ 1\n",
    "        \n",
    "        if testing_num == 0:\n",
    "            print(count_int)\n",
    "            reserved_a = reversed(a)\n",
    "            print(reserved_a)\n",
    "            res = reserved_a\n",
    "        else:\n",
    "            res = 'Some of element is invalid.'\n",
    "\n",
    "    else:\n",
    "        res = 'Number of elements invalid.'\n",
    "\n",
    "    return res"
   ]
  },
  {
   "cell_type": "markdown",
   "metadata": {},
   "source": [
    "### 2D Array - DS"
   ]
  },
  {
   "cell_type": "code",
   "execution_count": null,
   "metadata": {},
   "outputs": [],
   "source": []
  },
  {
   "cell_type": "markdown",
   "metadata": {},
   "source": [
    "### Left Rotation"
   ]
  },
  {
   "cell_type": "code",
   "execution_count": 92,
   "metadata": {},
   "outputs": [],
   "source": [
    "def rotateLeft(d, arr):\n",
    "    testing_num = 0\n",
    "    count_int = len(arr)\n",
    "    new_array = tuple(arr)\n",
    "\n",
    "    if ( (d >= 1) & ( d <= count_int)):\n",
    "        if ((count_int <= 10000 ) & ( count_int >= 1) ):\n",
    "\n",
    "            # # testing numbers\n",
    "            # for elem in arr:\n",
    "            #     if (( elem >= 1 ) & (elem <= 100000)):\n",
    "            #         testing_num += 0\n",
    "            #     else:\n",
    "            #         testing_num += 1\n",
    "            \n",
    "            if testing_num == 0:\n",
    "        \n",
    "                if d != 0:\n",
    "                    new_array = arr[d:] + arr[:d]\n",
    "                res = new_array\n",
    "\n",
    "            else:\n",
    "                res = 'Some of element is invalid.'\n",
    "\n",
    "        else:\n",
    "            res = 'Number of elements invalid.'\n",
    "    \n",
    "    else:\n",
    "        res = 'Parameters are invalid.'\n",
    "\n",
    "    return res"
   ]
  },
  {
   "cell_type": "code",
   "execution_count": null,
   "metadata": {},
   "outputs": [],
   "source": [
    "def rotateLeft(d, arr):\n",
    "    n = len(arr)\n",
    "    d = d % n  # Para lidar com casos onde d > n\n",
    "    return arr[d:] + arr[:d]"
   ]
  },
  {
   "cell_type": "code",
   "execution_count": 93,
   "metadata": {},
   "outputs": [],
   "source": [
    "testo = (1,2,3,4,5)"
   ]
  },
  {
   "cell_type": "code",
   "execution_count": 94,
   "metadata": {},
   "outputs": [
    {
     "data": {
      "text/plain": [
       "(3, 4, 5, 1, 2)"
      ]
     },
     "execution_count": 94,
     "metadata": {},
     "output_type": "execute_result"
    }
   ],
   "source": [
    "rotateLeft(2,testo)"
   ]
  },
  {
   "cell_type": "markdown",
   "metadata": {},
   "source": [
    "### Dynamic Array"
   ]
  },
  {
   "cell_type": "code",
   "execution_count": null,
   "metadata": {},
   "outputs": [],
   "source": []
  },
  {
   "cell_type": "markdown",
   "metadata": {},
   "source": [
    "### Print the elements of a linked list"
   ]
  },
  {
   "cell_type": "code",
   "execution_count": 1,
   "metadata": {},
   "outputs": [],
   "source": [
    "class SinglyLinkedListNode:\n",
    "    def __init__(self, data):\n",
    "        self.data = data\n",
    "        self.next = None\n",
    "\n",
    "def printLinkedList(head):\n",
    "    current = head\n",
    "    while current:\n",
    "        print(current.data)\n",
    "        current = current.next"
   ]
  },
  {
   "cell_type": "markdown",
   "metadata": {},
   "source": [
    "### Get Node Value"
   ]
  },
  {
   "cell_type": "code",
   "execution_count": null,
   "metadata": {},
   "outputs": [],
   "source": []
  }
 ],
 "metadata": {
  "kernelspec": {
   "display_name": ".venv",
   "language": "python",
   "name": "python3"
  },
  "language_info": {
   "codemirror_mode": {
    "name": "ipython",
    "version": 3
   },
   "file_extension": ".py",
   "mimetype": "text/x-python",
   "name": "python",
   "nbconvert_exporter": "python",
   "pygments_lexer": "ipython3",
   "version": "3.10.0"
  }
 },
 "nbformat": 4,
 "nbformat_minor": 2
}
